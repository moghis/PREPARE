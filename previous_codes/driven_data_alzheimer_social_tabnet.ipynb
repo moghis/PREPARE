{
 "cells": [
  {
   "cell_type": "markdown",
   "id": "b2e33fcc",
   "metadata": {
    "papermill": {
     "duration": 0.005508,
     "end_time": "2024-11-29T22:07:46.274391",
     "exception": false,
     "start_time": "2024-11-29T22:07:46.268883",
     "status": "completed"
    },
    "tags": []
   },
   "source": [
    "# Early prediction of Alzheimer's disease and related dementias based on social determinants using TabNet\n",
    "In this Jupyter Notebook we use social determinants to estimate a composite score, which is associated with Alzheimer's disease and related dementias. We use TabNet [1] to estimate the composite score, where higher score is better, and the maximum possible score is 384. TabNet is a transformer-based neural network tailor made for regression/classification based on tabular data. The data set have a lot of missing values. We use simple imputations using the mean for numerical variables and the most frequent for categorical variables. \n",
    "tart!"
   ]
  },
  {
   "cell_type": "markdown",
   "id": "0f3b129d",
   "metadata": {
    "papermill": {
     "duration": 0.005729,
     "end_time": "2024-11-29T22:07:46.284917",
     "exception": false,
     "start_time": "2024-11-29T22:07:46.279188",
     "status": "completed"
    },
    "tags": []
   },
   "source": [
    "## Part 1: Packages and frameworks\n",
    "First we needto oinstall and import some Python packages. In this notebook we will us ePytorc  t oimplement a TabNe model. o interpret the variables and predict the **composite_score**."
   ]
  },
  {
   "cell_type": "code",
   "execution_count": 1,
   "id": "0c99045a",
   "metadata": {
    "execution": {
     "iopub.execute_input": "2024-11-29T22:07:46.295968Z",
     "iopub.status.busy": "2024-11-29T22:07:46.295563Z",
     "iopub.status.idle": "2024-11-29T22:07:55.747512Z",
     "shell.execute_reply": "2024-11-29T22:07:55.746524Z"
    },
    "papermill": {
     "duration": 9.460244,
     "end_time": "2024-11-29T22:07:55.749732",
     "exception": false,
     "start_time": "2024-11-29T22:07:46.289488",
     "status": "completed"
    },
    "tags": []
   },
   "outputs": [],
   "source": [
    "%%capture\n",
    "!pip install pytorch-tabnet"
   ]
  },
  {
   "cell_type": "code",
   "execution_count": 2,
   "id": "f3f79297",
   "metadata": {
    "execution": {
     "iopub.execute_input": "2024-11-29T22:07:55.761114Z",
     "iopub.status.busy": "2024-11-29T22:07:55.760839Z",
     "iopub.status.idle": "2024-11-29T22:08:00.594486Z",
     "shell.execute_reply": "2024-11-29T22:08:00.593526Z"
    },
    "papermill": {
     "duration": 4.841631,
     "end_time": "2024-11-29T22:08:00.596487",
     "exception": false,
     "start_time": "2024-11-29T22:07:55.754856",
     "status": "completed"
    },
    "tags": []
   },
   "outputs": [],
   "source": [
    "import json\n",
    "import torch\n",
    "import pandas as pd\n",
    "import numpy as np\n",
    "import matplotlib.pyplot as plt\n",
    "from sklearn.model_selection import train_test_split, GridSearchCV\n",
    "from sklearn.impute import SimpleImputer\n",
    "from sklearn.metrics import mean_squared_error\n",
    "from pytorch_tabnet.tab_model import TabNetRegressor\n",
    "from sklearn.preprocessing import LabelEncoder, StandardScaler"
   ]
  },
  {
   "cell_type": "markdown",
   "id": "8b2f4028",
   "metadata": {
    "papermill": {
     "duration": 0.004583,
     "end_time": "2024-11-29T22:08:00.605927",
     "exception": false,
     "start_time": "2024-11-29T22:08:00.601344",
     "status": "completed"
    },
    "tags": []
   },
   "source": [
    "## Part 2: Load data\n",
    "In this part we load and do some initial exploration of the data"
   ]
  },
  {
   "cell_type": "code",
   "execution_count": 4,
   "id": "a769b925",
   "metadata": {
    "execution": {
     "iopub.execute_input": "2024-11-29T22:08:00.616434Z",
     "iopub.status.busy": "2024-11-29T22:08:00.615985Z",
     "iopub.status.idle": "2024-11-29T22:08:00.847251Z",
     "shell.execute_reply": "2024-11-29T22:08:00.846254Z"
    },
    "papermill": {
     "duration": 0.238889,
     "end_time": "2024-11-29T22:08:00.849335",
     "exception": false,
     "start_time": "2024-11-29T22:08:00.610446",
     "status": "completed"
    },
    "tags": []
   },
   "outputs": [],
   "source": [
    "# Load datasets\n",
    "train_features = pd.read_csv('dataset/train_features.csv') # load train features\n",
    "train_labels = pd.read_csv('dataset/train_labels.csv') # load train labels\n",
    "test_features = pd.read_csv('dataset/test_features.csv') # loead test features\n",
    "submission_format = pd.read_csv('dataset/submission_format.csv') # submission format"
   ]
  },
  {
   "cell_type": "code",
   "execution_count": 5,
   "id": "7e92be12",
   "metadata": {
    "execution": {
     "iopub.execute_input": "2024-11-29T22:08:00.860688Z",
     "iopub.status.busy": "2024-11-29T22:08:00.860406Z",
     "iopub.status.idle": "2024-11-29T22:08:00.865165Z",
     "shell.execute_reply": "2024-11-29T22:08:00.864334Z"
    },
    "papermill": {
     "duration": 0.012361,
     "end_time": "2024-11-29T22:08:00.866850",
     "exception": false,
     "start_time": "2024-11-29T22:08:00.854489",
     "status": "completed"
    },
    "tags": []
   },
   "outputs": [
    {
     "name": "stdout",
     "output_type": "stream",
     "text": [
      "In the training data we have 184 columns\n",
      "In the test data we have 184 columns\n"
     ]
    }
   ],
   "source": [
    "print(f\"In the training data we have \" + str(train_features.shape[1]) + \" columns\")\n",
    "print(f\"In the test data we have \" + str(test_features.shape[1]) + \" columns\")"
   ]
  },
  {
   "cell_type": "code",
   "execution_count": 6,
   "id": "335ee46d",
   "metadata": {
    "execution": {
     "iopub.execute_input": "2024-11-29T22:08:00.877428Z",
     "iopub.status.busy": "2024-11-29T22:08:00.877158Z",
     "iopub.status.idle": "2024-11-29T22:08:00.889403Z",
     "shell.execute_reply": "2024-11-29T22:08:00.888583Z"
    },
    "papermill": {
     "duration": 0.019512,
     "end_time": "2024-11-29T22:08:00.891103",
     "exception": false,
     "start_time": "2024-11-29T22:08:00.871591",
     "status": "completed"
    },
    "tags": []
   },
   "outputs": [
    {
     "name": "stdout",
     "output_type": "stream",
     "text": [
      "In the training data we have 3276 unique pasients and there are 3276 rows in the training data\n",
      "In the label data we have 3276 unique pasients and there are 4343 rows in the training data\n"
     ]
    }
   ],
   "source": [
    "print(f\"In the training data we have \" + str(train_features[\"uid\"].nunique()) + \" unique pasients and there are \" + str(train_features.shape[0]) + \" rows in the training data\")\n",
    "print(f\"In the label data we have \" + str(train_labels[\"uid\"].nunique()) + \" unique pasients and there are \" + str(train_labels.shape[0]) + \" rows in the training data\")"
   ]
  },
  {
   "cell_type": "markdown",
   "id": "c24d60d0",
   "metadata": {
    "papermill": {
     "duration": 0.004711,
     "end_time": "2024-11-29T22:08:00.900586",
     "exception": false,
     "start_time": "2024-11-29T22:08:00.895875",
     "status": "completed"
    },
    "tags": []
   },
   "source": [
    "We see that there are more rows in the label file than we have rows in the train features. This is because we want to estimate the composite score for 2016 (4 years in the future) and 2021 (9 years in the future) for some patients. This is also the cas for the test data:"
   ]
  },
  {
   "cell_type": "code",
   "execution_count": 7,
   "id": "25733ec5",
   "metadata": {
    "execution": {
     "iopub.execute_input": "2024-11-29T22:08:00.910940Z",
     "iopub.status.busy": "2024-11-29T22:08:00.910709Z",
     "iopub.status.idle": "2024-11-29T22:08:00.916112Z",
     "shell.execute_reply": "2024-11-29T22:08:00.915220Z"
    },
    "papermill": {
     "duration": 0.012569,
     "end_time": "2024-11-29T22:08:00.917899",
     "exception": false,
     "start_time": "2024-11-29T22:08:00.905330",
     "status": "completed"
    },
    "tags": []
   },
   "outputs": [
    {
     "name": "stdout",
     "output_type": "stream",
     "text": [
      "In the training data we have 819 unique pasients and there are 819 rows in the training data\n",
      "In the label data we have 819 unique pasients and there are 1105 rows in the training data\n"
     ]
    }
   ],
   "source": [
    "print(f\"In the training data we have \" + str(test_features[\"uid\"].nunique()) + \" unique pasients and there are \" + str(test_features.shape[0]) + \" rows in the training data\")\n",
    "print(f\"In the label data we have \" + str(submission_format[\"uid\"].nunique()) + \" unique pasients and there are \" + str(submission_format.shape[0]) + \" rows in the training data\")"
   ]
  },
  {
   "cell_type": "code",
   "execution_count": 8,
   "id": "f66c472c",
   "metadata": {
    "execution": {
     "iopub.execute_input": "2024-11-29T22:08:00.928302Z",
     "iopub.status.busy": "2024-11-29T22:08:00.928037Z",
     "iopub.status.idle": "2024-11-29T22:08:00.943888Z",
     "shell.execute_reply": "2024-11-29T22:08:00.943101Z"
    },
    "papermill": {
     "duration": 0.022837,
     "end_time": "2024-11-29T22:08:00.945403",
     "exception": false,
     "start_time": "2024-11-29T22:08:00.922566",
     "status": "completed"
    },
    "tags": []
   },
   "outputs": [
    {
     "data": {
      "text/plain": [
       "year\n",
       "False    2209\n",
       "True     1067\n",
       "Name: count, dtype: int64"
      ]
     },
     "execution_count": 8,
     "metadata": {},
     "output_type": "execute_result"
    }
   ],
   "source": [
    "# Count number of patinents with composite score at both 2016 and 2021 in the training data\n",
    "(train_labels.groupby(\"uid\").count()[\"year\"] == 2).value_counts()"
   ]
  },
  {
   "cell_type": "code",
   "execution_count": 9,
   "id": "bdbda68a",
   "metadata": {
    "execution": {
     "iopub.execute_input": "2024-11-29T22:08:00.956057Z",
     "iopub.status.busy": "2024-11-29T22:08:00.955838Z",
     "iopub.status.idle": "2024-11-29T22:08:00.963377Z",
     "shell.execute_reply": "2024-11-29T22:08:00.962733Z"
    },
    "papermill": {
     "duration": 0.014587,
     "end_time": "2024-11-29T22:08:00.964850",
     "exception": false,
     "start_time": "2024-11-29T22:08:00.950263",
     "status": "completed"
    },
    "tags": []
   },
   "outputs": [
    {
     "data": {
      "text/plain": [
       "year\n",
       "False    533\n",
       "True     286\n",
       "Name: count, dtype: int64"
      ]
     },
     "execution_count": 9,
     "metadata": {},
     "output_type": "execute_result"
    }
   ],
   "source": [
    "# Count number of patinents we need to predict composite for both 2016 and 2021 in the test data\n",
    "(submission_format.groupby(\"uid\").count()[\"year\"] == 2).value_counts()"
   ]
  },
  {
   "cell_type": "markdown",
   "id": "ee899610",
   "metadata": {
    "papermill": {
     "duration": 0.004732,
     "end_time": "2024-11-29T22:08:00.974557",
     "exception": false,
     "start_time": "2024-11-29T22:08:00.969825",
     "status": "completed"
    },
    "tags": []
   },
   "source": [
    "Exploring missing values"
   ]
  },
  {
   "cell_type": "code",
   "execution_count": 10,
   "id": "90b8d818",
   "metadata": {
    "execution": {
     "iopub.execute_input": "2024-11-29T22:08:00.985560Z",
     "iopub.status.busy": "2024-11-29T22:08:00.985309Z",
     "iopub.status.idle": "2024-11-29T22:08:00.998619Z",
     "shell.execute_reply": "2024-11-29T22:08:00.997821Z"
    },
    "papermill": {
     "duration": 0.020612,
     "end_time": "2024-11-29T22:08:01.000310",
     "exception": false,
     "start_time": "2024-11-29T22:08:00.979698",
     "status": "completed"
    },
    "tags": []
   },
   "outputs": [
    {
     "data": {
      "text/plain": [
       "True     182\n",
       "False      2\n",
       "Name: count, dtype: int64"
      ]
     },
     "execution_count": 10,
     "metadata": {},
     "output_type": "execute_result"
    }
   ],
   "source": [
    "# How many columns have at least one missing value (training data)\n",
    "(train_features.isna().sum() != 0).value_counts()"
   ]
  },
  {
   "cell_type": "code",
   "execution_count": 11,
   "id": "9fb4c4f1",
   "metadata": {
    "execution": {
     "iopub.execute_input": "2024-11-29T22:08:01.011293Z",
     "iopub.status.busy": "2024-11-29T22:08:01.011014Z",
     "iopub.status.idle": "2024-11-29T22:08:01.019565Z",
     "shell.execute_reply": "2024-11-29T22:08:01.018771Z"
    },
    "papermill": {
     "duration": 0.015671,
     "end_time": "2024-11-29T22:08:01.021077",
     "exception": false,
     "start_time": "2024-11-29T22:08:01.005406",
     "status": "completed"
    },
    "tags": []
   },
   "outputs": [
    {
     "data": {
      "text/plain": [
       "True     182\n",
       "False      2\n",
       "Name: count, dtype: int64"
      ]
     },
     "execution_count": 11,
     "metadata": {},
     "output_type": "execute_result"
    }
   ],
   "source": [
    "# How many columns have at least one missing value (test data)\n",
    "(test_features.isna().sum() != 0).value_counts()"
   ]
  },
  {
   "cell_type": "code",
   "execution_count": 12,
   "id": "6038264e",
   "metadata": {
    "execution": {
     "iopub.execute_input": "2024-11-29T22:08:01.032255Z",
     "iopub.status.busy": "2024-11-29T22:08:01.031978Z",
     "iopub.status.idle": "2024-11-29T22:08:01.043718Z",
     "shell.execute_reply": "2024-11-29T22:08:01.042957Z"
    },
    "papermill": {
     "duration": 0.01917,
     "end_time": "2024-11-29T22:08:01.045515",
     "exception": false,
     "start_time": "2024-11-29T22:08:01.026345",
     "status": "completed"
    },
    "tags": []
   },
   "outputs": [
    {
     "data": {
      "text/plain": [
       "22.45"
      ]
     },
     "execution_count": 12,
     "metadata": {},
     "output_type": "execute_result"
    }
   ],
   "source": [
    "round((train_features.isna().sum().sum() / (train_features.shape[0]*train_features.shape[1]))*100,2)"
   ]
  },
  {
   "cell_type": "code",
   "execution_count": 13,
   "id": "7a207c93",
   "metadata": {
    "execution": {
     "iopub.execute_input": "2024-11-29T22:08:01.057177Z",
     "iopub.status.busy": "2024-11-29T22:08:01.056657Z",
     "iopub.status.idle": "2024-11-29T22:08:01.067372Z",
     "shell.execute_reply": "2024-11-29T22:08:01.066584Z"
    },
    "papermill": {
     "duration": 0.018245,
     "end_time": "2024-11-29T22:08:01.068941",
     "exception": false,
     "start_time": "2024-11-29T22:08:01.050696",
     "status": "completed"
    },
    "tags": []
   },
   "outputs": [
    {
     "name": "stdout",
     "output_type": "stream",
     "text": [
      "In total there are 22.45 % missing values in the training data\n"
     ]
    }
   ],
   "source": [
    "print(\"In total there are \" + str(round((train_features.isna().sum().sum() / (train_features.shape[0]*train_features.shape[1]))*100,2)) + \" % missing values in the training data\")"
   ]
  },
  {
   "cell_type": "code",
   "execution_count": 14,
   "id": "cc275ce6",
   "metadata": {
    "execution": {
     "iopub.execute_input": "2024-11-29T22:08:01.079896Z",
     "iopub.status.busy": "2024-11-29T22:08:01.079678Z",
     "iopub.status.idle": "2024-11-29T22:08:01.087047Z",
     "shell.execute_reply": "2024-11-29T22:08:01.086092Z"
    },
    "papermill": {
     "duration": 0.014668,
     "end_time": "2024-11-29T22:08:01.088667",
     "exception": false,
     "start_time": "2024-11-29T22:08:01.073999",
     "status": "completed"
    },
    "tags": []
   },
   "outputs": [
    {
     "name": "stdout",
     "output_type": "stream",
     "text": [
      "In total there are 21.92 % missing values in the test data\n"
     ]
    }
   ],
   "source": [
    "print(\"In total there are \" + str(round((test_features.isna().sum().sum() / (test_features.shape[0]*test_features.shape[1]))*100,2)) + \" % missing values in the test data\")"
   ]
  },
  {
   "cell_type": "markdown",
   "id": "3401bae8",
   "metadata": {
    "papermill": {
     "duration": 0.005064,
     "end_time": "2024-11-29T22:08:01.098962",
     "exception": false,
     "start_time": "2024-11-29T22:08:01.093898",
     "status": "completed"
    },
    "tags": []
   },
   "source": [
    "## Part 3: Preprocessing\n",
    "In this part we preprocess the data based on our findings in part 2"
   ]
  },
  {
   "cell_type": "code",
   "execution_count": 15,
   "id": "ad4104e7",
   "metadata": {
    "execution": {
     "iopub.execute_input": "2024-11-29T22:08:01.110143Z",
     "iopub.status.busy": "2024-11-29T22:08:01.109878Z",
     "iopub.status.idle": "2024-11-29T22:08:01.131323Z",
     "shell.execute_reply": "2024-11-29T22:08:01.130621Z"
    },
    "papermill": {
     "duration": 0.02925,
     "end_time": "2024-11-29T22:08:01.133232",
     "exception": false,
     "start_time": "2024-11-29T22:08:01.103982",
     "status": "completed"
    },
    "tags": []
   },
   "outputs": [],
   "source": [
    "# duplicate features where we need to estimate composite score for both 2016 and 2021 (training data)\n",
    "train_data = train_labels.merge(train_features, on=\"uid\")\n",
    "train_data[\"pred_year\"] = train_data[\"year\"]-2012"
   ]
  },
  {
   "cell_type": "code",
   "execution_count": 16,
   "id": "dc2bceba",
   "metadata": {
    "execution": {
     "iopub.execute_input": "2024-11-29T22:08:01.145798Z",
     "iopub.status.busy": "2024-11-29T22:08:01.145514Z",
     "iopub.status.idle": "2024-11-29T22:08:01.154497Z",
     "shell.execute_reply": "2024-11-29T22:08:01.153891Z"
    },
    "papermill": {
     "duration": 0.016586,
     "end_time": "2024-11-29T22:08:01.155939",
     "exception": false,
     "start_time": "2024-11-29T22:08:01.139353",
     "status": "completed"
    },
    "tags": []
   },
   "outputs": [],
   "source": [
    "# duplicate features where we need to estimate composite score for both 2016 and 2021 (test data)\n",
    "aligned_test_features = submission_format[[\"uid\",\"year\"]].merge(test_features, on=\"uid\")\n",
    "aligned_test_features[\"pred_year\"] = aligned_test_features[\"year\"]-2012"
   ]
  },
  {
   "cell_type": "code",
   "execution_count": null,
   "id": "0b9f510e",
   "metadata": {
    "execution": {
     "iopub.execute_input": "2024-11-29T22:08:01.169497Z",
     "iopub.status.busy": "2024-11-29T22:08:01.169244Z",
     "iopub.status.idle": "2024-11-29T22:08:01.177570Z",
     "shell.execute_reply": "2024-11-29T22:08:01.176663Z"
    },
    "papermill": {
     "duration": 0.017887,
     "end_time": "2024-11-29T22:08:01.179122",
     "exception": false,
     "start_time": "2024-11-29T22:08:01.161235",
     "status": "completed"
    },
    "tags": []
   },
   "outputs": [],
   "source": [
    "# Separate features and target variable\n",
    "X = train_data.drop(columns=['uid', 'year', 'composite_score']) # train_data.drop(columns=['uid', 'year', 'composite_score'])\n",
    "y = train_data['composite_score']"
   ]
  },
  {
   "cell_type": "code",
   "execution_count": 18,
   "id": "48fc9ca6",
   "metadata": {
    "execution": {
     "iopub.execute_input": "2024-11-29T22:08:01.190869Z",
     "iopub.status.busy": "2024-11-29T22:08:01.190618Z",
     "iopub.status.idle": "2024-11-29T22:08:01.194238Z",
     "shell.execute_reply": "2024-11-29T22:08:01.193614Z"
    },
    "papermill": {
     "duration": 0.011173,
     "end_time": "2024-11-29T22:08:01.195704",
     "exception": false,
     "start_time": "2024-11-29T22:08:01.184531",
     "status": "completed"
    },
    "tags": []
   },
   "outputs": [],
   "source": [
    "# Handle missing values\n",
    "num_imputer = SimpleImputer(strategy='mean')\n",
    "cat_imputer = SimpleImputer(strategy='most_frequent')"
   ]
  },
  {
   "cell_type": "code",
   "execution_count": 19,
   "id": "3ae478bb",
   "metadata": {
    "execution": {
     "iopub.execute_input": "2024-11-29T22:08:01.207010Z",
     "iopub.status.busy": "2024-11-29T22:08:01.206762Z",
     "iopub.status.idle": "2024-11-29T22:08:01.215579Z",
     "shell.execute_reply": "2024-11-29T22:08:01.214475Z"
    },
    "papermill": {
     "duration": 0.016404,
     "end_time": "2024-11-29T22:08:01.217274",
     "exception": false,
     "start_time": "2024-11-29T22:08:01.200870",
     "status": "completed"
    },
    "tags": []
   },
   "outputs": [],
   "source": [
    "# Select numerical and categorical columns\n",
    "num_cols = X.select_dtypes(include=['float64', 'int64']).columns\n",
    "cat_cols = X.select_dtypes(include=['object']).columns"
   ]
  },
  {
   "cell_type": "code",
   "execution_count": 20,
   "id": "2997e66e",
   "metadata": {
    "execution": {
     "iopub.execute_input": "2024-11-29T22:08:01.229035Z",
     "iopub.status.busy": "2024-11-29T22:08:01.228778Z",
     "iopub.status.idle": "2024-11-29T22:08:01.307158Z",
     "shell.execute_reply": "2024-11-29T22:08:01.305897Z"
    },
    "papermill": {
     "duration": 0.087601,
     "end_time": "2024-11-29T22:08:01.310489",
     "exception": false,
     "start_time": "2024-11-29T22:08:01.222888",
     "status": "completed"
    },
    "tags": []
   },
   "outputs": [],
   "source": [
    "# Impute training features\n",
    "X[num_cols] = num_imputer.fit_transform(X[num_cols])\n",
    "X[cat_cols] = cat_imputer.fit_transform(X[cat_cols])"
   ]
  },
  {
   "cell_type": "code",
   "execution_count": 21,
   "id": "c1304eec",
   "metadata": {
    "execution": {
     "iopub.execute_input": "2024-11-29T22:08:01.326767Z",
     "iopub.status.busy": "2024-11-29T22:08:01.326468Z",
     "iopub.status.idle": "2024-11-29T22:08:01.383223Z",
     "shell.execute_reply": "2024-11-29T22:08:01.382474Z"
    },
    "papermill": {
     "duration": 0.065031,
     "end_time": "2024-11-29T22:08:01.384861",
     "exception": false,
     "start_time": "2024-11-29T22:08:01.319830",
     "status": "completed"
    },
    "tags": []
   },
   "outputs": [],
   "source": [
    "# Encode categorical variables\n",
    "label_encoders = {}\n",
    "for col in cat_cols:\n",
    "    le = LabelEncoder()\n",
    "    X[col] = le.fit_transform(X[col])\n",
    "    label_encoders[col] = le"
   ]
  },
  {
   "cell_type": "code",
   "execution_count": 22,
   "id": "f68f417e",
   "metadata": {
    "execution": {
     "iopub.execute_input": "2024-11-29T22:08:01.397058Z",
     "iopub.status.busy": "2024-11-29T22:08:01.396785Z",
     "iopub.status.idle": "2024-11-29T22:08:01.415055Z",
     "shell.execute_reply": "2024-11-29T22:08:01.414248Z"
    },
    "papermill": {
     "duration": 0.026212,
     "end_time": "2024-11-29T22:08:01.416789",
     "exception": false,
     "start_time": "2024-11-29T22:08:01.390577",
     "status": "completed"
    },
    "tags": []
   },
   "outputs": [],
   "source": [
    "# Split data into training and validation sets\n",
    "X_train, X_val, y_train, y_val = train_test_split(X, y, test_size=0.2, random_state=42)"
   ]
  },
  {
   "cell_type": "markdown",
   "id": "9227dc99",
   "metadata": {
    "papermill": {
     "duration": 0.005077,
     "end_time": "2024-11-29T22:08:01.427396",
     "exception": false,
     "start_time": "2024-11-29T22:08:01.422319",
     "status": "completed"
    },
    "tags": []
   },
   "source": [
    "## Part 4: Initialize model and start training\n",
    "Here we initialize our TabNet model and start the training. We continously validate our model on the validation set for each epoch"
   ]
  },
  {
   "cell_type": "code",
   "execution_count": null,
   "id": "19224861",
   "metadata": {
    "execution": {
     "iopub.execute_input": "2024-11-29T22:08:01.438978Z",
     "iopub.status.busy": "2024-11-29T22:08:01.438706Z",
     "iopub.status.idle": "2024-11-29T22:08:12.689561Z",
     "shell.execute_reply": "2024-11-29T22:08:12.688288Z"
    },
    "papermill": {
     "duration": 11.25888,
     "end_time": "2024-11-29T22:08:12.691463",
     "exception": false,
     "start_time": "2024-11-29T22:08:01.432583",
     "status": "completed"
    },
    "tags": []
   },
   "outputs": [
    {
     "name": "stderr",
     "output_type": "stream",
     "text": [
      "/u/spa-d4/grad/mfe261/Projects/PREPARE/envs/lib/python3.9/site-packages/pytorch_tabnet/abstract_model.py:82: UserWarning: Device used : cuda\n",
      "  warnings.warn(f\"Device used : {self.device}\")\n"
     ]
    },
    {
     "name": "stdout",
     "output_type": "stream",
     "text": [
      "epoch 0  | loss: 27772.97882| val_0_rmse: 364.24076| val_1_rmse: 362.62515|  0:00:06s\n",
      "epoch 1  | loss: 25746.66436| val_0_rmse: 1189.28869| val_1_rmse: 1189.72465|  0:00:06s\n",
      "epoch 2  | loss: 22131.63837| val_0_rmse: 442.61707| val_1_rmse: 450.47517|  0:00:06s\n",
      "epoch 3  | loss: 16583.43096| val_0_rmse: 2892.20303| val_1_rmse: 2900.39649|  0:00:07s\n",
      "epoch 4  | loss: 10510.3039| val_0_rmse: 2617.58171| val_1_rmse: 2617.6321|  0:00:07s\n",
      "epoch 5  | loss: 5684.32283| val_0_rmse: 3222.36787| val_1_rmse: 3221.00857|  0:00:08s\n",
      "epoch 6  | loss: 3247.88749| val_0_rmse: 438.30011| val_1_rmse: 413.19221|  0:00:08s\n",
      "epoch 7  | loss: 2649.79549| val_0_rmse: 60.66295| val_1_rmse: 58.09955|  0:00:09s\n",
      "epoch 8  | loss: 2423.52051| val_0_rmse: 60.92015| val_1_rmse: 58.83104|  0:00:09s\n",
      "epoch 9  | loss: 2318.90805| val_0_rmse: 61.42183| val_1_rmse: 59.4533 |  0:00:10s\n",
      "epoch 10 | loss: 2213.03895| val_0_rmse: 64.87035| val_1_rmse: 58.70809|  0:00:10s\n",
      "epoch 11 | loss: 2081.13734| val_0_rmse: 133.22496| val_1_rmse: 87.89067|  0:00:11s\n",
      "epoch 12 | loss: 1952.57806| val_0_rmse: 75.61927| val_1_rmse: 58.39005|  0:00:11s\n",
      "epoch 13 | loss: 1798.32293| val_0_rmse: 67.79137| val_1_rmse: 58.07322|  0:00:11s\n",
      "epoch 14 | loss: 1846.93278| val_0_rmse: 63.03437| val_1_rmse: 60.42539|  0:00:12s\n",
      "epoch 15 | loss: 1715.93851| val_0_rmse: 60.74722| val_1_rmse: 59.18215|  0:00:12s\n",
      "epoch 16 | loss: 1640.89081| val_0_rmse: 60.20868| val_1_rmse: 58.03038|  0:00:13s\n",
      "epoch 17 | loss: 1599.7237| val_0_rmse: 61.77762| val_1_rmse: 59.63116|  0:00:13s\n",
      "epoch 18 | loss: 1596.6985| val_0_rmse: 61.38313| val_1_rmse: 59.15736|  0:00:14s\n",
      "epoch 19 | loss: 1536.8623| val_0_rmse: 62.59664| val_1_rmse: 60.10912|  0:00:14s\n",
      "epoch 20 | loss: 1544.92313| val_0_rmse: 64.50686| val_1_rmse: 63.23089|  0:00:15s\n",
      "epoch 21 | loss: 1470.85581| val_0_rmse: 61.03504| val_1_rmse: 59.44069|  0:00:15s\n",
      "epoch 22 | loss: 1433.65882| val_0_rmse: 66.99031| val_1_rmse: 66.65419|  0:00:16s\n",
      "epoch 23 | loss: 1406.06636| val_0_rmse: 73.92671| val_1_rmse: 73.54965|  0:00:16s\n",
      "epoch 24 | loss: 1404.58179| val_0_rmse: 80.57752| val_1_rmse: 79.58398|  0:00:17s\n",
      "epoch 25 | loss: 1371.56543| val_0_rmse: 73.92055| val_1_rmse: 73.25643|  0:00:17s\n",
      "epoch 26 | loss: 1362.17507| val_0_rmse: 71.35689| val_1_rmse: 70.02141|  0:00:18s\n",
      "\n",
      "Early stopping occurred at epoch 26 with best_epoch = 16 and best_val_1_rmse = 58.03038\n"
     ]
    },
    {
     "name": "stderr",
     "output_type": "stream",
     "text": [
      "/u/spa-d4/grad/mfe261/Projects/PREPARE/envs/lib/python3.9/site-packages/pytorch_tabnet/callbacks.py:172: UserWarning: Best weights from best epoch are automatically used!\n",
      "  warnings.warn(wrn_msg)\n"
     ]
    },
    {
     "name": "stdout",
     "output_type": "stream",
     "text": [
      "Validation RMSE: 58.03038024812043\n"
     ]
    }
   ],
   "source": [
    "# Initialize TabNet with regularization parameters\n",
    "tabnet = TabNetRegressor(\n",
    "    # Increase lambda_sparse for more aggressive feature selection regularization\n",
    "    lambda_sparse=1e-3,\n",
    "    # Set optimizer_params with weight decay (L2 regularization)\n",
    "    optimizer_params={'lr': 2e-3, 'weight_decay': 1e-5},\n",
    ")\n",
    "\n",
    "# Train TabNet\n",
    "tabnet.fit(\n",
    "    X_train.values, np.asarray(y_train).reshape(-1, 1),\n",
    "    eval_set=[(X_train.values, np.asarray(y_train).reshape(-1, 1)), (X_val.values, np.asarray(y_val).reshape(-1, 1))],\n",
    "    eval_metric=['rmse'],\n",
    "    max_epochs=100,\n",
    "    patience=10,\n",
    "    batch_size=256,\n",
    "    virtual_batch_size=128\n",
    ")\n",
    "\n",
    "# Predictions and evaluation\n",
    "predictions = tabnet.predict(X_val.values)\n",
    "print('Validation RMSE:', np.sqrt(mean_squared_error(np.asarray(y_val).reshape(-1, 1), predictions)))"
   ]
  },
  {
   "cell_type": "code",
   "execution_count": 24,
   "id": "49a6808d",
   "metadata": {
    "execution": {
     "iopub.execute_input": "2024-11-29T22:08:12.705768Z",
     "iopub.status.busy": "2024-11-29T22:08:12.705296Z",
     "iopub.status.idle": "2024-11-29T22:08:38.244830Z",
     "shell.execute_reply": "2024-11-29T22:08:38.243882Z"
    },
    "papermill": {
     "duration": 25.549375,
     "end_time": "2024-11-29T22:08:38.247330",
     "exception": false,
     "start_time": "2024-11-29T22:08:12.697955",
     "status": "completed"
    },
    "tags": []
   },
   "outputs": [
    {
     "name": "stderr",
     "output_type": "stream",
     "text": [
      "/u/spa-d4/grad/mfe261/Projects/PREPARE/envs/lib/python3.9/site-packages/pytorch_tabnet/abstract_model.py:82: UserWarning: Device used : cuda\n",
      "  warnings.warn(f\"Device used : {self.device}\")\n"
     ]
    },
    {
     "name": "stdout",
     "output_type": "stream",
     "text": [
      "epoch 0  | loss: 27508.19373| val_0_rmse: 103.73148|  0:00:00s\n",
      "epoch 1  | loss: 24490.67236| val_0_rmse: 88.35856|  0:00:01s\n",
      "epoch 2  | loss: 19295.88348| val_0_rmse: 128.40075|  0:00:01s\n",
      "epoch 3  | loss: 12034.27692| val_0_rmse: 98.64919|  0:00:02s\n",
      "epoch 4  | loss: 5874.52087| val_0_rmse: 82.50635|  0:00:02s\n",
      "epoch 5  | loss: 3163.83479| val_0_rmse: 64.01388|  0:00:03s\n",
      "epoch 6  | loss: 2589.76241| val_0_rmse: 62.39752|  0:00:03s\n",
      "epoch 7  | loss: 2354.72733| val_0_rmse: 62.53137|  0:00:04s\n",
      "epoch 8  | loss: 2110.50743| val_0_rmse: 60.30189|  0:00:04s\n",
      "epoch 9  | loss: 2070.09264| val_0_rmse: 57.31378|  0:00:05s\n",
      "epoch 10 | loss: 1947.47581| val_0_rmse: 57.51101|  0:00:05s\n",
      "epoch 11 | loss: 1909.17907| val_0_rmse: 55.24808|  0:00:06s\n",
      "epoch 12 | loss: 1856.01827| val_0_rmse: 57.40648|  0:00:06s\n",
      "epoch 13 | loss: 1768.50841| val_0_rmse: 61.5733 |  0:00:07s\n",
      "epoch 14 | loss: 1704.65739| val_0_rmse: 52.52964|  0:00:07s\n",
      "epoch 15 | loss: 1687.00571| val_0_rmse: 49.77721|  0:00:08s\n",
      "epoch 16 | loss: 1592.45957| val_0_rmse: 50.41579|  0:00:09s\n",
      "epoch 17 | loss: 1602.89928| val_0_rmse: 50.03309|  0:00:09s\n",
      "epoch 18 | loss: 1564.86942| val_0_rmse: 48.59621|  0:00:09s\n",
      "epoch 19 | loss: 1548.64471| val_0_rmse: 48.58104|  0:00:10s\n",
      "epoch 20 | loss: 1513.73819| val_0_rmse: 49.96313|  0:00:11s\n",
      "epoch 21 | loss: 1512.32639| val_0_rmse: 54.72541|  0:00:11s\n",
      "epoch 22 | loss: 1452.13341| val_0_rmse: 47.38885|  0:00:12s\n",
      "epoch 23 | loss: 1439.65687| val_0_rmse: 46.30348|  0:00:12s\n",
      "epoch 24 | loss: 1409.26064| val_0_rmse: 46.59725|  0:00:13s\n",
      "epoch 25 | loss: 1363.24155| val_0_rmse: 44.89993|  0:00:14s\n",
      "epoch 26 | loss: 1349.2552| val_0_rmse: 45.25906|  0:00:14s\n",
      "epoch 27 | loss: 1349.92566| val_0_rmse: 44.25159|  0:00:15s\n",
      "epoch 28 | loss: 1339.79916| val_0_rmse: 41.87438|  0:00:15s\n",
      "epoch 29 | loss: 1299.56456| val_0_rmse: 39.03959|  0:00:16s\n",
      "epoch 30 | loss: 1267.64438| val_0_rmse: 38.33073|  0:00:16s\n",
      "epoch 31 | loss: 1244.92262| val_0_rmse: 36.91453|  0:00:17s\n",
      "epoch 32 | loss: 1220.26078| val_0_rmse: 35.81149|  0:00:17s\n",
      "epoch 33 | loss: 1172.93054| val_0_rmse: 35.59169|  0:00:18s\n",
      "epoch 34 | loss: 1170.24912| val_0_rmse: 34.97975|  0:00:18s\n",
      "epoch 35 | loss: 1133.67252| val_0_rmse: 34.00963|  0:00:19s\n",
      "epoch 36 | loss: 1114.22861| val_0_rmse: 33.72915|  0:00:19s\n",
      "epoch 37 | loss: 1122.22604| val_0_rmse: 32.48891|  0:00:20s\n",
      "epoch 38 | loss: 1098.96414| val_0_rmse: 31.26731|  0:00:20s\n",
      "epoch 39 | loss: 1106.41469| val_0_rmse: 31.51244|  0:00:21s\n",
      "epoch 40 | loss: 1045.35406| val_0_rmse: 30.81149|  0:00:21s\n",
      "epoch 41 | loss: 1041.7566| val_0_rmse: 31.12253|  0:00:22s\n",
      "epoch 42 | loss: 1031.8782| val_0_rmse: 30.44124|  0:00:22s\n",
      "epoch 43 | loss: 1013.75127| val_0_rmse: 30.11907|  0:00:23s\n",
      "epoch 44 | loss: 995.14543| val_0_rmse: 29.25597|  0:00:23s\n",
      "Stop training because you reached max_epochs = 45 with best_epoch = 44 and best_val_0_rmse = 29.25597\n"
     ]
    },
    {
     "name": "stderr",
     "output_type": "stream",
     "text": [
      "/u/spa-d4/grad/mfe261/Projects/PREPARE/envs/lib/python3.9/site-packages/pytorch_tabnet/callbacks.py:172: UserWarning: Best weights from best epoch are automatically used!\n",
      "  warnings.warn(wrn_msg)\n"
     ]
    }
   ],
   "source": [
    "# Train a final model using hyperparameters (use best epoch from previuos cell) and all development data (train+val)\n",
    "final_model = TabNetRegressor()\n",
    "\n",
    "# Train TabNet\n",
    "final_model.fit(\n",
    "    X.values, np.asarray(y).reshape(-1, 1),\n",
    "    eval_set=[(X.values, np.asarray(y).reshape(-1, 1))],\n",
    "    max_epochs=45,\n",
    "    batch_size=256,\n",
    "    virtual_batch_size=128,\n",
    "    eval_metric=['rmse'],\n",
    ")"
   ]
  },
  {
   "cell_type": "markdown",
   "id": "2821a125",
   "metadata": {
    "papermill": {
     "duration": 0.00867,
     "end_time": "2024-11-29T22:08:38.268497",
     "exception": false,
     "start_time": "2024-11-29T22:08:38.259827",
     "status": "completed"
    },
    "tags": []
   },
   "source": [
    "## Part 5: Inference and submission\n",
    "Prepare test data for inference, do inference and save the estimations to a submission file "
   ]
  },
  {
   "cell_type": "code",
   "execution_count": null,
   "id": "8e1220c6",
   "metadata": {
    "execution": {
     "iopub.execute_input": "2024-11-29T22:08:38.286554Z",
     "iopub.status.busy": "2024-11-29T22:08:38.286244Z",
     "iopub.status.idle": "2024-11-29T22:08:38.337026Z",
     "shell.execute_reply": "2024-11-29T22:08:38.336322Z"
    },
    "papermill": {
     "duration": 0.062314,
     "end_time": "2024-11-29T22:08:38.338930",
     "exception": false,
     "start_time": "2024-11-29T22:08:38.276616",
     "status": "completed"
    },
    "tags": []
   },
   "outputs": [],
   "source": [
    "# Impute missing values in test data\n",
    "aligned_test_features[num_cols] = num_imputer.transform(aligned_test_features[num_cols])\n",
    "aligned_test_features[cat_cols] = cat_imputer.transform(aligned_test_features[cat_cols])\n",
    "\n",
    "# Encode categorical variables in test data\n",
    "for col in cat_cols:\n",
    "    aligned_test_features[col] = label_encoders[col].transform(aligned_test_features[col])\n",
    "\n",
    "# Drop year and id from input features\n",
    "X_aligned_test = aligned_test_features.drop(columns=['uid','year'])"
   ]
  },
  {
   "cell_type": "code",
   "execution_count": 26,
   "id": "14087729",
   "metadata": {
    "execution": {
     "iopub.execute_input": "2024-11-29T22:08:38.357040Z",
     "iopub.status.busy": "2024-11-29T22:08:38.356757Z",
     "iopub.status.idle": "2024-11-29T22:08:38.417229Z",
     "shell.execute_reply": "2024-11-29T22:08:38.416495Z"
    },
    "papermill": {
     "duration": 0.07147,
     "end_time": "2024-11-29T22:08:38.419237",
     "exception": false,
     "start_time": "2024-11-29T22:08:38.347767",
     "status": "completed"
    },
    "tags": []
   },
   "outputs": [],
   "source": [
    "# Predict on the aligned test dataset\n",
    "aligned_test_predictions = final_model.predict(X_aligned_test.values)"
   ]
  },
  {
   "cell_type": "code",
   "execution_count": 27,
   "id": "45fa0d40",
   "metadata": {
    "execution": {
     "iopub.execute_input": "2024-11-29T22:08:38.437744Z",
     "iopub.status.busy": "2024-11-29T22:08:38.437445Z",
     "iopub.status.idle": "2024-11-29T22:08:38.447069Z",
     "shell.execute_reply": "2024-11-29T22:08:38.446018Z"
    },
    "papermill": {
     "duration": 0.020739,
     "end_time": "2024-11-29T22:08:38.448977",
     "exception": false,
     "start_time": "2024-11-29T22:08:38.428238",
     "status": "completed"
    },
    "tags": []
   },
   "outputs": [
    {
     "name": "stdout",
     "output_type": "stream",
     "text": [
      "Submission file saved to: submission_tabnet.csv\n"
     ]
    }
   ],
   "source": [
    "# Prepare the submission file\n",
    "submission = submission_format.copy()\n",
    "submission['composite_score'] = aligned_test_predictions.round().astype(int)\n",
    "\n",
    "# Save the submission file\n",
    "submission_file_path = 'submission_tabnet.csv'\n",
    "submission.to_csv(submission_file_path, index=False)\n",
    "print(f\"Submission file saved to: {submission_file_path}\")"
   ]
  },
  {
   "cell_type": "markdown",
   "id": "5cf7edc1",
   "metadata": {
    "papermill": {
     "duration": 0.008701,
     "end_time": "2024-11-29T22:08:38.469994",
     "exception": false,
     "start_time": "2024-11-29T22:08:38.461293",
     "status": "completed"
    },
    "tags": []
   },
   "source": [
    "## References\n",
    "[1] [TabNet: Attentive Interpretable Tabular Learning](https://arxiv.org/abs/1908.07442)"
   ]
  }
 ],
 "metadata": {
  "kaggle": {
   "accelerator": "none",
   "dataSources": [
    {
     "datasetId": 6122982,
     "sourceId": 9955632,
     "sourceType": "datasetVersion"
    }
   ],
   "dockerImageVersionId": 30786,
   "isGpuEnabled": false,
   "isInternetEnabled": true,
   "language": "python",
   "sourceType": "notebook"
  },
  "kernelspec": {
   "display_name": "Python 3",
   "language": "python",
   "name": "python3"
  },
  "language_info": {
   "codemirror_mode": {
    "name": "ipython",
    "version": 3
   },
   "file_extension": ".py",
   "mimetype": "text/x-python",
   "name": "python",
   "nbconvert_exporter": "python",
   "pygments_lexer": "ipython3",
   "version": "3.9.20"
  },
  "papermill": {
   "default_parameters": {},
   "duration": 56.136563,
   "end_time": "2024-11-29T22:08:39.899641",
   "environment_variables": {},
   "exception": null,
   "input_path": "__notebook__.ipynb",
   "output_path": "__notebook__.ipynb",
   "parameters": {},
   "start_time": "2024-11-29T22:07:43.763078",
   "version": "2.6.0"
  }
 },
 "nbformat": 4,
 "nbformat_minor": 5
}
