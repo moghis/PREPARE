{
 "cells": [
  {
   "cell_type": "markdown",
   "id": "b2e33fcc",
   "metadata": {
    "papermill": {
     "duration": 0.005508,
     "end_time": "2024-11-29T22:07:46.274391",
     "exception": false,
     "start_time": "2024-11-29T22:07:46.268883",
     "status": "completed"
    },
    "tags": []
   },
   "source": [
    "# Early prediction of Alzheimer's disease and related dementias based on social determinants using TabNet\n",
    "In this Jupyter Notebook we use social determinants to estimate a composite score, which is associated with Alzheimer's disease and related dementias. We use TabNet [1] to estimate the composite score, where higher score is better, and the maximum possible score is 384. TabNet is a transformer-based neural network tailor made for regression/classification based on tabular data. The data set have a lot of missing values. We use simple imputations using the mean for numerical variables and the most frequent for categorical variables. \n",
    "tart!"
   ]
  },
  {
   "cell_type": "markdown",
   "id": "0f3b129d",
   "metadata": {
    "papermill": {
     "duration": 0.005729,
     "end_time": "2024-11-29T22:07:46.284917",
     "exception": false,
     "start_time": "2024-11-29T22:07:46.279188",
     "status": "completed"
    },
    "tags": []
   },
   "source": [
    "## Part 1: Packages and frameworks\n",
    "First we needto oinstall and import some Python packages. In this notebook we will us ePytorc  t oimplement a TabNe model. o interpret the variables and predict the **composite_score**."
   ]
  },
  {
   "cell_type": "code",
   "execution_count": 1,
   "id": "0c99045a",
   "metadata": {
    "execution": {
     "iopub.execute_input": "2024-11-29T22:07:46.295968Z",
     "iopub.status.busy": "2024-11-29T22:07:46.295563Z",
     "iopub.status.idle": "2024-11-29T22:07:55.747512Z",
     "shell.execute_reply": "2024-11-29T22:07:55.746524Z"
    },
    "papermill": {
     "duration": 9.460244,
     "end_time": "2024-11-29T22:07:55.749732",
     "exception": false,
     "start_time": "2024-11-29T22:07:46.289488",
     "status": "completed"
    },
    "tags": []
   },
   "outputs": [],
   "source": [
    "%%capture\n",
    "!pip install pytorch-tabnet"
   ]
  },
  {
   "cell_type": "code",
   "execution_count": 28,
   "id": "f3f79297",
   "metadata": {
    "execution": {
     "iopub.execute_input": "2024-11-29T22:07:55.761114Z",
     "iopub.status.busy": "2024-11-29T22:07:55.760839Z",
     "iopub.status.idle": "2024-11-29T22:08:00.594486Z",
     "shell.execute_reply": "2024-11-29T22:08:00.593526Z"
    },
    "papermill": {
     "duration": 4.841631,
     "end_time": "2024-11-29T22:08:00.596487",
     "exception": false,
     "start_time": "2024-11-29T22:07:55.754856",
     "status": "completed"
    },
    "tags": []
   },
   "outputs": [],
   "source": [
    "import json\n",
    "import torch\n",
    "import pandas as pd\n",
    "import numpy as np\n",
    "import matplotlib.pyplot as plt\n",
    "from sklearn.model_selection import train_test_split, GridSearchCV\n",
    "from sklearn.impute import SimpleImputer\n",
    "from sklearn.metrics import mean_squared_error\n",
    "from pytorch_tabnet.tab_model import TabNetRegressor\n",
    "from sklearn.preprocessing import LabelEncoder, StandardScaler"
   ]
  },
  {
   "cell_type": "markdown",
   "id": "8b2f4028",
   "metadata": {
    "papermill": {
     "duration": 0.004583,
     "end_time": "2024-11-29T22:08:00.605927",
     "exception": false,
     "start_time": "2024-11-29T22:08:00.601344",
     "status": "completed"
    },
    "tags": []
   },
   "source": [
    "## Part 2: Load data\n",
    "In this part we load and do some initial exploration of the data"
   ]
  },
  {
   "cell_type": "code",
   "execution_count": null,
   "id": "a769b925",
   "metadata": {
    "execution": {
     "iopub.execute_input": "2024-11-29T22:08:00.616434Z",
     "iopub.status.busy": "2024-11-29T22:08:00.615985Z",
     "iopub.status.idle": "2024-11-29T22:08:00.847251Z",
     "shell.execute_reply": "2024-11-29T22:08:00.846254Z"
    },
    "papermill": {
     "duration": 0.238889,
     "end_time": "2024-11-29T22:08:00.849335",
     "exception": false,
     "start_time": "2024-11-29T22:08:00.610446",
     "status": "completed"
    },
    "tags": []
   },
   "outputs": [],
   "source": [
    "# Load datasets\n",
    "train_features = pd.read_csv('../dataset/train_features.csv') # load train features\n",
    "train_labels = pd.read_csv('../dataset/train_labels.csv') # load train labels\n",
    "test_features = pd.read_csv('../dataset/test_features.csv') # loead test features\n",
    "submission_format = pd.read_csv('../dataset/submission_format.csv') # submission format"
   ]
  },
  {
   "cell_type": "code",
   "execution_count": 30,
   "id": "7e92be12",
   "metadata": {
    "execution": {
     "iopub.execute_input": "2024-11-29T22:08:00.860688Z",
     "iopub.status.busy": "2024-11-29T22:08:00.860406Z",
     "iopub.status.idle": "2024-11-29T22:08:00.865165Z",
     "shell.execute_reply": "2024-11-29T22:08:00.864334Z"
    },
    "papermill": {
     "duration": 0.012361,
     "end_time": "2024-11-29T22:08:00.866850",
     "exception": false,
     "start_time": "2024-11-29T22:08:00.854489",
     "status": "completed"
    },
    "tags": []
   },
   "outputs": [
    {
     "name": "stdout",
     "output_type": "stream",
     "text": [
      "In the training data we have 184 columns\n",
      "In the test data we have 184 columns\n"
     ]
    }
   ],
   "source": [
    "print(f\"In the training data we have \" + str(train_features.shape[1]) + \" columns\")\n",
    "print(f\"In the test data we have \" + str(test_features.shape[1]) + \" columns\")"
   ]
  },
  {
   "cell_type": "code",
   "execution_count": 31,
   "id": "335ee46d",
   "metadata": {
    "execution": {
     "iopub.execute_input": "2024-11-29T22:08:00.877428Z",
     "iopub.status.busy": "2024-11-29T22:08:00.877158Z",
     "iopub.status.idle": "2024-11-29T22:08:00.889403Z",
     "shell.execute_reply": "2024-11-29T22:08:00.888583Z"
    },
    "papermill": {
     "duration": 0.019512,
     "end_time": "2024-11-29T22:08:00.891103",
     "exception": false,
     "start_time": "2024-11-29T22:08:00.871591",
     "status": "completed"
    },
    "tags": []
   },
   "outputs": [
    {
     "name": "stdout",
     "output_type": "stream",
     "text": [
      "In the training data we have 3276 unique pasients and there are 3276 rows in the training data\n",
      "In the label data we have 3276 unique pasients and there are 4343 rows in the training data\n"
     ]
    }
   ],
   "source": [
    "print(f\"In the training data we have \" + str(train_features[\"uid\"].nunique()) + \" unique pasients and there are \" + str(train_features.shape[0]) + \" rows in the training data\")\n",
    "print(f\"In the label data we have \" + str(train_labels[\"uid\"].nunique()) + \" unique pasients and there are \" + str(train_labels.shape[0]) + \" rows in the training data\")"
   ]
  },
  {
   "cell_type": "markdown",
   "id": "c24d60d0",
   "metadata": {
    "papermill": {
     "duration": 0.004711,
     "end_time": "2024-11-29T22:08:00.900586",
     "exception": false,
     "start_time": "2024-11-29T22:08:00.895875",
     "status": "completed"
    },
    "tags": []
   },
   "source": [
    "We see that there are more rows in the label file than we have rows in the train features. This is because we want to estimate the composite score for 2016 (4 years in the future) and 2021 (9 years in the future) for some patients. This is also the cas for the test data:"
   ]
  },
  {
   "cell_type": "code",
   "execution_count": 32,
   "id": "25733ec5",
   "metadata": {
    "execution": {
     "iopub.execute_input": "2024-11-29T22:08:00.910940Z",
     "iopub.status.busy": "2024-11-29T22:08:00.910709Z",
     "iopub.status.idle": "2024-11-29T22:08:00.916112Z",
     "shell.execute_reply": "2024-11-29T22:08:00.915220Z"
    },
    "papermill": {
     "duration": 0.012569,
     "end_time": "2024-11-29T22:08:00.917899",
     "exception": false,
     "start_time": "2024-11-29T22:08:00.905330",
     "status": "completed"
    },
    "tags": []
   },
   "outputs": [
    {
     "name": "stdout",
     "output_type": "stream",
     "text": [
      "In the training data we have 819 unique pasients and there are 819 rows in the training data\n",
      "In the label data we have 819 unique pasients and there are 1105 rows in the training data\n"
     ]
    }
   ],
   "source": [
    "print(f\"In the training data we have \" + str(test_features[\"uid\"].nunique()) + \" unique pasients and there are \" + str(test_features.shape[0]) + \" rows in the training data\")\n",
    "print(f\"In the label data we have \" + str(submission_format[\"uid\"].nunique()) + \" unique pasients and there are \" + str(submission_format.shape[0]) + \" rows in the training data\")"
   ]
  },
  {
   "cell_type": "code",
   "execution_count": 33,
   "id": "f66c472c",
   "metadata": {
    "execution": {
     "iopub.execute_input": "2024-11-29T22:08:00.928302Z",
     "iopub.status.busy": "2024-11-29T22:08:00.928037Z",
     "iopub.status.idle": "2024-11-29T22:08:00.943888Z",
     "shell.execute_reply": "2024-11-29T22:08:00.943101Z"
    },
    "papermill": {
     "duration": 0.022837,
     "end_time": "2024-11-29T22:08:00.945403",
     "exception": false,
     "start_time": "2024-11-29T22:08:00.922566",
     "status": "completed"
    },
    "tags": []
   },
   "outputs": [
    {
     "data": {
      "text/plain": [
       "year\n",
       "False    2209\n",
       "True     1067\n",
       "Name: count, dtype: int64"
      ]
     },
     "execution_count": 33,
     "metadata": {},
     "output_type": "execute_result"
    }
   ],
   "source": [
    "# Count number of patinents with composite score at both 2016 and 2021 in the training data\n",
    "(train_labels.groupby(\"uid\").count()[\"year\"] == 2).value_counts()"
   ]
  },
  {
   "cell_type": "code",
   "execution_count": 34,
   "id": "bdbda68a",
   "metadata": {
    "execution": {
     "iopub.execute_input": "2024-11-29T22:08:00.956057Z",
     "iopub.status.busy": "2024-11-29T22:08:00.955838Z",
     "iopub.status.idle": "2024-11-29T22:08:00.963377Z",
     "shell.execute_reply": "2024-11-29T22:08:00.962733Z"
    },
    "papermill": {
     "duration": 0.014587,
     "end_time": "2024-11-29T22:08:00.964850",
     "exception": false,
     "start_time": "2024-11-29T22:08:00.950263",
     "status": "completed"
    },
    "tags": []
   },
   "outputs": [
    {
     "data": {
      "text/plain": [
       "year\n",
       "False    533\n",
       "True     286\n",
       "Name: count, dtype: int64"
      ]
     },
     "execution_count": 34,
     "metadata": {},
     "output_type": "execute_result"
    }
   ],
   "source": [
    "# Count number of patinents we need to predict composite for both 2016 and 2021 in the test data\n",
    "(submission_format.groupby(\"uid\").count()[\"year\"] == 2).value_counts()"
   ]
  },
  {
   "cell_type": "markdown",
   "id": "ee899610",
   "metadata": {
    "papermill": {
     "duration": 0.004732,
     "end_time": "2024-11-29T22:08:00.974557",
     "exception": false,
     "start_time": "2024-11-29T22:08:00.969825",
     "status": "completed"
    },
    "tags": []
   },
   "source": [
    "Exploring missing values"
   ]
  },
  {
   "cell_type": "code",
   "execution_count": 35,
   "id": "90b8d818",
   "metadata": {
    "execution": {
     "iopub.execute_input": "2024-11-29T22:08:00.985560Z",
     "iopub.status.busy": "2024-11-29T22:08:00.985309Z",
     "iopub.status.idle": "2024-11-29T22:08:00.998619Z",
     "shell.execute_reply": "2024-11-29T22:08:00.997821Z"
    },
    "papermill": {
     "duration": 0.020612,
     "end_time": "2024-11-29T22:08:01.000310",
     "exception": false,
     "start_time": "2024-11-29T22:08:00.979698",
     "status": "completed"
    },
    "tags": []
   },
   "outputs": [
    {
     "data": {
      "text/plain": [
       "True     182\n",
       "False      2\n",
       "Name: count, dtype: int64"
      ]
     },
     "execution_count": 35,
     "metadata": {},
     "output_type": "execute_result"
    }
   ],
   "source": [
    "# How many columns have at least one missing value (training data)\n",
    "(train_features.isna().sum() != 0).value_counts()"
   ]
  },
  {
   "cell_type": "code",
   "execution_count": 36,
   "id": "9fb4c4f1",
   "metadata": {
    "execution": {
     "iopub.execute_input": "2024-11-29T22:08:01.011293Z",
     "iopub.status.busy": "2024-11-29T22:08:01.011014Z",
     "iopub.status.idle": "2024-11-29T22:08:01.019565Z",
     "shell.execute_reply": "2024-11-29T22:08:01.018771Z"
    },
    "papermill": {
     "duration": 0.015671,
     "end_time": "2024-11-29T22:08:01.021077",
     "exception": false,
     "start_time": "2024-11-29T22:08:01.005406",
     "status": "completed"
    },
    "tags": []
   },
   "outputs": [
    {
     "data": {
      "text/plain": [
       "True     182\n",
       "False      2\n",
       "Name: count, dtype: int64"
      ]
     },
     "execution_count": 36,
     "metadata": {},
     "output_type": "execute_result"
    }
   ],
   "source": [
    "# How many columns have at least one missing value (test data)\n",
    "(test_features.isna().sum() != 0).value_counts()"
   ]
  },
  {
   "cell_type": "code",
   "execution_count": 37,
   "id": "6038264e",
   "metadata": {
    "execution": {
     "iopub.execute_input": "2024-11-29T22:08:01.032255Z",
     "iopub.status.busy": "2024-11-29T22:08:01.031978Z",
     "iopub.status.idle": "2024-11-29T22:08:01.043718Z",
     "shell.execute_reply": "2024-11-29T22:08:01.042957Z"
    },
    "papermill": {
     "duration": 0.01917,
     "end_time": "2024-11-29T22:08:01.045515",
     "exception": false,
     "start_time": "2024-11-29T22:08:01.026345",
     "status": "completed"
    },
    "tags": []
   },
   "outputs": [
    {
     "data": {
      "text/plain": [
       "22.45"
      ]
     },
     "execution_count": 37,
     "metadata": {},
     "output_type": "execute_result"
    }
   ],
   "source": [
    "round((train_features.isna().sum().sum() / (train_features.shape[0]*train_features.shape[1]))*100,2)"
   ]
  },
  {
   "cell_type": "code",
   "execution_count": 38,
   "id": "7a207c93",
   "metadata": {
    "execution": {
     "iopub.execute_input": "2024-11-29T22:08:01.057177Z",
     "iopub.status.busy": "2024-11-29T22:08:01.056657Z",
     "iopub.status.idle": "2024-11-29T22:08:01.067372Z",
     "shell.execute_reply": "2024-11-29T22:08:01.066584Z"
    },
    "papermill": {
     "duration": 0.018245,
     "end_time": "2024-11-29T22:08:01.068941",
     "exception": false,
     "start_time": "2024-11-29T22:08:01.050696",
     "status": "completed"
    },
    "tags": []
   },
   "outputs": [
    {
     "name": "stdout",
     "output_type": "stream",
     "text": [
      "In total there are 22.45 % missing values in the training data\n"
     ]
    }
   ],
   "source": [
    "print(\"In total there are \" + str(round((train_features.isna().sum().sum() / (train_features.shape[0]*train_features.shape[1]))*100,2)) + \" % missing values in the training data\")"
   ]
  },
  {
   "cell_type": "code",
   "execution_count": 39,
   "id": "cc275ce6",
   "metadata": {
    "execution": {
     "iopub.execute_input": "2024-11-29T22:08:01.079896Z",
     "iopub.status.busy": "2024-11-29T22:08:01.079678Z",
     "iopub.status.idle": "2024-11-29T22:08:01.087047Z",
     "shell.execute_reply": "2024-11-29T22:08:01.086092Z"
    },
    "papermill": {
     "duration": 0.014668,
     "end_time": "2024-11-29T22:08:01.088667",
     "exception": false,
     "start_time": "2024-11-29T22:08:01.073999",
     "status": "completed"
    },
    "tags": []
   },
   "outputs": [
    {
     "name": "stdout",
     "output_type": "stream",
     "text": [
      "In total there are 21.92 % missing values in the test data\n"
     ]
    }
   ],
   "source": [
    "print(\"In total there are \" + str(round((test_features.isna().sum().sum() / (test_features.shape[0]*test_features.shape[1]))*100,2)) + \" % missing values in the test data\")"
   ]
  },
  {
   "cell_type": "markdown",
   "id": "3401bae8",
   "metadata": {
    "papermill": {
     "duration": 0.005064,
     "end_time": "2024-11-29T22:08:01.098962",
     "exception": false,
     "start_time": "2024-11-29T22:08:01.093898",
     "status": "completed"
    },
    "tags": []
   },
   "source": [
    "## Part 3: Preprocessing\n",
    "In this part we preprocess the data based on our findings in part 2"
   ]
  },
  {
   "cell_type": "code",
   "execution_count": 40,
   "id": "ad4104e7",
   "metadata": {
    "execution": {
     "iopub.execute_input": "2024-11-29T22:08:01.110143Z",
     "iopub.status.busy": "2024-11-29T22:08:01.109878Z",
     "iopub.status.idle": "2024-11-29T22:08:01.131323Z",
     "shell.execute_reply": "2024-11-29T22:08:01.130621Z"
    },
    "papermill": {
     "duration": 0.02925,
     "end_time": "2024-11-29T22:08:01.133232",
     "exception": false,
     "start_time": "2024-11-29T22:08:01.103982",
     "status": "completed"
    },
    "tags": []
   },
   "outputs": [],
   "source": [
    "# duplicate features where we need to estimate composite score for both 2016 and 2021 (training data)\n",
    "train_data = train_labels.merge(train_features, on=\"uid\")\n",
    "train_data[\"pred_year\"] = train_data[\"year\"]-2012"
   ]
  },
  {
   "cell_type": "code",
   "execution_count": 41,
   "id": "dc2bceba",
   "metadata": {
    "execution": {
     "iopub.execute_input": "2024-11-29T22:08:01.145798Z",
     "iopub.status.busy": "2024-11-29T22:08:01.145514Z",
     "iopub.status.idle": "2024-11-29T22:08:01.154497Z",
     "shell.execute_reply": "2024-11-29T22:08:01.153891Z"
    },
    "papermill": {
     "duration": 0.016586,
     "end_time": "2024-11-29T22:08:01.155939",
     "exception": false,
     "start_time": "2024-11-29T22:08:01.139353",
     "status": "completed"
    },
    "tags": []
   },
   "outputs": [],
   "source": [
    "# duplicate features where we need to estimate composite score for both 2016 and 2021 (test data)\n",
    "aligned_test_features = submission_format[[\"uid\",\"year\"]].merge(test_features, on=\"uid\")\n",
    "aligned_test_features[\"pred_year\"] = aligned_test_features[\"year\"]-2012"
   ]
  },
  {
   "cell_type": "code",
   "execution_count": 42,
   "id": "0b9f510e",
   "metadata": {
    "execution": {
     "iopub.execute_input": "2024-11-29T22:08:01.169497Z",
     "iopub.status.busy": "2024-11-29T22:08:01.169244Z",
     "iopub.status.idle": "2024-11-29T22:08:01.177570Z",
     "shell.execute_reply": "2024-11-29T22:08:01.176663Z"
    },
    "papermill": {
     "duration": 0.017887,
     "end_time": "2024-11-29T22:08:01.179122",
     "exception": false,
     "start_time": "2024-11-29T22:08:01.161235",
     "status": "completed"
    },
    "tags": []
   },
   "outputs": [],
   "source": [
    "# Separate features and target variable\n",
    "X = train_data.drop(columns=['uid', 'year', 'composite_score']) # train_data.drop(columns=['uid', 'year', 'composite_score'])\n",
    "y = train_data['composite_score']"
   ]
  },
  {
   "cell_type": "code",
   "execution_count": 43,
   "id": "48fc9ca6",
   "metadata": {
    "execution": {
     "iopub.execute_input": "2024-11-29T22:08:01.190869Z",
     "iopub.status.busy": "2024-11-29T22:08:01.190618Z",
     "iopub.status.idle": "2024-11-29T22:08:01.194238Z",
     "shell.execute_reply": "2024-11-29T22:08:01.193614Z"
    },
    "papermill": {
     "duration": 0.011173,
     "end_time": "2024-11-29T22:08:01.195704",
     "exception": false,
     "start_time": "2024-11-29T22:08:01.184531",
     "status": "completed"
    },
    "tags": []
   },
   "outputs": [],
   "source": [
    "# Handle missing values\n",
    "num_imputer = SimpleImputer(strategy='mean')\n",
    "cat_imputer = SimpleImputer(strategy='most_frequent')"
   ]
  },
  {
   "cell_type": "code",
   "execution_count": 44,
   "id": "3ae478bb",
   "metadata": {
    "execution": {
     "iopub.execute_input": "2024-11-29T22:08:01.207010Z",
     "iopub.status.busy": "2024-11-29T22:08:01.206762Z",
     "iopub.status.idle": "2024-11-29T22:08:01.215579Z",
     "shell.execute_reply": "2024-11-29T22:08:01.214475Z"
    },
    "papermill": {
     "duration": 0.016404,
     "end_time": "2024-11-29T22:08:01.217274",
     "exception": false,
     "start_time": "2024-11-29T22:08:01.200870",
     "status": "completed"
    },
    "tags": []
   },
   "outputs": [],
   "source": [
    "# Select numerical and categorical columns\n",
    "num_cols = X.select_dtypes(include=['float64', 'int64']).columns\n",
    "cat_cols = X.select_dtypes(include=['object']).columns"
   ]
  },
  {
   "cell_type": "code",
   "execution_count": 45,
   "id": "2997e66e",
   "metadata": {
    "execution": {
     "iopub.execute_input": "2024-11-29T22:08:01.229035Z",
     "iopub.status.busy": "2024-11-29T22:08:01.228778Z",
     "iopub.status.idle": "2024-11-29T22:08:01.307158Z",
     "shell.execute_reply": "2024-11-29T22:08:01.305897Z"
    },
    "papermill": {
     "duration": 0.087601,
     "end_time": "2024-11-29T22:08:01.310489",
     "exception": false,
     "start_time": "2024-11-29T22:08:01.222888",
     "status": "completed"
    },
    "tags": []
   },
   "outputs": [],
   "source": [
    "# Impute training features\n",
    "X[num_cols] = num_imputer.fit_transform(X[num_cols])\n",
    "X[cat_cols] = cat_imputer.fit_transform(X[cat_cols])"
   ]
  },
  {
   "cell_type": "code",
   "execution_count": 46,
   "id": "c1304eec",
   "metadata": {
    "execution": {
     "iopub.execute_input": "2024-11-29T22:08:01.326767Z",
     "iopub.status.busy": "2024-11-29T22:08:01.326468Z",
     "iopub.status.idle": "2024-11-29T22:08:01.383223Z",
     "shell.execute_reply": "2024-11-29T22:08:01.382474Z"
    },
    "papermill": {
     "duration": 0.065031,
     "end_time": "2024-11-29T22:08:01.384861",
     "exception": false,
     "start_time": "2024-11-29T22:08:01.319830",
     "status": "completed"
    },
    "tags": []
   },
   "outputs": [],
   "source": [
    "# Encode categorical variables\n",
    "label_encoders = {}\n",
    "for col in cat_cols:\n",
    "    le = LabelEncoder()\n",
    "    X[col] = le.fit_transform(X[col])\n",
    "    label_encoders[col] = le"
   ]
  },
  {
   "cell_type": "code",
   "execution_count": 47,
   "id": "f68f417e",
   "metadata": {
    "execution": {
     "iopub.execute_input": "2024-11-29T22:08:01.397058Z",
     "iopub.status.busy": "2024-11-29T22:08:01.396785Z",
     "iopub.status.idle": "2024-11-29T22:08:01.415055Z",
     "shell.execute_reply": "2024-11-29T22:08:01.414248Z"
    },
    "papermill": {
     "duration": 0.026212,
     "end_time": "2024-11-29T22:08:01.416789",
     "exception": false,
     "start_time": "2024-11-29T22:08:01.390577",
     "status": "completed"
    },
    "tags": []
   },
   "outputs": [],
   "source": [
    "# Split data into training and validation sets\n",
    "X_train, X_val, y_train, y_val = train_test_split(X, y, test_size=0.2, random_state=42)"
   ]
  },
  {
   "cell_type": "markdown",
   "id": "9227dc99",
   "metadata": {
    "papermill": {
     "duration": 0.005077,
     "end_time": "2024-11-29T22:08:01.427396",
     "exception": false,
     "start_time": "2024-11-29T22:08:01.422319",
     "status": "completed"
    },
    "tags": []
   },
   "source": [
    "## Part 4: Initialize model and start training\n",
    "Here we initialize our TabNet model and start the training. We continously validate our model on the validation set for each epoch"
   ]
  },
  {
   "cell_type": "code",
   "execution_count": 48,
   "id": "19224861",
   "metadata": {
    "execution": {
     "iopub.execute_input": "2024-11-29T22:08:01.438978Z",
     "iopub.status.busy": "2024-11-29T22:08:01.438706Z",
     "iopub.status.idle": "2024-11-29T22:08:12.689561Z",
     "shell.execute_reply": "2024-11-29T22:08:12.688288Z"
    },
    "papermill": {
     "duration": 11.25888,
     "end_time": "2024-11-29T22:08:12.691463",
     "exception": false,
     "start_time": "2024-11-29T22:08:01.432583",
     "status": "completed"
    },
    "tags": []
   },
   "outputs": [
    {
     "name": "stderr",
     "output_type": "stream",
     "text": [
      "/u/spa-d4/grad/mfe261/Projects/PREPARE/envs/lib/python3.9/site-packages/pytorch_tabnet/abstract_model.py:82: UserWarning: Device used : cuda\n",
      "  warnings.warn(f\"Device used : {self.device}\")\n"
     ]
    },
    {
     "name": "stdout",
     "output_type": "stream",
     "text": [
      "epoch 0  | loss: 28878.10983| val_0_rmse: 168.32417| val_1_rmse: 166.9733|  0:00:00s\n",
      "epoch 1  | loss: 28598.61478| val_0_rmse: 166.14003| val_1_rmse: 164.29777|  0:00:01s\n",
      "epoch 2  | loss: 28386.25751| val_0_rmse: 166.86054| val_1_rmse: 165.45343|  0:00:01s\n",
      "epoch 3  | loss: 28242.54132| val_0_rmse: 168.54747| val_1_rmse: 167.18546|  0:00:02s\n",
      "epoch 4  | loss: 28067.86508| val_0_rmse: 168.61115| val_1_rmse: 167.25181|  0:00:02s\n",
      "epoch 5  | loss: 27921.05108| val_0_rmse: 168.51612| val_1_rmse: 167.1719|  0:00:03s\n",
      "epoch 6  | loss: 27941.72837| val_0_rmse: 161.51061| val_1_rmse: 160.80373|  0:00:03s\n",
      "epoch 7  | loss: 27723.55694| val_0_rmse: 160.52224| val_1_rmse: 159.81722|  0:00:04s\n",
      "epoch 8  | loss: 27671.07512| val_0_rmse: 166.64908| val_1_rmse: 165.32732|  0:00:05s\n",
      "epoch 9  | loss: 27408.60337| val_0_rmse: 166.57749| val_1_rmse: 165.14595|  0:00:06s\n",
      "epoch 10 | loss: 27206.44171| val_0_rmse: 166.32102| val_1_rmse: 164.96983|  0:00:06s\n",
      "epoch 11 | loss: 27083.9716| val_0_rmse: 165.18579| val_1_rmse: 163.95296|  0:00:07s\n",
      "epoch 12 | loss: 26999.69306| val_0_rmse: 163.53139| val_1_rmse: 162.56805|  0:00:07s\n",
      "epoch 13 | loss: 26775.97852| val_0_rmse: 162.97095| val_1_rmse: 161.38265|  0:00:08s\n",
      "epoch 14 | loss: 26411.43585| val_0_rmse: 162.5453| val_1_rmse: 161.17416|  0:00:09s\n",
      "epoch 15 | loss: 26222.48573| val_0_rmse: 162.00893| val_1_rmse: 160.89619|  0:00:10s\n",
      "epoch 16 | loss: 25844.23257| val_0_rmse: 161.34534| val_1_rmse: 159.92992|  0:00:10s\n",
      "epoch 17 | loss: 25453.45868| val_0_rmse: 160.53774| val_1_rmse: 159.2288|  0:00:11s\n",
      "epoch 18 | loss: 25325.27719| val_0_rmse: 159.39844| val_1_rmse: 158.02558|  0:00:12s\n",
      "epoch 19 | loss: 24876.19681| val_0_rmse: 158.44312| val_1_rmse: 156.99772|  0:00:12s\n",
      "epoch 20 | loss: 24572.26698| val_0_rmse: 157.02361| val_1_rmse: 155.52652|  0:00:13s\n",
      "epoch 21 | loss: 24191.41271| val_0_rmse: 155.6462| val_1_rmse: 154.68864|  0:00:13s\n",
      "epoch 22 | loss: 23783.13612| val_0_rmse: 154.14909| val_1_rmse: 153.25021|  0:00:14s\n",
      "epoch 23 | loss: 23387.04462| val_0_rmse: 153.04166| val_1_rmse: 152.19099|  0:00:15s\n",
      "epoch 24 | loss: 22946.00346| val_0_rmse: 151.33906| val_1_rmse: 150.73399|  0:00:15s\n",
      "epoch 25 | loss: 22621.86103| val_0_rmse: 149.21521| val_1_rmse: 148.47929|  0:00:16s\n",
      "epoch 26 | loss: 21972.69516| val_0_rmse: 147.25101| val_1_rmse: 146.08088|  0:00:16s\n",
      "epoch 27 | loss: 21491.6576| val_0_rmse: 145.32118| val_1_rmse: 144.0994|  0:00:17s\n",
      "epoch 28 | loss: 20985.49129| val_0_rmse: 143.97239| val_1_rmse: 142.82293|  0:00:17s\n",
      "epoch 29 | loss: 20473.19321| val_0_rmse: 142.3915| val_1_rmse: 140.88867|  0:00:18s\n",
      "epoch 30 | loss: 19946.2509| val_0_rmse: 140.68513| val_1_rmse: 138.95017|  0:00:18s\n",
      "epoch 31 | loss: 19594.91436| val_0_rmse: 139.22935| val_1_rmse: 137.66205|  0:00:19s\n",
      "epoch 32 | loss: 19030.13537| val_0_rmse: 137.71465| val_1_rmse: 136.22808|  0:00:19s\n",
      "epoch 33 | loss: 18518.19471| val_0_rmse: 135.79594| val_1_rmse: 134.20563|  0:00:20s\n",
      "epoch 34 | loss: 18060.34029| val_0_rmse: 133.99363| val_1_rmse: 132.56992|  0:00:20s\n",
      "epoch 35 | loss: 17544.61809| val_0_rmse: 131.80626| val_1_rmse: 130.36487|  0:00:21s\n",
      "epoch 36 | loss: 17052.35855| val_0_rmse: 129.96404| val_1_rmse: 128.41951|  0:00:21s\n",
      "epoch 37 | loss: 16470.99346| val_0_rmse: 127.78831| val_1_rmse: 126.02491|  0:00:22s\n",
      "epoch 38 | loss: 16001.22806| val_0_rmse: 125.75573| val_1_rmse: 123.89122|  0:00:22s\n",
      "epoch 39 | loss: 15306.27779| val_0_rmse: 123.30995| val_1_rmse: 121.71379|  0:00:23s\n",
      "epoch 40 | loss: 14905.17443| val_0_rmse: 120.95528| val_1_rmse: 119.20481|  0:00:23s\n",
      "epoch 41 | loss: 14344.7328| val_0_rmse: 118.66509| val_1_rmse: 117.32812|  0:00:24s\n",
      "epoch 42 | loss: 13745.42631| val_0_rmse: 116.19703| val_1_rmse: 114.71566|  0:00:24s\n",
      "epoch 43 | loss: 13211.50578| val_0_rmse: 113.7997| val_1_rmse: 112.50912|  0:00:25s\n",
      "epoch 44 | loss: 12754.26037| val_0_rmse: 111.51742| val_1_rmse: 110.06646|  0:00:26s\n",
      "epoch 45 | loss: 12249.18164| val_0_rmse: 109.16071| val_1_rmse: 107.79929|  0:00:26s\n",
      "epoch 46 | loss: 11727.80093| val_0_rmse: 106.75063| val_1_rmse: 105.45898|  0:00:27s\n",
      "epoch 47 | loss: 11231.25841| val_0_rmse: 103.9883| val_1_rmse: 102.80249|  0:00:27s\n",
      "epoch 48 | loss: 10699.00105| val_0_rmse: 101.13238| val_1_rmse: 99.87106|  0:00:28s\n",
      "epoch 49 | loss: 10203.94599| val_0_rmse: 98.65472| val_1_rmse: 97.44336|  0:00:28s\n",
      "epoch 50 | loss: 9823.62988| val_0_rmse: 96.34359| val_1_rmse: 95.54601|  0:00:29s\n",
      "epoch 51 | loss: 9313.30371| val_0_rmse: 94.22307| val_1_rmse: 93.43089|  0:00:29s\n",
      "epoch 52 | loss: 8841.13334| val_0_rmse: 91.05836| val_1_rmse: 90.33495|  0:00:30s\n",
      "epoch 53 | loss: 8315.2882| val_0_rmse: 88.71411| val_1_rmse: 87.79342|  0:00:30s\n",
      "epoch 54 | loss: 7941.95339| val_0_rmse: 86.60036| val_1_rmse: 85.51897|  0:00:31s\n",
      "epoch 55 | loss: 7460.93848| val_0_rmse: 84.54966| val_1_rmse: 83.94459|  0:00:31s\n",
      "epoch 56 | loss: 7014.08646| val_0_rmse: 82.3714 | val_1_rmse: 81.7405 |  0:00:32s\n",
      "epoch 57 | loss: 6638.30022| val_0_rmse: 79.64455| val_1_rmse: 78.77346|  0:00:32s\n",
      "epoch 58 | loss: 6257.78373| val_0_rmse: 77.29367| val_1_rmse: 76.75604|  0:00:33s\n",
      "epoch 59 | loss: 5958.4369| val_0_rmse: 74.55154| val_1_rmse: 73.85138|  0:00:33s\n",
      "epoch 60 | loss: 5611.84916| val_0_rmse: 72.70813| val_1_rmse: 72.33344|  0:00:34s\n",
      "epoch 61 | loss: 5319.21593| val_0_rmse: 71.27957| val_1_rmse: 70.88743|  0:00:34s\n",
      "epoch 62 | loss: 5025.21815| val_0_rmse: 69.72585| val_1_rmse: 69.30898|  0:00:35s\n",
      "epoch 63 | loss: 4782.26514| val_0_rmse: 66.95867| val_1_rmse: 67.42557|  0:00:35s\n",
      "epoch 64 | loss: 4526.34309| val_0_rmse: 65.1222 | val_1_rmse: 66.05375|  0:00:36s\n",
      "epoch 65 | loss: 4315.69385| val_0_rmse: 63.1431 | val_1_rmse: 64.39496|  0:00:36s\n",
      "epoch 66 | loss: 4081.47207| val_0_rmse: 62.2051 | val_1_rmse: 63.47679|  0:00:37s\n",
      "epoch 67 | loss: 3952.48242| val_0_rmse: 61.00811| val_1_rmse: 62.49607|  0:00:38s\n",
      "epoch 68 | loss: 3727.26444| val_0_rmse: 59.3971 | val_1_rmse: 60.48521|  0:00:38s\n",
      "epoch 69 | loss: 3611.87646| val_0_rmse: 58.94783| val_1_rmse: 59.92936|  0:00:39s\n",
      "epoch 70 | loss: 3483.81276| val_0_rmse: 57.19339| val_1_rmse: 59.09734|  0:00:39s\n",
      "epoch 71 | loss: 3308.07951| val_0_rmse: 56.6207 | val_1_rmse: 58.21282|  0:00:40s\n",
      "epoch 72 | loss: 3199.4677| val_0_rmse: 54.7715 | val_1_rmse: 56.47002|  0:00:40s\n",
      "epoch 73 | loss: 3116.72168| val_0_rmse: 52.98263| val_1_rmse: 54.69795|  0:00:41s\n",
      "epoch 74 | loss: 3047.17219| val_0_rmse: 52.0413 | val_1_rmse: 53.8371 |  0:00:41s\n",
      "epoch 75 | loss: 2949.11242| val_0_rmse: 51.67644| val_1_rmse: 52.91032|  0:00:42s\n",
      "epoch 76 | loss: 2861.83353| val_0_rmse: 50.93404| val_1_rmse: 52.64989|  0:00:42s\n",
      "epoch 77 | loss: 2751.54372| val_0_rmse: 50.57101| val_1_rmse: 52.64888|  0:00:43s\n",
      "epoch 78 | loss: 2674.73392| val_0_rmse: 49.94851| val_1_rmse: 52.12195|  0:00:43s\n",
      "epoch 79 | loss: 2644.82219| val_0_rmse: 49.67325| val_1_rmse: 51.51942|  0:00:44s\n",
      "epoch 80 | loss: 2565.96717| val_0_rmse: 49.74385| val_1_rmse: 51.34417|  0:00:45s\n",
      "epoch 81 | loss: 2527.79903| val_0_rmse: 49.23482| val_1_rmse: 50.91073|  0:00:45s\n",
      "epoch 82 | loss: 2515.22279| val_0_rmse: 48.77764| val_1_rmse: 50.496  |  0:00:46s\n",
      "epoch 83 | loss: 2465.32381| val_0_rmse: 48.66614| val_1_rmse: 50.26284|  0:00:46s\n",
      "epoch 84 | loss: 2407.25778| val_0_rmse: 48.55734| val_1_rmse: 49.98671|  0:00:47s\n",
      "epoch 85 | loss: 2391.13916| val_0_rmse: 48.13216| val_1_rmse: 50.41465|  0:00:48s\n",
      "epoch 86 | loss: 2385.41953| val_0_rmse: 48.02366| val_1_rmse: 49.94363|  0:00:48s\n",
      "epoch 87 | loss: 2398.7022| val_0_rmse: 47.87727| val_1_rmse: 50.31441|  0:00:49s\n",
      "epoch 88 | loss: 2332.05761| val_0_rmse: 47.73162| val_1_rmse: 49.39642|  0:00:49s\n",
      "epoch 89 | loss: 2257.17263| val_0_rmse: 46.4316 | val_1_rmse: 48.45779|  0:00:50s\n",
      "epoch 90 | loss: 2255.79841| val_0_rmse: 46.45577| val_1_rmse: 48.30695|  0:00:50s\n",
      "epoch 91 | loss: 2321.50781| val_0_rmse: 46.32791| val_1_rmse: 48.28631|  0:00:51s\n",
      "epoch 92 | loss: 2260.10531| val_0_rmse: 46.05223| val_1_rmse: 47.96945|  0:00:51s\n",
      "epoch 93 | loss: 2242.37525| val_0_rmse: 46.48724| val_1_rmse: 48.34632|  0:00:52s\n",
      "epoch 94 | loss: 2167.40398| val_0_rmse: 46.09189| val_1_rmse: 48.10136|  0:00:52s\n",
      "epoch 95 | loss: 2215.86406| val_0_rmse: 46.15373| val_1_rmse: 47.89591|  0:00:53s\n",
      "epoch 96 | loss: 2206.62061| val_0_rmse: 45.5295 | val_1_rmse: 47.80117|  0:00:53s\n",
      "epoch 97 | loss: 2184.98532| val_0_rmse: 45.49141| val_1_rmse: 47.62795|  0:00:54s\n",
      "epoch 98 | loss: 2120.21039| val_0_rmse: 44.93569| val_1_rmse: 48.66861|  0:00:54s\n",
      "epoch 99 | loss: 2060.45909| val_0_rmse: 44.78669| val_1_rmse: 48.95742|  0:00:54s\n",
      "Stop training because you reached max_epochs = 100 with best_epoch = 97 and best_val_1_rmse = 47.62795\n"
     ]
    },
    {
     "name": "stderr",
     "output_type": "stream",
     "text": [
      "/u/spa-d4/grad/mfe261/Projects/PREPARE/envs/lib/python3.9/site-packages/pytorch_tabnet/callbacks.py:172: UserWarning: Best weights from best epoch are automatically used!\n",
      "  warnings.warn(wrn_msg)\n"
     ]
    },
    {
     "name": "stdout",
     "output_type": "stream",
     "text": [
      "Validation RMSE: 47.62795156963222\n"
     ]
    }
   ],
   "source": [
    "# Initialize TabNet with regularization parameters\n",
    "tabnet = TabNetRegressor(\n",
    "    # Increase lambda_sparse for more aggressive feature selection regularization\n",
    "    lambda_sparse=1e-3,\n",
    "    # Set optimizer_params with weight decay (L2 regularization)\n",
    "    optimizer_params={'lr': 2e-3, 'weight_decay': 1e-5},\n",
    ")\n",
    "\n",
    "# Train TabNet\n",
    "tabnet.fit(\n",
    "    X_train.values, np.asarray(y_train).reshape(-1, 1),\n",
    "    eval_set=[(X_train.values, np.asarray(y_train).reshape(-1, 1)), (X_val.values, np.asarray(y_val).reshape(-1, 1))],\n",
    "    eval_metric=['rmse'],\n",
    "    max_epochs=100,\n",
    "    patience=10,\n",
    "    batch_size=256,\n",
    "    virtual_batch_size=128\n",
    ")\n",
    "\n",
    "# Predictions and evaluation\n",
    "predictions = tabnet.predict(X_val.values)\n",
    "print('Validation RMSE:', np.sqrt(mean_squared_error(np.asarray(y_val).reshape(-1, 1), predictions)))"
   ]
  },
  {
   "cell_type": "code",
   "execution_count": 50,
   "id": "49a6808d",
   "metadata": {
    "execution": {
     "iopub.execute_input": "2024-11-29T22:08:12.705768Z",
     "iopub.status.busy": "2024-11-29T22:08:12.705296Z",
     "iopub.status.idle": "2024-11-29T22:08:38.244830Z",
     "shell.execute_reply": "2024-11-29T22:08:38.243882Z"
    },
    "papermill": {
     "duration": 25.549375,
     "end_time": "2024-11-29T22:08:38.247330",
     "exception": false,
     "start_time": "2024-11-29T22:08:12.697955",
     "status": "completed"
    },
    "tags": []
   },
   "outputs": [
    {
     "name": "stderr",
     "output_type": "stream",
     "text": [
      "/u/spa-d4/grad/mfe261/Projects/PREPARE/envs/lib/python3.9/site-packages/pytorch_tabnet/abstract_model.py:82: UserWarning: Device used : cuda\n",
      "  warnings.warn(f\"Device used : {self.device}\")\n"
     ]
    },
    {
     "name": "stdout",
     "output_type": "stream",
     "text": [
      "epoch 0  | loss: 28598.35059| val_0_rmse: 166.80489|  0:00:00s\n",
      "epoch 1  | loss: 28370.74866| val_0_rmse: 168.20202|  0:00:01s\n",
      "epoch 2  | loss: 28325.63782| val_0_rmse: 168.15658|  0:00:01s\n",
      "epoch 3  | loss: 28035.13257| val_0_rmse: 160.34394|  0:00:02s\n",
      "epoch 4  | loss: 27932.8269| val_0_rmse: 159.93769|  0:00:02s\n",
      "epoch 5  | loss: 27813.8479| val_0_rmse: 163.25733|  0:00:03s\n",
      "epoch 6  | loss: 27486.94861| val_0_rmse: 162.81295|  0:00:03s\n",
      "epoch 7  | loss: 27422.00964| val_0_rmse: 162.15264|  0:00:04s\n",
      "epoch 8  | loss: 27274.73438| val_0_rmse: 162.16155|  0:00:05s\n",
      "epoch 9  | loss: 27020.04858| val_0_rmse: 161.25679|  0:00:05s\n",
      "epoch 10 | loss: 26806.97986| val_0_rmse: 162.24283|  0:00:06s\n",
      "epoch 11 | loss: 26569.73376| val_0_rmse: 161.94769|  0:00:06s\n",
      "epoch 12 | loss: 26256.85876| val_0_rmse: 161.44111|  0:00:07s\n",
      "epoch 13 | loss: 25952.74731| val_0_rmse: 159.90994|  0:00:08s\n",
      "epoch 14 | loss: 25593.69348| val_0_rmse: 158.73869|  0:00:08s\n",
      "epoch 15 | loss: 25224.19519| val_0_rmse: 157.33946|  0:00:09s\n",
      "epoch 16 | loss: 24798.23242| val_0_rmse: 156.17899|  0:00:09s\n",
      "epoch 17 | loss: 24419.88892| val_0_rmse: 154.9479|  0:00:10s\n",
      "epoch 18 | loss: 23820.04919| val_0_rmse: 153.64795|  0:00:11s\n",
      "epoch 19 | loss: 23266.53833| val_0_rmse: 152.26666|  0:00:11s\n",
      "epoch 20 | loss: 22803.77283| val_0_rmse: 150.55487|  0:00:12s\n",
      "epoch 21 | loss: 22228.32776| val_0_rmse: 148.47953|  0:00:12s\n",
      "epoch 22 | loss: 21741.27466| val_0_rmse: 146.1868|  0:00:13s\n",
      "epoch 23 | loss: 21225.62585| val_0_rmse: 144.45471|  0:00:13s\n",
      "epoch 24 | loss: 20597.72485| val_0_rmse: 142.85287|  0:00:14s\n",
      "epoch 25 | loss: 20059.61951| val_0_rmse: 140.96986|  0:00:15s\n",
      "epoch 26 | loss: 19383.70667| val_0_rmse: 138.31404|  0:00:15s\n",
      "epoch 27 | loss: 18712.29016| val_0_rmse: 135.81047|  0:00:16s\n",
      "epoch 28 | loss: 18204.35229| val_0_rmse: 133.50305|  0:00:16s\n",
      "epoch 29 | loss: 17588.57428| val_0_rmse: 131.26496|  0:00:17s\n",
      "epoch 30 | loss: 16956.60388| val_0_rmse: 129.18985|  0:00:17s\n",
      "epoch 31 | loss: 16391.3631| val_0_rmse: 127.03506|  0:00:18s\n",
      "epoch 32 | loss: 15866.47888| val_0_rmse: 124.43603|  0:00:19s\n",
      "epoch 33 | loss: 15088.53833| val_0_rmse: 121.40393|  0:00:19s\n",
      "epoch 34 | loss: 14550.336| val_0_rmse: 118.40636|  0:00:20s\n",
      "epoch 35 | loss: 13954.38641| val_0_rmse: 115.54835|  0:00:20s\n",
      "epoch 36 | loss: 13315.85938| val_0_rmse: 112.5711|  0:00:21s\n",
      "epoch 37 | loss: 12826.45441| val_0_rmse: 109.56985|  0:00:22s\n",
      "epoch 38 | loss: 12223.10028| val_0_rmse: 106.74763|  0:00:22s\n",
      "epoch 39 | loss: 11724.59637| val_0_rmse: 104.46615|  0:00:23s\n",
      "epoch 40 | loss: 11051.35266| val_0_rmse: 101.88423|  0:00:23s\n",
      "epoch 41 | loss: 10503.97272| val_0_rmse: 100.10004|  0:00:24s\n",
      "epoch 42 | loss: 9907.22742| val_0_rmse: 96.32195|  0:00:24s\n",
      "epoch 43 | loss: 9249.51019| val_0_rmse: 93.75328|  0:00:25s\n",
      "epoch 44 | loss: 8603.82468| val_0_rmse: 90.06651|  0:00:25s\n",
      "epoch 45 | loss: 8039.12659| val_0_rmse: 87.15786|  0:00:26s\n",
      "epoch 46 | loss: 7498.91873| val_0_rmse: 84.99468|  0:00:27s\n",
      "epoch 47 | loss: 6869.91193| val_0_rmse: 81.75518|  0:00:27s\n",
      "epoch 48 | loss: 6290.22852| val_0_rmse: 77.45591|  0:00:28s\n",
      "epoch 49 | loss: 5813.82898| val_0_rmse: 72.80582|  0:00:28s\n",
      "epoch 50 | loss: 5332.27359| val_0_rmse: 70.97482|  0:00:29s\n",
      "epoch 51 | loss: 4868.7291| val_0_rmse: 68.83829|  0:00:29s\n",
      "epoch 52 | loss: 4606.01028| val_0_rmse: 64.48285|  0:00:30s\n",
      "epoch 53 | loss: 4176.9225| val_0_rmse: 61.40855|  0:00:30s\n",
      "epoch 54 | loss: 3772.94215| val_0_rmse: 59.62485|  0:00:31s\n",
      "epoch 55 | loss: 3483.7399| val_0_rmse: 57.11986|  0:00:32s\n",
      "epoch 56 | loss: 3193.26454| val_0_rmse: 55.81879|  0:00:32s\n",
      "epoch 57 | loss: 2974.49954| val_0_rmse: 52.28927|  0:00:33s\n",
      "epoch 58 | loss: 2748.35172| val_0_rmse: 50.66586|  0:00:33s\n",
      "epoch 59 | loss: 2611.56731| val_0_rmse: 48.9707 |  0:00:35s\n",
      "epoch 60 | loss: 2509.16829| val_0_rmse: 48.2312 |  0:00:36s\n",
      "epoch 61 | loss: 2457.51224| val_0_rmse: 47.67421|  0:00:36s\n",
      "epoch 62 | loss: 2299.10364| val_0_rmse: 47.03142|  0:00:38s\n",
      "epoch 63 | loss: 2288.24575| val_0_rmse: 46.48478|  0:00:38s\n",
      "epoch 64 | loss: 2239.1913| val_0_rmse: 46.07794|  0:00:39s\n",
      "epoch 65 | loss: 2226.26019| val_0_rmse: 45.91646|  0:00:39s\n",
      "epoch 66 | loss: 2155.66342| val_0_rmse: 45.59045|  0:00:40s\n",
      "epoch 67 | loss: 2142.88313| val_0_rmse: 45.71008|  0:00:40s\n",
      "epoch 68 | loss: 2165.10479| val_0_rmse: 45.06096|  0:00:41s\n",
      "epoch 69 | loss: 2123.32636| val_0_rmse: 44.93888|  0:00:41s\n",
      "epoch 70 | loss: 2059.29562| val_0_rmse: 44.83922|  0:00:42s\n",
      "epoch 71 | loss: 2107.88464| val_0_rmse: 44.54033|  0:00:42s\n",
      "epoch 72 | loss: 2033.14775| val_0_rmse: 44.38152|  0:00:43s\n",
      "epoch 73 | loss: 2039.83431| val_0_rmse: 44.22864|  0:00:43s\n",
      "epoch 74 | loss: 2050.37141| val_0_rmse: 43.94722|  0:00:44s\n",
      "epoch 75 | loss: 2015.45649| val_0_rmse: 43.64973|  0:00:45s\n",
      "epoch 76 | loss: 1984.88881| val_0_rmse: 43.69334|  0:00:45s\n",
      "epoch 77 | loss: 2005.11594| val_0_rmse: 43.37652|  0:00:46s\n",
      "epoch 78 | loss: 1984.03031| val_0_rmse: 43.14291|  0:00:46s\n",
      "epoch 79 | loss: 1974.97436| val_0_rmse: 42.89262|  0:00:47s\n",
      "epoch 80 | loss: 1933.3697| val_0_rmse: 43.14241|  0:00:47s\n",
      "epoch 81 | loss: 1975.52206| val_0_rmse: 42.98828|  0:00:48s\n",
      "epoch 82 | loss: 1940.4188| val_0_rmse: 42.7312 |  0:00:48s\n",
      "epoch 83 | loss: 1949.93072| val_0_rmse: 42.69498|  0:00:48s\n",
      "epoch 84 | loss: 1918.99363| val_0_rmse: 42.45043|  0:00:49s\n",
      "epoch 85 | loss: 1915.39474| val_0_rmse: 42.31883|  0:00:49s\n",
      "epoch 86 | loss: 1870.15054| val_0_rmse: 42.05694|  0:00:50s\n",
      "epoch 87 | loss: 1855.57427| val_0_rmse: 41.95489|  0:00:50s\n",
      "epoch 88 | loss: 1870.47855| val_0_rmse: 41.67123|  0:00:51s\n",
      "epoch 89 | loss: 1839.97962| val_0_rmse: 41.68361|  0:00:51s\n",
      "epoch 90 | loss: 1856.48926| val_0_rmse: 41.58015|  0:00:52s\n",
      "epoch 91 | loss: 1874.69283| val_0_rmse: 41.58051|  0:00:52s\n",
      "epoch 92 | loss: 1819.66927| val_0_rmse: 41.46306|  0:00:53s\n",
      "epoch 93 | loss: 1826.87528| val_0_rmse: 41.21294|  0:00:53s\n",
      "epoch 94 | loss: 1828.38472| val_0_rmse: 41.15919|  0:00:54s\n",
      "epoch 95 | loss: 1826.15939| val_0_rmse: 41.13566|  0:00:55s\n",
      "epoch 96 | loss: 1806.67339| val_0_rmse: 40.92147|  0:00:55s\n",
      "epoch 97 | loss: 1795.15185| val_0_rmse: 40.87766|  0:00:56s\n",
      "epoch 98 | loss: 1763.05989| val_0_rmse: 40.84965|  0:00:57s\n",
      "epoch 99 | loss: 1753.95879| val_0_rmse: 40.72504|  0:00:57s\n",
      "Stop training because you reached max_epochs = 100 with best_epoch = 99 and best_val_0_rmse = 40.72504\n"
     ]
    },
    {
     "name": "stderr",
     "output_type": "stream",
     "text": [
      "/u/spa-d4/grad/mfe261/Projects/PREPARE/envs/lib/python3.9/site-packages/pytorch_tabnet/callbacks.py:172: UserWarning: Best weights from best epoch are automatically used!\n",
      "  warnings.warn(wrn_msg)\n"
     ]
    }
   ],
   "source": [
    "# Train a final model using hyperparameters (use best epoch from previuos cell) and all development data (train+val)\n",
    "final_model = TabNetRegressor(\n",
    "    # Increase lambda_sparse for more aggressive feature selection regularization\n",
    "    lambda_sparse=1e-3,\n",
    "    # Set optimizer_params with weight decay (L2 regularization)\n",
    "    optimizer_params={'lr': 2e-3, 'weight_decay': 1e-5},\n",
    ")\n",
    "\n",
    "# Train TabNet\n",
    "final_model.fit(\n",
    "    X.values, np.asarray(y).reshape(-1, 1),\n",
    "    eval_set=[(X.values, np.asarray(y).reshape(-1, 1))],\n",
    "    max_epochs=100,\n",
    "    batch_size=256,\n",
    "    virtual_batch_size=128,\n",
    "    eval_metric=['rmse'],\n",
    ")"
   ]
  },
  {
   "cell_type": "markdown",
   "id": "2821a125",
   "metadata": {
    "papermill": {
     "duration": 0.00867,
     "end_time": "2024-11-29T22:08:38.268497",
     "exception": false,
     "start_time": "2024-11-29T22:08:38.259827",
     "status": "completed"
    },
    "tags": []
   },
   "source": [
    "## Part 5: Inference and submission\n",
    "Prepare test data for inference, do inference and save the estimations to a submission file "
   ]
  },
  {
   "cell_type": "code",
   "execution_count": 51,
   "id": "8e1220c6",
   "metadata": {
    "execution": {
     "iopub.execute_input": "2024-11-29T22:08:38.286554Z",
     "iopub.status.busy": "2024-11-29T22:08:38.286244Z",
     "iopub.status.idle": "2024-11-29T22:08:38.337026Z",
     "shell.execute_reply": "2024-11-29T22:08:38.336322Z"
    },
    "papermill": {
     "duration": 0.062314,
     "end_time": "2024-11-29T22:08:38.338930",
     "exception": false,
     "start_time": "2024-11-29T22:08:38.276616",
     "status": "completed"
    },
    "tags": []
   },
   "outputs": [],
   "source": [
    "# Impute missing values in test data\n",
    "aligned_test_features[num_cols] = num_imputer.transform(aligned_test_features[num_cols])\n",
    "aligned_test_features[cat_cols] = cat_imputer.transform(aligned_test_features[cat_cols])\n",
    "\n",
    "# Encode categorical variables in test data\n",
    "for col in cat_cols:\n",
    "    aligned_test_features[col] = label_encoders[col].transform(aligned_test_features[col])\n",
    "\n",
    "# Drop year and id from input features\n",
    "X_aligned_test = aligned_test_features.drop(columns=['uid','year'])"
   ]
  },
  {
   "cell_type": "code",
   "execution_count": 52,
   "id": "14087729",
   "metadata": {
    "execution": {
     "iopub.execute_input": "2024-11-29T22:08:38.357040Z",
     "iopub.status.busy": "2024-11-29T22:08:38.356757Z",
     "iopub.status.idle": "2024-11-29T22:08:38.417229Z",
     "shell.execute_reply": "2024-11-29T22:08:38.416495Z"
    },
    "papermill": {
     "duration": 0.07147,
     "end_time": "2024-11-29T22:08:38.419237",
     "exception": false,
     "start_time": "2024-11-29T22:08:38.347767",
     "status": "completed"
    },
    "tags": []
   },
   "outputs": [],
   "source": [
    "# Predict on the aligned test dataset\n",
    "aligned_test_predictions = final_model.predict(X_aligned_test.values)"
   ]
  },
  {
   "cell_type": "code",
   "execution_count": null,
   "id": "45fa0d40",
   "metadata": {
    "execution": {
     "iopub.execute_input": "2024-11-29T22:08:38.437744Z",
     "iopub.status.busy": "2024-11-29T22:08:38.437445Z",
     "iopub.status.idle": "2024-11-29T22:08:38.447069Z",
     "shell.execute_reply": "2024-11-29T22:08:38.446018Z"
    },
    "papermill": {
     "duration": 0.020739,
     "end_time": "2024-11-29T22:08:38.448977",
     "exception": false,
     "start_time": "2024-11-29T22:08:38.428238",
     "status": "completed"
    },
    "tags": []
   },
   "outputs": [
    {
     "name": "stdout",
     "output_type": "stream",
     "text": [
      "Submission file saved to: submission_tabnet.csv\n"
     ]
    }
   ],
   "source": [
    "# Prepare the submission file\n",
    "submission = submission_format.copy()\n",
    "submission['composite_score'] = aligned_test_predictions.round().astype(int)\n",
    "\n",
    "# Save the submission file\n",
    "submission_file_path = '../dataset/submission_tabnet.csv'\n",
    "submission.to_csv(submission_file_path, index=False)\n",
    "print(f\"Submission file saved to: {submission_file_path}\")"
   ]
  },
  {
   "cell_type": "markdown",
   "id": "5cf7edc1",
   "metadata": {
    "papermill": {
     "duration": 0.008701,
     "end_time": "2024-11-29T22:08:38.469994",
     "exception": false,
     "start_time": "2024-11-29T22:08:38.461293",
     "status": "completed"
    },
    "tags": []
   },
   "source": [
    "## References\n",
    "[1] [TabNet: Attentive Interpretable Tabular Learning](https://arxiv.org/abs/1908.07442)"
   ]
  }
 ],
 "metadata": {
  "kaggle": {
   "accelerator": "none",
   "dataSources": [
    {
     "datasetId": 6122982,
     "sourceId": 9955632,
     "sourceType": "datasetVersion"
    }
   ],
   "dockerImageVersionId": 30786,
   "isGpuEnabled": false,
   "isInternetEnabled": true,
   "language": "python",
   "sourceType": "notebook"
  },
  "kernelspec": {
   "display_name": "Python 3",
   "language": "python",
   "name": "python3"
  },
  "language_info": {
   "codemirror_mode": {
    "name": "ipython",
    "version": 3
   },
   "file_extension": ".py",
   "mimetype": "text/x-python",
   "name": "python",
   "nbconvert_exporter": "python",
   "pygments_lexer": "ipython3",
   "version": "3.9.20"
  },
  "papermill": {
   "default_parameters": {},
   "duration": 56.136563,
   "end_time": "2024-11-29T22:08:39.899641",
   "environment_variables": {},
   "exception": null,
   "input_path": "__notebook__.ipynb",
   "output_path": "__notebook__.ipynb",
   "parameters": {},
   "start_time": "2024-11-29T22:07:43.763078",
   "version": "2.6.0"
  }
 },
 "nbformat": 4,
 "nbformat_minor": 5
}
