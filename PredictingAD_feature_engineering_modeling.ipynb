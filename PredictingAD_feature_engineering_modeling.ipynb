{
 "cells": [
  {
   "cell_type": "markdown",
   "metadata": {},
   "source": [
    "## Predicting AD Feature Engineering and Modeling\n",
    "The goal of this post is to get others started with loading, cleaning, feature engineering, and modeling the data. This notebook requires a utility script that is attached separately. Feel free to use the functions as a starting point to get ideas for your own cleaning and feature engineering."
   ]
  },
  {
   "cell_type": "code",
   "execution_count": 1,
   "metadata": {},
   "outputs": [],
   "source": [
    "\n",
    "import pandas as pd \n",
    "import numpy as np \n",
    "import os \n",
    "import matplotlib.pyplot as plt\n",
    "from sklearn.impute import SimpleImputer\n",
    "import seaborn as sns\n",
    "from sklearn.dummy import DummyRegressor\n",
    "from sklearn.decomposition import PCA\n",
    "from sklearn.linear_model import Lasso\n",
    "from utility import get_final_features,  TrainML, get_cat_cols, encode_cat_cols, feature_engineering\n",
    "from sklearn.model_selection import StratifiedKFold\n",
    "from sklearn.preprocessing import MinMaxScaler, StandardScaler, OneHotEncoder, LabelEncoder\n",
    "from sklearn.compose import ColumnTransformer\n",
    "from sklearn.pipeline import Pipeline\n",
    "from catboost import CatBoostRegressor\n",
    "from lightgbm import LGBMRegressor\n",
    "from sklearn.metrics import mean_squared_error\n",
    "from sklearn.model_selection import train_test_split\n",
    "from sklearn.model_selection import GridSearchCV\n",
    "import optuna\n",
    "import warnings\n",
    "warnings.filterwarnings(\"ignore\")"
   ]
  },
  {
   "cell_type": "markdown",
   "metadata": {},
   "source": [
    "## Load the Data\n",
    "To start, we'll load the data. This chunk of code allows you to load the data from your local files and merge them to the train and test datasets OR you can load your presaved train and test sets by changing \"load_saved_data\" to True. The code block will load the data and print the number of train and test columns."
   ]
  },
  {
   "cell_type": "code",
   "execution_count": 2,
   "metadata": {},
   "outputs": [
    {
     "name": "stdout",
     "output_type": "stream",
     "text": [
      "train columns:  186\n",
      "test columns:  186\n"
     ]
    }
   ],
   "source": [
    "root_dir = os.getcwd()\n",
    "load_saved_data = False      # if you change this to true you can load presaved data\n",
    "\n",
    "if not load_saved_data: \n",
    "    test_fname= os.path.join(root_dir, \"data/test_features.csv\")\n",
    "    trainX_fname = os.path.join(root_dir,  \"data/train_features.csv\")\n",
    "    trainy_fname = os.path.join(root_dir,  \"data/train_labels.csv\")\n",
    "    sample_submission_fname = os.path.join(root_dir,  \"data/submission_format.csv\")\n",
    "    \n",
    "    train_data=pd.merge(pd.read_csv(trainX_fname), pd.read_csv(trainy_fname), on='uid', how='inner')\n",
    "    train_data.to_csv(os.path.join(root_dir, \"data/train_data.csv\"), index=False)\n",
    "    test_data=pd.merge(pd.read_csv(test_fname), pd.read_csv(sample_submission_fname), on='uid', how='inner')\n",
    "    test_data.to_csv(os.path.join(root_dir, \"data/test_data.csv\"), index=False)\n",
    "else:\n",
    "    train_data=pd.read_csv(os.path.join(root_dir, \"data/train_data.csv\"))\n",
    "    test_data=pd.read_csv(os.path.join(root_dir, \"data/test_data.csv\"))\n",
    "print('train columns: ', len(train_data.columns))\n",
    "print('test columns: ', len(test_data.columns))\n"
   ]
  },
  {
   "cell_type": "markdown",
   "metadata": {},
   "source": [
    "## Feature Engineering\n",
    "This next part involves generating new features from the original data. You can refer to the function \"feature_engineering\" in utility.py to see which features I used. However, this is just a starting point. You can use that template to generate more or less features depending on what you uncover in your analysis."
   ]
  },
  {
   "cell_type": "code",
   "execution_count": 3,
   "metadata": {},
   "outputs": [],
   "source": [
    "train_data=feature_engineering(train_data)\n",
    "test_data=feature_engineering(test_data)\n",
    "\n"
   ]
  },
  {
   "cell_type": "markdown",
   "metadata": {},
   "source": [
    "After we create the new features, we need to identify and encode the categorical columns. There were a lot of categorical columns in this data set, so I start by encoding all of them but then we will narrow down the number of features to keep. In the utility script, I also drop features after combining some of the raw data into my new features."
   ]
  },
  {
   "cell_type": "code",
   "execution_count": 4,
   "metadata": {},
   "outputs": [],
   "source": [
    "cat_cols, dummy_cols=get_cat_cols(train_data)\n",
    "cat_cols_test, dummy_cols_test=get_cat_cols(test_data)\n",
    "\n",
    "\n"
   ]
  },
  {
   "cell_type": "code",
   "execution_count": 5,
   "metadata": {},
   "outputs": [],
   "source": [
    "train_data, test_data, dummy_feature_names=encode_cat_cols(train_data ,test_data, cat_cols, dummy_cols)"
   ]
  },
  {
   "cell_type": "markdown",
   "metadata": {},
   "source": [
    "Here, I write my cleaned train data to a csv so that I can examine it further. It's suggested that you use your clean dataframe to do some EDA and pull descriptive statistics and visualizations to help you determine what you need to continue to work on."
   ]
  },
  {
   "cell_type": "code",
   "execution_count": 6,
   "metadata": {},
   "outputs": [],
   "source": [
    "train_data.to_csv('train_data_clean.csv')"
   ]
  },
  {
   "cell_type": "markdown",
   "metadata": {},
   "source": [
    "## Handling Missing Values\n",
    "In this next section, I go through each of the columns in the test set and if there is more than 50% of the values missing in a column, I drop the column. If there is more than 5% missing, I fill the values with 0 and print the percent of missing values for the respective column. If the column has less than 5% missing values, we simply fill any missing values with 0 but don't print anything."
   ]
  },
  {
   "cell_type": "code",
   "execution_count": 7,
   "metadata": {},
   "outputs": [
    {
     "name": "stdout",
     "output_type": "stream",
     "text": [
      "n_mar_03 34.12 % missing\n",
      "glob_hlth_03 37.35 % missing\n",
      "n_adl_03 33.73 % missing\n",
      "n_iadl_03 37.32 % missing\n",
      "n_depr_03 37.49 % missing\n",
      "n_illnesses_03 33.53 % missing\n",
      "decis_personal_03 37.49 % missing\n",
      "glob_hlth_12 5.87 % missing\n",
      "n_iadl_12 5.92 % missing\n",
      "n_depr_12 6.56 % missing\n",
      "memory_12 6.7 % missing\n",
      "rearnings_03 33.55 % missing\n",
      "searnings_03 49.67 % missing\n",
      "hinc_business_03 33.13 % missing\n",
      "hinc_rent_03 33.13 % missing\n",
      "hinc_assets_03 33.13 % missing\n",
      "hinc_cap_03 33.13 % missing\n",
      "rinc_pension_03 33.55 % missing\n",
      "sinc_pension_03 49.67 % missing\n",
      "searnings_12 34.91 % missing\n",
      "sinc_pension_12 34.91 % missing\n",
      "rjob_hrswk 44.99 % missing\n"
     ]
    }
   ],
   "source": [
    "test_columns=test_data.columns\n",
    "\n",
    "for col in train_data[test_columns]: \n",
    "    if round((train_data[col].isna().sum() /len(train_data)*100), 2)>50:\n",
    "        train_data.drop(columns=col, inplace=True)\n",
    "        test_data.drop(columns=col)\n",
    "    elif round((train_data[col].isna().sum() /len(train_data)*100), 2)>5:\n",
    "        print(col,round((train_data[col].isna().sum() /len(train_data)*100), 2), '% missing')\n",
    "        train_data[col].fillna(0, inplace=True)\n",
    "        test_data[col].fillna(0, inplace=True)\n",
    "        \n",
    "    else: \n",
    "        train_data[col].fillna(0, inplace=True)\n",
    "        test_data[col].fillna(0, inplace=True)\n"
   ]
  },
  {
   "cell_type": "markdown",
   "metadata": {},
   "source": [
    "## Feature Selection\n",
    "The \"final_features\" function that I created selects the features correlated with the target variable. Then, the featuers are compared and any columns that are highly correlated with each other are dropped to prevent redundant features. The threshold for the redundant features is the parameter for the function."
   ]
  },
  {
   "cell_type": "code",
   "execution_count": 9,
   "metadata": {},
   "outputs": [
    {
     "data": {
      "text/plain": [
       "125"
      ]
     },
     "execution_count": 9,
     "metadata": {},
     "output_type": "execute_result"
    }
   ],
   "source": [
    "final_features=get_final_features(train_data, .7)\n",
    "\n",
    "len(final_features)\n"
   ]
  },
  {
   "cell_type": "markdown",
   "metadata": {},
   "source": [
    "### Adding back in Year\n",
    "\"Year\" is not highly correlated with the target feature but I add it back into the final features for modeling."
   ]
  },
  {
   "cell_type": "code",
   "execution_count": 10,
   "metadata": {},
   "outputs": [],
   "source": [
    "for f in final_features:\n",
    "    if f=='year' :\n",
    "        print(f)"
   ]
  },
  {
   "cell_type": "code",
   "execution_count": 11,
   "metadata": {},
   "outputs": [],
   "source": [
    "final_features.append('year')\n",
    "final_features.remove('composite_score')"
   ]
  },
  {
   "cell_type": "code",
   "execution_count": 12,
   "metadata": {},
   "outputs": [
    {
     "data": {
      "text/html": [
       "<div>\n",
       "<style scoped>\n",
       "    .dataframe tbody tr th:only-of-type {\n",
       "        vertical-align: middle;\n",
       "    }\n",
       "\n",
       "    .dataframe tbody tr th {\n",
       "        vertical-align: top;\n",
       "    }\n",
       "\n",
       "    .dataframe thead th {\n",
       "        text-align: right;\n",
       "    }\n",
       "</style>\n",
       "<table border=\"1\" class=\"dataframe\">\n",
       "  <thead>\n",
       "    <tr style=\"text-align: right;\">\n",
       "      <th></th>\n",
       "      <th>rameduc_m_2.Some primary</th>\n",
       "      <th>tv_12</th>\n",
       "      <th>comms_tel_comp_12</th>\n",
       "      <th>rsocact_m_12_9.Never</th>\n",
       "      <th>energetic_03</th>\n",
       "      <th>n_living_child_12_2. 3 or 4</th>\n",
       "      <th>insur_private_12</th>\n",
       "      <th>adl_toilet_12</th>\n",
       "      <th>rrelgimp_03_1.very important</th>\n",
       "      <th>rjlocc_m_12_9.Operators of Fixed Machinery and Equipment for Ind. Production</th>\n",
       "      <th>...</th>\n",
       "      <th>rjlocc_m_12_2.Technicians</th>\n",
       "      <th>rafeduc_m_1.None</th>\n",
       "      <th>adl_dress_12</th>\n",
       "      <th>sinc_pension_12</th>\n",
       "      <th>n_living_child_12_1. 1 or 2</th>\n",
       "      <th>restless_12</th>\n",
       "      <th>test_chol_12</th>\n",
       "      <th>iadl_shop_12</th>\n",
       "      <th>issste</th>\n",
       "      <th>year</th>\n",
       "    </tr>\n",
       "  </thead>\n",
       "  <tbody>\n",
       "    <tr>\n",
       "      <th>0</th>\n",
       "      <td>0.0</td>\n",
       "      <td>1.0</td>\n",
       "      <td>0.0</td>\n",
       "      <td>1.0</td>\n",
       "      <td>0.0</td>\n",
       "      <td>0.0</td>\n",
       "      <td>0.0</td>\n",
       "      <td>0.0</td>\n",
       "      <td>0.0</td>\n",
       "      <td>0.0</td>\n",
       "      <td>...</td>\n",
       "      <td>0.0</td>\n",
       "      <td>1.0</td>\n",
       "      <td>0.0</td>\n",
       "      <td>0.0</td>\n",
       "      <td>1.0</td>\n",
       "      <td>0.0</td>\n",
       "      <td>0.0</td>\n",
       "      <td>0.0</td>\n",
       "      <td>0.0</td>\n",
       "      <td>2021</td>\n",
       "    </tr>\n",
       "    <tr>\n",
       "      <th>1</th>\n",
       "      <td>0.0</td>\n",
       "      <td>1.0</td>\n",
       "      <td>0.0</td>\n",
       "      <td>0.0</td>\n",
       "      <td>0.0</td>\n",
       "      <td>0.0</td>\n",
       "      <td>0.0</td>\n",
       "      <td>0.0</td>\n",
       "      <td>0.0</td>\n",
       "      <td>0.0</td>\n",
       "      <td>...</td>\n",
       "      <td>0.0</td>\n",
       "      <td>1.0</td>\n",
       "      <td>0.0</td>\n",
       "      <td>0.0</td>\n",
       "      <td>1.0</td>\n",
       "      <td>1.0</td>\n",
       "      <td>1.0</td>\n",
       "      <td>0.0</td>\n",
       "      <td>0.0</td>\n",
       "      <td>2021</td>\n",
       "    </tr>\n",
       "    <tr>\n",
       "      <th>2</th>\n",
       "      <td>1.0</td>\n",
       "      <td>1.0</td>\n",
       "      <td>1.0</td>\n",
       "      <td>0.0</td>\n",
       "      <td>0.0</td>\n",
       "      <td>0.0</td>\n",
       "      <td>0.0</td>\n",
       "      <td>0.0</td>\n",
       "      <td>0.0</td>\n",
       "      <td>0.0</td>\n",
       "      <td>...</td>\n",
       "      <td>0.0</td>\n",
       "      <td>0.0</td>\n",
       "      <td>0.0</td>\n",
       "      <td>0.0</td>\n",
       "      <td>0.0</td>\n",
       "      <td>1.0</td>\n",
       "      <td>1.0</td>\n",
       "      <td>0.0</td>\n",
       "      <td>0.0</td>\n",
       "      <td>2016</td>\n",
       "    </tr>\n",
       "    <tr>\n",
       "      <th>3</th>\n",
       "      <td>1.0</td>\n",
       "      <td>1.0</td>\n",
       "      <td>1.0</td>\n",
       "      <td>0.0</td>\n",
       "      <td>0.0</td>\n",
       "      <td>0.0</td>\n",
       "      <td>0.0</td>\n",
       "      <td>0.0</td>\n",
       "      <td>0.0</td>\n",
       "      <td>0.0</td>\n",
       "      <td>...</td>\n",
       "      <td>0.0</td>\n",
       "      <td>0.0</td>\n",
       "      <td>0.0</td>\n",
       "      <td>0.0</td>\n",
       "      <td>0.0</td>\n",
       "      <td>1.0</td>\n",
       "      <td>1.0</td>\n",
       "      <td>0.0</td>\n",
       "      <td>0.0</td>\n",
       "      <td>2021</td>\n",
       "    </tr>\n",
       "    <tr>\n",
       "      <th>4</th>\n",
       "      <td>1.0</td>\n",
       "      <td>1.0</td>\n",
       "      <td>1.0</td>\n",
       "      <td>1.0</td>\n",
       "      <td>0.0</td>\n",
       "      <td>0.0</td>\n",
       "      <td>0.0</td>\n",
       "      <td>0.0</td>\n",
       "      <td>1.0</td>\n",
       "      <td>0.0</td>\n",
       "      <td>...</td>\n",
       "      <td>0.0</td>\n",
       "      <td>0.0</td>\n",
       "      <td>0.0</td>\n",
       "      <td>0.0</td>\n",
       "      <td>1.0</td>\n",
       "      <td>1.0</td>\n",
       "      <td>1.0</td>\n",
       "      <td>0.0</td>\n",
       "      <td>1.0</td>\n",
       "      <td>2021</td>\n",
       "    </tr>\n",
       "  </tbody>\n",
       "</table>\n",
       "<p>5 rows × 125 columns</p>\n",
       "</div>"
      ],
      "text/plain": [
       "   rameduc_m_2.Some primary  tv_12  comms_tel_comp_12  rsocact_m_12_9.Never  \\\n",
       "0                       0.0    1.0                0.0                   1.0   \n",
       "1                       0.0    1.0                0.0                   0.0   \n",
       "2                       1.0    1.0                1.0                   0.0   \n",
       "3                       1.0    1.0                1.0                   0.0   \n",
       "4                       1.0    1.0                1.0                   1.0   \n",
       "\n",
       "   energetic_03  n_living_child_12_2. 3 or 4  insur_private_12  adl_toilet_12  \\\n",
       "0           0.0                          0.0               0.0            0.0   \n",
       "1           0.0                          0.0               0.0            0.0   \n",
       "2           0.0                          0.0               0.0            0.0   \n",
       "3           0.0                          0.0               0.0            0.0   \n",
       "4           0.0                          0.0               0.0            0.0   \n",
       "\n",
       "   rrelgimp_03_1.very important  \\\n",
       "0                           0.0   \n",
       "1                           0.0   \n",
       "2                           0.0   \n",
       "3                           0.0   \n",
       "4                           1.0   \n",
       "\n",
       "   rjlocc_m_12_9.Operators of Fixed Machinery and Equipment for Ind. Production  \\\n",
       "0                                                0.0                              \n",
       "1                                                0.0                              \n",
       "2                                                0.0                              \n",
       "3                                                0.0                              \n",
       "4                                                0.0                              \n",
       "\n",
       "   ...  rjlocc_m_12_2.Technicians  rafeduc_m_1.None  adl_dress_12  \\\n",
       "0  ...                        0.0               1.0           0.0   \n",
       "1  ...                        0.0               1.0           0.0   \n",
       "2  ...                        0.0               0.0           0.0   \n",
       "3  ...                        0.0               0.0           0.0   \n",
       "4  ...                        0.0               0.0           0.0   \n",
       "\n",
       "   sinc_pension_12  n_living_child_12_1. 1 or 2  restless_12  test_chol_12  \\\n",
       "0              0.0                          1.0          0.0           0.0   \n",
       "1              0.0                          1.0          1.0           1.0   \n",
       "2              0.0                          0.0          1.0           1.0   \n",
       "3              0.0                          0.0          1.0           1.0   \n",
       "4              0.0                          1.0          1.0           1.0   \n",
       "\n",
       "   iadl_shop_12  issste  year  \n",
       "0           0.0     0.0  2021  \n",
       "1           0.0     0.0  2021  \n",
       "2           0.0     0.0  2016  \n",
       "3           0.0     0.0  2021  \n",
       "4           0.0     1.0  2021  \n",
       "\n",
       "[5 rows x 125 columns]"
      ]
     },
     "execution_count": 12,
     "metadata": {},
     "output_type": "execute_result"
    }
   ],
   "source": [
    "\n",
    "train_data[final_features].head()"
   ]
  },
  {
   "cell_type": "markdown",
   "metadata": {},
   "source": [
    "## Scaling the Data\n",
    "I use a MinMaxScaler for this project because I'm not selecting the specific columns to scale. Ideally, you should use a column transformer to ensure that you're only scaling the continuous columns and skip the dummy coded columns, but this was easier to start with."
   ]
  },
  {
   "cell_type": "code",
   "execution_count": 13,
   "metadata": {},
   "outputs": [],
   "source": [
    "\n",
    "scaler=MinMaxScaler()"
   ]
  },
  {
   "cell_type": "code",
   "execution_count": 14,
   "metadata": {},
   "outputs": [],
   "source": [
    "# set your random seed and the number of splits for cross validation\n",
    "SEED=45\n",
    "n_splits=3\n",
    "\n"
   ]
  },
  {
   "cell_type": "markdown",
   "metadata": {},
   "source": [
    "## Modeling\n",
    "The next few code blocks use baseline models to test performance. The dummypipeline uses a DummyRegressor that just predicts the mean value for everything. This gives us an idea of how a model with no skill performs. If our model doesn't perform better than this, it's essentially a failure."
   ]
  },
  {
   "cell_type": "code",
   "execution_count": 15,
   "metadata": {},
   "outputs": [
    {
     "name": "stderr",
     "output_type": "stream",
     "text": [
      "\rTraining Folds: 100%|██████████| 3/3 [00:00<00:00, 44.52it/s]"
     ]
    },
    {
     "name": "stdout",
     "output_type": "stream",
     "text": [
      "Mean Train RMSE --> 60.4704\n",
      "Mean Validation RMSE ---> 60.4692\n"
     ]
    },
    {
     "name": "stderr",
     "output_type": "stream",
     "text": [
      "\n"
     ]
    }
   ],
   "source": [
    "#get baseline value from dummy regressor\n",
    "dummypipeline=Pipeline([('tr', scaler), ('dummy', DummyRegressor(strategy=\"mean\"))], verbose = True)\n",
    "TrainML(dummypipeline,train_data, final_features, n_splits,SEED)"
   ]
  },
  {
   "cell_type": "markdown",
   "metadata": {},
   "source": [
    "### Catboost Regressor"
   ]
  },
  {
   "cell_type": "code",
   "execution_count": 16,
   "metadata": {},
   "outputs": [
    {
     "name": "stderr",
     "output_type": "stream",
     "text": [
      "Training Folds: 100%|██████████| 3/3 [00:06<00:00,  2.14s/it]"
     ]
    },
    {
     "name": "stdout",
     "output_type": "stream",
     "text": [
      "Mean Train RMSE --> 18.6756\n",
      "Mean Validation RMSE ---> 38.7971\n"
     ]
    },
    {
     "name": "stderr",
     "output_type": "stream",
     "text": [
      "\n"
     ]
    }
   ],
   "source": [
    "#catboost classifier\n",
    "pipeline=Pipeline([('tr', scaler), ('cat', CatBoostRegressor(  verbose=False))], verbose = True)\n",
    "TrainML(pipeline,train_data, final_features,n_splits,SEED)"
   ]
  },
  {
   "cell_type": "markdown",
   "metadata": {},
   "source": [
    "### LGBM Regressor"
   ]
  },
  {
   "cell_type": "code",
   "execution_count": 17,
   "metadata": {},
   "outputs": [
    {
     "name": "stderr",
     "output_type": "stream",
     "text": [
      "Training Folds: 100%|██████████| 3/3 [00:00<00:00,  8.83it/s]"
     ]
    },
    {
     "name": "stdout",
     "output_type": "stream",
     "text": [
      "Mean Train RMSE --> 21.5806\n",
      "Mean Validation RMSE ---> 39.5776\n"
     ]
    },
    {
     "name": "stderr",
     "output_type": "stream",
     "text": [
      "\n"
     ]
    }
   ],
   "source": [
    "#lgbm regressor\n",
    "pipeline=Pipeline([('tr', scaler), ('lgbm', LGBMRegressor(verbosity=-1))], verbose = True)\n",
    "TrainML(pipeline,train_data, final_features,n_splits,SEED)"
   ]
  },
  {
   "cell_type": "markdown",
   "metadata": {},
   "source": [
    "### XGBoost Regressor"
   ]
  },
  {
   "cell_type": "code",
   "execution_count": 18,
   "metadata": {},
   "outputs": [
    {
     "name": "stderr",
     "output_type": "stream",
     "text": [
      "Training Folds: 100%|██████████| 3/3 [00:00<00:00,  8.83it/s]"
     ]
    },
    {
     "name": "stdout",
     "output_type": "stream",
     "text": [
      "Mean Train RMSE --> 9.5208\n",
      "Mean Validation RMSE ---> 40.5220\n"
     ]
    },
    {
     "name": "stderr",
     "output_type": "stream",
     "text": [
      "\n"
     ]
    }
   ],
   "source": [
    "from xgboost.sklearn import XGBRegressor\n",
    "pipeline=Pipeline([('tr', scaler), ('xgb', XGBRegressor(  verbose=False))], verbose = True)\n",
    "TrainML(pipeline,train_data, final_features,n_splits,SEED)"
   ]
  },
  {
   "cell_type": "markdown",
   "metadata": {},
   "source": [
    "### Lasso Regression"
   ]
  },
  {
   "cell_type": "code",
   "execution_count": 19,
   "metadata": {},
   "outputs": [
    {
     "name": "stderr",
     "output_type": "stream",
     "text": [
      "\rTraining Folds: 100%|██████████| 3/3 [00:00<00:00, 35.04it/s]"
     ]
    },
    {
     "name": "stdout",
     "output_type": "stream",
     "text": [
      "Mean Train RMSE --> 41.4212\n",
      "Mean Validation RMSE ---> 41.9880\n"
     ]
    },
    {
     "name": "stderr",
     "output_type": "stream",
     "text": [
      "\n"
     ]
    }
   ],
   "source": [
    "lasso = Lasso(alpha=1)  # Adjust alpha (regularization strength) as needed\n",
    "pipeline=Pipeline([('tr', scaler), ('lasso', lasso)], verbose = True)\n",
    "TrainML(pipeline,train_data, final_features,n_splits,SEED)"
   ]
  },
  {
   "cell_type": "markdown",
   "metadata": {},
   "source": [
    "### Random Forest Regressor"
   ]
  },
  {
   "cell_type": "code",
   "execution_count": 20,
   "metadata": {},
   "outputs": [
    {
     "name": "stderr",
     "output_type": "stream",
     "text": [
      "Training Folds: 100%|██████████| 3/3 [00:07<00:00,  2.39s/it]"
     ]
    },
    {
     "name": "stdout",
     "output_type": "stream",
     "text": [
      "Mean Train RMSE --> 14.6738\n",
      "Mean Validation RMSE ---> 39.1480\n"
     ]
    },
    {
     "name": "stderr",
     "output_type": "stream",
     "text": [
      "\n"
     ]
    }
   ],
   "source": [
    "from sklearn.ensemble import RandomForestRegressor\n",
    "rf= RandomForestRegressor()\n",
    "pipeline=Pipeline([('tr', scaler), ('rf', rf)], verbose = True)\n",
    "TrainML(pipeline,train_data, final_features,n_splits,SEED)"
   ]
  },
  {
   "cell_type": "markdown",
   "metadata": {},
   "source": [
    "## Tuning the models\n",
    "To get a better idea of how the models perform, I do a more rigorous CV process involving getting the unique ids so we don't bias our model towards individuals iwth multiple years of data. Then I get my train, val, and eval sets so that I can use Optuna to test out different hyperparameters and confirm on an unseen dataset.\n",
    "\n",
    "For my starting notebook, we will just tune the Catboost Regressor and LGBM Regressor."
   ]
  },
  {
   "cell_type": "code",
   "execution_count": 21,
   "metadata": {},
   "outputs": [],
   "source": [
    "\n",
    "unique_uids = train_data['uid'].unique()\n",
    "train_ids, val_ids = train_test_split(unique_uids, test_size=0.2, random_state=SEED)\n",
    "val_ids, eval_ids = train_test_split(val_ids, test_size=0.5, random_state=SEED)\n",
    "X_train, X_val,X_eval = train_data[train_data['uid'].isin(train_ids)][final_features],train_data[train_data['uid'].isin(val_ids)][final_features] , train_data[train_data['uid'].isin(eval_ids)][final_features] \n",
    "y_train, y_val,y_eval = train_data[train_data['uid'].isin(train_ids)]['composite_score'],train_data[train_data['uid'].isin(val_ids)]['composite_score'] , train_data[train_data['uid'].isin(eval_ids)]['composite_score'] \n",
    "\n",
    "\n"
   ]
  },
  {
   "cell_type": "code",
   "execution_count": 22,
   "metadata": {},
   "outputs": [],
   "source": [
    "X_train=scaler.fit_transform(X_train)\n",
    "X_val=scaler.transform(X_val)\n",
    "X_eval=scaler.transform(X_eval)"
   ]
  },
  {
   "cell_type": "code",
   "execution_count": 23,
   "metadata": {},
   "outputs": [
    {
     "data": {
      "text/plain": [
       "42.56883406675378"
      ]
     },
     "execution_count": 23,
     "metadata": {},
     "output_type": "execute_result"
    }
   ],
   "source": [
    "xgb = XGBRegressor(  verbose=False)\n",
    "\n",
    "\n",
    "xgb.fit(X_train,y_train)\n",
    "y_pred = xgb.predict(X_val).round(0).astype(int)\n",
    "mean_squared_error(y_val, y_pred, squared=False)"
   ]
  },
  {
   "cell_type": "code",
   "execution_count": 24,
   "metadata": {},
   "outputs": [
    {
     "name": "stderr",
     "output_type": "stream",
     "text": [
      "[I 2024-12-10 19:41:55,376] A new study created in memory with name: catboost-seed45\n"
     ]
    },
    {
     "data": {
      "application/vnd.jupyter.widget-view+json": {
       "model_id": "c010a511cb4640538ae8e257a1315a7d",
       "version_major": 2,
       "version_minor": 0
      },
      "text/plain": [
       "  0%|          | 0/10 [00:00<?, ?it/s]"
      ]
     },
     "metadata": {},
     "output_type": "display_data"
    },
    {
     "name": "stdout",
     "output_type": "stream",
     "text": [
      "[I 2024-12-10 19:42:00,135] Trial 0 finished with value: 39.513957544613994 and parameters: {'learning_rate': 0.07284360608432923, 'depth': 7, 'iterations': 141}. Best is trial 0 with value: 39.513957544613994.\n",
      "[I 2024-12-10 19:42:01,391] Trial 8 finished with value: 39.440119004170214 and parameters: {'learning_rate': 0.0753392000434774, 'depth': 7, 'iterations': 326}. Best is trial 8 with value: 39.440119004170214.\n",
      "[I 2024-12-10 19:42:01,844] Trial 1 finished with value: 39.3863298947109 and parameters: {'learning_rate': 0.08357594884561163, 'depth': 7, 'iterations': 492}. Best is trial 1 with value: 39.3863298947109.\n",
      "[I 2024-12-10 19:42:01,898] Trial 3 finished with value: 39.311607896582 and parameters: {'learning_rate': 0.09624415794039748, 'depth': 7, 'iterations': 345}. Best is trial 3 with value: 39.311607896582.\n",
      "[I 2024-12-10 19:42:04,436] Trial 9 finished with value: 39.99937609721964 and parameters: {'learning_rate': 0.06626011232034945, 'depth': 9, 'iterations': 134}. Best is trial 3 with value: 39.311607896582.\n",
      "[I 2024-12-10 19:42:04,527] Trial 5 finished with value: 39.302402861515596 and parameters: {'learning_rate': 0.05463643183352533, 'depth': 8, 'iterations': 210}. Best is trial 5 with value: 39.302402861515596.\n",
      "[I 2024-12-10 19:42:09,048] Trial 4 finished with value: 39.5179809672341 and parameters: {'learning_rate': 0.06579127202078662, 'depth': 9, 'iterations': 277}. Best is trial 5 with value: 39.302402861515596.\n",
      "[I 2024-12-10 19:42:12,410] Trial 7 finished with value: 39.85888361930144 and parameters: {'learning_rate': 0.03022181568042957, 'depth': 10, 'iterations': 202}. Best is trial 5 with value: 39.302402861515596.\n",
      "[I 2024-12-10 19:42:15,639] Trial 2 finished with value: 39.811295603823226 and parameters: {'learning_rate': 0.0584671123422096, 'depth': 10, 'iterations': 363}. Best is trial 5 with value: 39.302402861515596.\n",
      "[I 2024-12-10 19:42:16,188] Trial 6 finished with value: 39.59223387330027 and parameters: {'learning_rate': 0.04276873682430616, 'depth': 10, 'iterations': 344}. Best is trial 5 with value: 39.302402861515596.\n"
     ]
    }
   ],
   "source": [
    "def objective(trial):\n",
    "    param = {}\n",
    "    param['learning_rate'] = trial.suggest_float(\"learning_rate\", 3e-2, 1e-1, log=True)\n",
    "    param['depth'] = trial.suggest_int('depth', 7,10)\n",
    "    param['iterations'] = trial.suggest_int('iterations', 100, 500)\n",
    "    param['use_best_model'] = True\n",
    "    param['eval_metric'] = 'RMSE'\n",
    "    param['od_type'] = 'iter'\n",
    "    param['od_wait'] = 1000\n",
    "    param['random_state'] = SEED\n",
    "    param['logging_level'] = 'Silent'\n",
    "    \n",
    "    regressor = CatBoostRegressor(**param)\n",
    "    \n",
    "    regressor.fit(X_train.copy(), y_train.copy(),\n",
    "                  eval_set=[(X_eval.copy(), y_eval.copy())],\n",
    "                  early_stopping_rounds=100)\n",
    "    loss = mean_squared_error(y_val, regressor.predict(X_val.copy()), squared=False)\n",
    "    return loss\n",
    "\n",
    "study = optuna.create_study(study_name=f'catboost-seed{SEED}')\n",
    "study.optimize(objective, n_trials=10, n_jobs=-1,show_progress_bar=True, timeout=24000)"
   ]
  },
  {
   "cell_type": "markdown",
   "metadata": {},
   "source": [
    "Take the study's best hyperparameters and assign them to \"cat_params\" to use going forward."
   ]
  },
  {
   "cell_type": "code",
   "execution_count": 25,
   "metadata": {},
   "outputs": [],
   "source": [
    "cat_params=study.best_params"
   ]
  },
  {
   "cell_type": "code",
   "execution_count": 26,
   "metadata": {},
   "outputs": [
    {
     "data": {
      "text/plain": [
       "39.65091216707065"
      ]
     },
     "execution_count": 26,
     "metadata": {},
     "output_type": "execute_result"
    }
   ],
   "source": [
    "\n",
    "cat = CatBoostRegressor(**cat_params, verbose=False)\n",
    "\n",
    "\n",
    "cat.fit(X_train.copy(), y_train.copy(),\n",
    "                  eval_set=[(X_eval.copy(), y_eval.copy())],\n",
    "                  early_stopping_rounds=100)\n",
    "y_pred = cat.predict(X_val).round(0).astype(int)\n",
    "mean_squared_error(y_val, y_pred, squared=False)"
   ]
  },
  {
   "cell_type": "markdown",
   "metadata": {},
   "source": [
    "### Feature Importance\n",
    "Let's look at the top features in the catboost model"
   ]
  },
  {
   "cell_type": "code",
   "execution_count": 27,
   "metadata": {},
   "outputs": [],
   "source": [
    "feature_importance = cat.feature_importances_\n",
    "sorted_idx = np.argsort(feature_importance)\n"
   ]
  },
  {
   "cell_type": "code",
   "execution_count": 31,
   "metadata": {},
   "outputs": [
    {
     "data": {
      "text/html": [
       "<div>\n",
       "<style scoped>\n",
       "    .dataframe tbody tr th:only-of-type {\n",
       "        vertical-align: middle;\n",
       "    }\n",
       "\n",
       "    .dataframe tbody tr th {\n",
       "        vertical-align: top;\n",
       "    }\n",
       "\n",
       "    .dataframe thead th {\n",
       "        text-align: right;\n",
       "    }\n",
       "</style>\n",
       "<table border=\"1\" class=\"dataframe\">\n",
       "  <thead>\n",
       "    <tr style=\"text-align: right;\">\n",
       "      <th></th>\n",
       "      <th>rjobend_reason_12_1.Retired</th>\n",
       "      <th>happy_03</th>\n",
       "      <th>rjlocc_m_12_2.Technicians</th>\n",
       "      <th>care_adult_12</th>\n",
       "      <th>rjlocc_m_12_13.Administrative Support Staff</th>\n",
       "      <th>insur_private_12</th>\n",
       "      <th>rjlocc_m_12_12.Department Heads/Coordinators/Supervisors in Admin and Service Activities</th>\n",
       "      <th>rameduc_m_3.Primary</th>\n",
       "      <th>seg_pop_12</th>\n",
       "      <th>rjlocc_m_12_5.Officials and Directors Public, Private, and Social Sectors</th>\n",
       "      <th>rjlocc_m_12_7.Bosses/Supervisors etc in Artistic, Ind. Production, Repair, Maintenance Activities</th>\n",
       "      <th>rjlocc_m_12_9.Operators of Fixed Machinery and Equipment for Ind. Production</th>\n",
       "      <th>rjlocc_m_12_1.Professionals</th>\n",
       "      <th>sgender_03_2.Woman</th>\n",
       "      <th>a34_12_Yes 1</th>\n",
       "      <th>n_living_child_03_1. 1 or 2</th>\n",
       "      <th>decis_personal_12_3. None</th>\n",
       "      <th>rrelgimp_03_1.very important</th>\n",
       "      <th>volunteer_12</th>\n",
       "      <th>rjlocc_m_12_3.Educators</th>\n",
       "    </tr>\n",
       "  </thead>\n",
       "  <tbody>\n",
       "    <tr>\n",
       "      <th>0</th>\n",
       "      <td>0.0</td>\n",
       "      <td>0.0</td>\n",
       "      <td>0.0</td>\n",
       "      <td>0.0</td>\n",
       "      <td>0.0</td>\n",
       "      <td>0.0</td>\n",
       "      <td>0.0</td>\n",
       "      <td>0.0</td>\n",
       "      <td>1.0</td>\n",
       "      <td>0.0</td>\n",
       "      <td>0.0</td>\n",
       "      <td>0.0</td>\n",
       "      <td>0.0</td>\n",
       "      <td>0.0</td>\n",
       "      <td>0.0</td>\n",
       "      <td>0.0</td>\n",
       "      <td>0.0</td>\n",
       "      <td>0.0</td>\n",
       "      <td>0.0</td>\n",
       "      <td>0.0</td>\n",
       "    </tr>\n",
       "    <tr>\n",
       "      <th>1</th>\n",
       "      <td>0.0</td>\n",
       "      <td>0.0</td>\n",
       "      <td>0.0</td>\n",
       "      <td>0.0</td>\n",
       "      <td>0.0</td>\n",
       "      <td>0.0</td>\n",
       "      <td>0.0</td>\n",
       "      <td>0.0</td>\n",
       "      <td>0.0</td>\n",
       "      <td>0.0</td>\n",
       "      <td>0.0</td>\n",
       "      <td>0.0</td>\n",
       "      <td>0.0</td>\n",
       "      <td>0.0</td>\n",
       "      <td>0.0</td>\n",
       "      <td>0.0</td>\n",
       "      <td>0.0</td>\n",
       "      <td>0.0</td>\n",
       "      <td>0.0</td>\n",
       "      <td>0.0</td>\n",
       "    </tr>\n",
       "    <tr>\n",
       "      <th>2</th>\n",
       "      <td>0.0</td>\n",
       "      <td>0.0</td>\n",
       "      <td>0.0</td>\n",
       "      <td>0.0</td>\n",
       "      <td>0.0</td>\n",
       "      <td>0.0</td>\n",
       "      <td>0.0</td>\n",
       "      <td>0.0</td>\n",
       "      <td>0.0</td>\n",
       "      <td>0.0</td>\n",
       "      <td>0.0</td>\n",
       "      <td>0.0</td>\n",
       "      <td>0.0</td>\n",
       "      <td>0.0</td>\n",
       "      <td>0.0</td>\n",
       "      <td>0.0</td>\n",
       "      <td>0.0</td>\n",
       "      <td>0.0</td>\n",
       "      <td>0.0</td>\n",
       "      <td>0.0</td>\n",
       "    </tr>\n",
       "    <tr>\n",
       "      <th>3</th>\n",
       "      <td>0.0</td>\n",
       "      <td>0.0</td>\n",
       "      <td>0.0</td>\n",
       "      <td>0.0</td>\n",
       "      <td>0.0</td>\n",
       "      <td>0.0</td>\n",
       "      <td>0.0</td>\n",
       "      <td>0.0</td>\n",
       "      <td>0.0</td>\n",
       "      <td>0.0</td>\n",
       "      <td>0.0</td>\n",
       "      <td>0.0</td>\n",
       "      <td>0.0</td>\n",
       "      <td>0.0</td>\n",
       "      <td>0.0</td>\n",
       "      <td>0.0</td>\n",
       "      <td>0.0</td>\n",
       "      <td>0.0</td>\n",
       "      <td>0.0</td>\n",
       "      <td>0.0</td>\n",
       "    </tr>\n",
       "    <tr>\n",
       "      <th>4</th>\n",
       "      <td>0.0</td>\n",
       "      <td>1.0</td>\n",
       "      <td>0.0</td>\n",
       "      <td>0.0</td>\n",
       "      <td>0.0</td>\n",
       "      <td>0.0</td>\n",
       "      <td>0.0</td>\n",
       "      <td>0.0</td>\n",
       "      <td>0.0</td>\n",
       "      <td>0.0</td>\n",
       "      <td>0.0</td>\n",
       "      <td>0.0</td>\n",
       "      <td>0.0</td>\n",
       "      <td>0.0</td>\n",
       "      <td>0.0</td>\n",
       "      <td>1.0</td>\n",
       "      <td>0.0</td>\n",
       "      <td>1.0</td>\n",
       "      <td>0.0</td>\n",
       "      <td>0.0</td>\n",
       "    </tr>\n",
       "  </tbody>\n",
       "</table>\n",
       "</div>"
      ],
      "text/plain": [
       "   rjobend_reason_12_1.Retired  happy_03  rjlocc_m_12_2.Technicians  \\\n",
       "0                          0.0       0.0                        0.0   \n",
       "1                          0.0       0.0                        0.0   \n",
       "2                          0.0       0.0                        0.0   \n",
       "3                          0.0       0.0                        0.0   \n",
       "4                          0.0       1.0                        0.0   \n",
       "\n",
       "   care_adult_12  rjlocc_m_12_13.Administrative Support Staff  \\\n",
       "0            0.0                                          0.0   \n",
       "1            0.0                                          0.0   \n",
       "2            0.0                                          0.0   \n",
       "3            0.0                                          0.0   \n",
       "4            0.0                                          0.0   \n",
       "\n",
       "   insur_private_12  \\\n",
       "0               0.0   \n",
       "1               0.0   \n",
       "2               0.0   \n",
       "3               0.0   \n",
       "4               0.0   \n",
       "\n",
       "   rjlocc_m_12_12.Department Heads/Coordinators/Supervisors in Admin and Service Activities  \\\n",
       "0                                                0.0                                          \n",
       "1                                                0.0                                          \n",
       "2                                                0.0                                          \n",
       "3                                                0.0                                          \n",
       "4                                                0.0                                          \n",
       "\n",
       "   rameduc_m_3.Primary  seg_pop_12  \\\n",
       "0                  0.0         1.0   \n",
       "1                  0.0         0.0   \n",
       "2                  0.0         0.0   \n",
       "3                  0.0         0.0   \n",
       "4                  0.0         0.0   \n",
       "\n",
       "   rjlocc_m_12_5.Officials and Directors Public, Private, and Social Sectors  \\\n",
       "0                                                0.0                           \n",
       "1                                                0.0                           \n",
       "2                                                0.0                           \n",
       "3                                                0.0                           \n",
       "4                                                0.0                           \n",
       "\n",
       "   rjlocc_m_12_7.Bosses/Supervisors etc in Artistic, Ind. Production, Repair, Maintenance Activities  \\\n",
       "0                                                0.0                                                   \n",
       "1                                                0.0                                                   \n",
       "2                                                0.0                                                   \n",
       "3                                                0.0                                                   \n",
       "4                                                0.0                                                   \n",
       "\n",
       "   rjlocc_m_12_9.Operators of Fixed Machinery and Equipment for Ind. Production  \\\n",
       "0                                                0.0                              \n",
       "1                                                0.0                              \n",
       "2                                                0.0                              \n",
       "3                                                0.0                              \n",
       "4                                                0.0                              \n",
       "\n",
       "   rjlocc_m_12_1.Professionals  sgender_03_2.Woman  a34_12_Yes 1  \\\n",
       "0                          0.0                 0.0           0.0   \n",
       "1                          0.0                 0.0           0.0   \n",
       "2                          0.0                 0.0           0.0   \n",
       "3                          0.0                 0.0           0.0   \n",
       "4                          0.0                 0.0           0.0   \n",
       "\n",
       "   n_living_child_03_1. 1 or 2  decis_personal_12_3. None  \\\n",
       "0                          0.0                        0.0   \n",
       "1                          0.0                        0.0   \n",
       "2                          0.0                        0.0   \n",
       "3                          0.0                        0.0   \n",
       "4                          1.0                        0.0   \n",
       "\n",
       "   rrelgimp_03_1.very important  volunteer_12  rjlocc_m_12_3.Educators  \n",
       "0                           0.0           0.0                      0.0  \n",
       "1                           0.0           0.0                      0.0  \n",
       "2                           0.0           0.0                      0.0  \n",
       "3                           0.0           0.0                      0.0  \n",
       "4                           1.0           0.0                      0.0  "
      ]
     },
     "execution_count": 31,
     "metadata": {},
     "output_type": "execute_result"
    }
   ],
   "source": [
    "df_train=train_data[final_features]\n",
    "top_features=list(df_train.columns[sorted_idx[:20]])\n",
    "df_train[top_features].head()"
   ]
  },
  {
   "cell_type": "code",
   "execution_count": 32,
   "metadata": {},
   "outputs": [
    {
     "name": "stderr",
     "output_type": "stream",
     "text": [
      "[I 2024-12-10 19:44:31,789] A new study created in memory with name: lgbm-seed45\n"
     ]
    },
    {
     "data": {
      "application/vnd.jupyter.widget-view+json": {
       "model_id": "ee748a9b7d9a4d4898a4e8143f4d795a",
       "version_major": 2,
       "version_minor": 0
      },
      "text/plain": [
       "  0%|          | 0/50 [00:00<?, ?it/s]"
      ]
     },
     "metadata": {},
     "output_type": "display_data"
    },
    {
     "name": "stdout",
     "output_type": "stream",
     "text": [
      "[I 2024-12-10 19:44:33,505] Trial 1 finished with value: 41.2621845108574 and parameters: {'subsample': 0.22648220670817618, 'learning_rate': 0.007020883816742002, 'max_depth': 27, 'num_leaves': 28}. Best is trial 1 with value: 41.2621845108574.\n",
      "[I 2024-12-10 19:44:34,524] Trial 3 finished with value: 40.40392372949772 and parameters: {'subsample': 0.42602353290344985, 'learning_rate': 0.019682079155082997, 'max_depth': 10, 'num_leaves': 43}. Best is trial 3 with value: 40.40392372949772.\n",
      "[I 2024-12-10 19:44:35,383] Trial 8 finished with value: 40.93584682895453 and parameters: {'subsample': 0.5779791298943054, 'learning_rate': 0.012717397964945806, 'max_depth': 13, 'num_leaves': 66}. Best is trial 3 with value: 40.40392372949772.\n",
      "[I 2024-12-10 19:44:35,602] Trial 0 finished with value: 41.373516574618186 and parameters: {'subsample': 0.8223007501043901, 'learning_rate': 0.05369893124874582, 'max_depth': 11, 'num_leaves': 154}. Best is trial 3 with value: 40.40392372949772.\n",
      "[I 2024-12-10 19:44:35,846] Trial 4 finished with value: 41.26046327322072 and parameters: {'subsample': 0.23143981700247143, 'learning_rate': 0.031180968633056787, 'max_depth': 14, 'num_leaves': 93}. Best is trial 3 with value: 40.40392372949772.\n",
      "[I 2024-12-10 19:44:36,490] Trial 13 finished with value: 41.61924519700795 and parameters: {'subsample': 0.6561212206617919, 'learning_rate': 0.045758572928915345, 'max_depth': 16, 'num_leaves': 140}. Best is trial 3 with value: 40.40392372949772.\n",
      "[I 2024-12-10 19:44:36,566] Trial 14 finished with value: 41.5426970709208 and parameters: {'subsample': 0.2247397930578977, 'learning_rate': 0.01647693616564038, 'max_depth': 12, 'num_leaves': 139}. Best is trial 3 with value: 40.40392372949772.\n",
      "[I 2024-12-10 19:44:36,588] Trial 15 finished with value: 41.28921221257269 and parameters: {'subsample': 0.4804255648460953, 'learning_rate': 0.04276429837942922, 'max_depth': 18, 'num_leaves': 111}. Best is trial 3 with value: 40.40392372949772.\n",
      "[I 2024-12-10 19:44:37,171] Trial 16 finished with value: 41.25988591613336 and parameters: {'subsample': 0.5753142537654107, 'learning_rate': 0.009490680956197801, 'max_depth': 34, 'num_leaves': 63}. Best is trial 3 with value: 40.40392372949772.\n",
      "[I 2024-12-10 19:44:37,530] Trial 18 finished with value: 40.283096699211946 and parameters: {'subsample': 0.380892705341174, 'learning_rate': 0.04034669388637346, 'max_depth': 32, 'num_leaves': 36}. Best is trial 18 with value: 40.283096699211946.\n",
      "[I 2024-12-10 19:44:37,532] Trial 7 finished with value: 41.231384381315905 and parameters: {'subsample': 0.28221315787685153, 'learning_rate': 0.010281780313134491, 'max_depth': 33, 'num_leaves': 107}. Best is trial 18 with value: 40.283096699211946.\n",
      "[I 2024-12-10 19:44:37,937] Trial 11 finished with value: 42.811591281566045 and parameters: {'subsample': 0.40127034266482925, 'learning_rate': 0.005687029296046356, 'max_depth': 25, 'num_leaves': 116}. Best is trial 18 with value: 40.283096699211946.\n",
      "[I 2024-12-10 19:44:38,067] Trial 10 finished with value: 41.4771552895098 and parameters: {'subsample': 0.8984136418812969, 'learning_rate': 0.024999901280486517, 'max_depth': 24, 'num_leaves': 198}. Best is trial 18 with value: 40.283096699211946.\n",
      "[I 2024-12-10 19:44:38,227] Trial 26 finished with value: 39.6699409961574 and parameters: {'subsample': 0.3486899638431184, 'learning_rate': 0.025456360153935004, 'max_depth': 22, 'num_leaves': 7}. Best is trial 26 with value: 39.6699409961574.\n",
      "[I 2024-12-10 19:44:38,297] Trial 25 finished with value: 39.65105705705294 and parameters: {'subsample': 0.35241213516140485, 'learning_rate': 0.025112457679952807, 'max_depth': 25, 'num_leaves': 8}. Best is trial 25 with value: 39.65105705705294.\n",
      "[I 2024-12-10 19:44:38,398] Trial 12 finished with value: 42.49345414131043 and parameters: {'subsample': 0.2149059584261743, 'learning_rate': 0.006003893333767671, 'max_depth': 19, 'num_leaves': 161}. Best is trial 25 with value: 39.65105705705294.\n",
      "[I 2024-12-10 19:44:38,482] Trial 6 finished with value: 41.481954556160964 and parameters: {'subsample': 0.567355990364246, 'learning_rate': 0.019550339750621534, 'max_depth': 30, 'num_leaves': 146}. Best is trial 25 with value: 39.65105705705294.\n",
      "[I 2024-12-10 19:44:38,571] Trial 9 finished with value: 41.25038447667441 and parameters: {'subsample': 0.3157766042245393, 'learning_rate': 0.012434100503765496, 'max_depth': 25, 'num_leaves': 149}. Best is trial 25 with value: 39.65105705705294.\n",
      "[I 2024-12-10 19:44:38,695] Trial 27 finished with value: 39.81285423512784 and parameters: {'subsample': 0.35898585803430033, 'learning_rate': 0.027168013524513805, 'max_depth': 20, 'num_leaves': 5}. Best is trial 25 with value: 39.65105705705294.\n",
      "[I 2024-12-10 19:44:38,744] Trial 2 finished with value: 41.17973810551852 and parameters: {'subsample': 0.6770916845733039, 'learning_rate': 0.01414354004248804, 'max_depth': 30, 'num_leaves': 170}. Best is trial 25 with value: 39.65105705705294.\n",
      "[I 2024-12-10 19:44:38,855] Trial 28 finished with value: 39.85844988855039 and parameters: {'subsample': 0.36375539063453866, 'learning_rate': 0.024862673452335407, 'max_depth': 20, 'num_leaves': 5}. Best is trial 25 with value: 39.65105705705294.\n",
      "[I 2024-12-10 19:44:38,933] Trial 5 finished with value: 41.57757638835329 and parameters: {'subsample': 0.21238441248680237, 'learning_rate': 0.03631541320482281, 'max_depth': 34, 'num_leaves': 159}. Best is trial 25 with value: 39.65105705705294.\n",
      "[I 2024-12-10 19:44:39,155] Trial 30 finished with value: 39.71959114651409 and parameters: {'subsample': 0.31122205863455327, 'learning_rate': 0.027843350551158916, 'max_depth': 21, 'num_leaves': 6}. Best is trial 25 with value: 39.65105705705294.\n",
      "[I 2024-12-10 19:44:39,223] Trial 19 finished with value: 41.75520852543003 and parameters: {'subsample': 0.2565120737051132, 'learning_rate': 0.0067245544925523615, 'max_depth': 32, 'num_leaves': 51}. Best is trial 25 with value: 39.65105705705294.\n",
      "[I 2024-12-10 19:44:39,317] Trial 32 finished with value: 39.699622573541006 and parameters: {'subsample': 0.3167705321647428, 'learning_rate': 0.026209449308252936, 'max_depth': 21, 'num_leaves': 6}. Best is trial 25 with value: 39.65105705705294.\n",
      "[I 2024-12-10 19:44:39,390] Trial 31 finished with value: 39.605540276366355 and parameters: {'subsample': 0.31214350298704896, 'learning_rate': 0.025519245712077594, 'max_depth': 29, 'num_leaves': 7}. Best is trial 31 with value: 39.605540276366355.\n",
      "[I 2024-12-10 19:44:39,420] Trial 29 finished with value: 39.67259102040294 and parameters: {'subsample': 0.32679266317003514, 'learning_rate': 0.0329536891572096, 'max_depth': 29, 'num_leaves': 9}. Best is trial 31 with value: 39.605540276366355.\n",
      "[I 2024-12-10 19:44:39,731] Trial 34 finished with value: 39.534221114173036 and parameters: {'subsample': 0.2692542915697618, 'learning_rate': 0.03254714437561384, 'max_depth': 22, 'num_leaves': 10}. Best is trial 34 with value: 39.534221114173036.\n",
      "[I 2024-12-10 19:44:39,812] Trial 33 finished with value: 39.574371173264694 and parameters: {'subsample': 0.322938927668117, 'learning_rate': 0.029361938902753747, 'max_depth': 21, 'num_leaves': 10}. Best is trial 34 with value: 39.534221114173036.\n",
      "[I 2024-12-10 19:44:39,864] Trial 35 finished with value: 39.589652004305606 and parameters: {'subsample': 0.28540504413495443, 'learning_rate': 0.03298525662080459, 'max_depth': 21, 'num_leaves': 11}. Best is trial 34 with value: 39.534221114173036.\n",
      "[I 2024-12-10 19:44:39,974] Trial 17 finished with value: 42.6245567119552 and parameters: {'subsample': 0.702882638348534, 'learning_rate': 0.005970736428207925, 'max_depth': 18, 'num_leaves': 87}. Best is trial 34 with value: 39.534221114173036.\n",
      "[I 2024-12-10 19:44:40,032] Trial 37 finished with value: 39.498626263778874 and parameters: {'subsample': 0.3017696976497482, 'learning_rate': 0.028408450951390676, 'max_depth': 21, 'num_leaves': 11}. Best is trial 37 with value: 39.498626263778874.\n",
      "[I 2024-12-10 19:44:40,464] Trial 36 finished with value: 39.55102951040297 and parameters: {'subsample': 0.31127258125414314, 'learning_rate': 0.02859669934252769, 'max_depth': 22, 'num_leaves': 17}. Best is trial 37 with value: 39.498626263778874.\n",
      "[I 2024-12-10 19:44:40,524] Trial 24 finished with value: 40.79935232096775 and parameters: {'subsample': 0.7049395671845089, 'learning_rate': 0.052380228170265775, 'max_depth': 32, 'num_leaves': 49}. Best is trial 37 with value: 39.498626263778874.\n",
      "[I 2024-12-10 19:44:40,740] Trial 38 finished with value: 39.86416546003873 and parameters: {'subsample': 0.28541850538768926, 'learning_rate': 0.03290814052648568, 'max_depth': 22, 'num_leaves': 21}. Best is trial 37 with value: 39.498626263778874.\n",
      "[I 2024-12-10 19:44:40,928] Trial 39 finished with value: 39.83007404871447 and parameters: {'subsample': 0.31273216630047374, 'learning_rate': 0.03154382735875832, 'max_depth': 22, 'num_leaves': 20}. Best is trial 37 with value: 39.498626263778874.\n",
      "[I 2024-12-10 19:44:41,062] Trial 41 finished with value: 39.62172736606287 and parameters: {'subsample': 0.2740511369659115, 'learning_rate': 0.021520317865572694, 'max_depth': 28, 'num_leaves': 25}. Best is trial 37 with value: 39.498626263778874.\n",
      "[I 2024-12-10 19:44:41,096] Trial 40 finished with value: 39.69537356139201 and parameters: {'subsample': 0.4597445345709875, 'learning_rate': 0.021057672875605074, 'max_depth': 23, 'num_leaves': 26}. Best is trial 37 with value: 39.498626263778874.\n",
      "[I 2024-12-10 19:44:41,121] Trial 42 finished with value: 39.8657853595602 and parameters: {'subsample': 0.4636773563815334, 'learning_rate': 0.01926366749212538, 'max_depth': 27, 'num_leaves': 25}. Best is trial 37 with value: 39.498626263778874.\n",
      "[I 2024-12-10 19:44:41,340] Trial 21 finished with value: 41.09549565580945 and parameters: {'subsample': 0.6506484201662528, 'learning_rate': 0.021897200391699328, 'max_depth': 29, 'num_leaves': 75}. Best is trial 37 with value: 39.498626263778874.\n",
      "[I 2024-12-10 19:44:41,364] Trial 43 finished with value: 39.58753261483723 and parameters: {'subsample': 0.2689528329574787, 'learning_rate': 0.01942436868634595, 'max_depth': 27, 'num_leaves': 24}. Best is trial 37 with value: 39.498626263778874.\n",
      "[I 2024-12-10 19:44:41,390] Trial 45 finished with value: 40.18823968052469 and parameters: {'subsample': 0.2563282437532899, 'learning_rate': 0.04782483563712094, 'max_depth': 16, 'num_leaves': 24}. Best is trial 37 with value: 39.498626263778874.\n",
      "[I 2024-12-10 19:44:41,526] Trial 47 finished with value: 40.10737497469425 and parameters: {'subsample': 0.2685882421167192, 'learning_rate': 0.05327806710665872, 'max_depth': 23, 'num_leaves': 25}. Best is trial 37 with value: 39.498626263778874.\n",
      "[I 2024-12-10 19:44:41,582] Trial 46 finished with value: 40.543777664824965 and parameters: {'subsample': 0.2566264546585986, 'learning_rate': 0.05033617006019342, 'max_depth': 23, 'num_leaves': 28}. Best is trial 37 with value: 39.498626263778874.\n",
      "[I 2024-12-10 19:44:41,697] Trial 48 finished with value: 40.221727726994175 and parameters: {'subsample': 0.25931497980594964, 'learning_rate': 0.05839346911903335, 'max_depth': 23, 'num_leaves': 25}. Best is trial 37 with value: 39.498626263778874.\n",
      "[I 2024-12-10 19:44:41,755] Trial 49 finished with value: 39.44544153349997 and parameters: {'subsample': 0.257554081558707, 'learning_rate': 0.02109832918016353, 'max_depth': 23, 'num_leaves': 25}. Best is trial 49 with value: 39.44544153349997.\n",
      "[I 2024-12-10 19:44:41,979] Trial 20 finished with value: 42.70851466720007 and parameters: {'subsample': 0.41820911095043395, 'learning_rate': 0.005489788149478515, 'max_depth': 12, 'num_leaves': 142}. Best is trial 49 with value: 39.44544153349997.\n",
      "[I 2024-12-10 19:44:42,025] Trial 23 finished with value: 41.03114977914714 and parameters: {'subsample': 0.7315020050807326, 'learning_rate': 0.01874159715153944, 'max_depth': 17, 'num_leaves': 198}. Best is trial 49 with value: 39.44544153349997.\n",
      "[I 2024-12-10 19:44:42,240] Trial 44 finished with value: 41.526187909109424 and parameters: {'subsample': 0.2671119308143088, 'learning_rate': 0.05777932837034962, 'max_depth': 17, 'num_leaves': 81}. Best is trial 49 with value: 39.44544153349997.\n",
      "[I 2024-12-10 19:44:42,329] Trial 22 finished with value: 42.118398727826225 and parameters: {'subsample': 0.822396960173724, 'learning_rate': 0.006726050786713051, 'max_depth': 35, 'num_leaves': 128}. Best is trial 49 with value: 39.44544153349997.\n"
     ]
    }
   ],
   "source": [
    "def objective(trial):\n",
    "    \n",
    "    \n",
    "    param = {\n",
    "        'metric': 'rmse', \n",
    "        'random_state': SEED,\n",
    "        'n_estimators': 300,\n",
    "        'subsample': trial.suggest_loguniform('subsample', 2e-1,.9), \n",
    "        'learning_rate': trial.suggest_loguniform('learning_rate', 5e-3,6e-2), \n",
    "        'max_depth': trial.suggest_int('max_depth', 10, 35),\n",
    "        'num_leaves' : trial.suggest_int('num_leaves', 5, 200)\n",
    "    }\n",
    "    model = LGBMRegressor(**param)  \n",
    "    \n",
    "    model.fit(X_train.copy(), y_train.copy(),\n",
    "                  eval_set=[(X_eval.copy(), y_eval.copy())])\n",
    "    \n",
    "    \n",
    "    \n",
    "    loss = mean_squared_error(y_val, model.predict(X_val.copy()), squared=False)\n",
    "    return loss\n",
    "\n",
    "study = optuna.create_study(study_name=f'lgbm-seed{SEED}')\n",
    "study.optimize(objective, n_trials=50, n_jobs=-1,show_progress_bar=True, timeout=24000)"
   ]
  },
  {
   "cell_type": "code",
   "execution_count": 33,
   "metadata": {},
   "outputs": [
    {
     "data": {
      "text/plain": [
       "41.22732695995352"
      ]
     },
     "execution_count": 33,
     "metadata": {},
     "output_type": "execute_result"
    }
   ],
   "source": [
    "lgb_params=study.best_params\n",
    "lgb=LGBMRegressor(**lgb_params,verbosity=-1)\n",
    "lgb.fit(X_train,y_train)\n",
    "y_pred = lgb.predict(X_val).round(0).astype(int)\n",
    "mean_squared_error(y_val, y_pred, squared=False)"
   ]
  },
  {
   "cell_type": "markdown",
   "metadata": {},
   "source": [
    "## Test the Model(s)\n",
    "Fit the final models to the full training set and then predict the test data."
   ]
  },
  {
   "cell_type": "code",
   "execution_count": 34,
   "metadata": {},
   "outputs": [],
   "source": [
    "\n",
    "X=train_data[final_features]\n",
    "\n",
    "X_test=test_data[final_features]\n",
    "\n",
    "y=train_data['composite_score']\n",
    "X=scaler.fit_transform(X)\n",
    "\n",
    "cat = CatBoostRegressor(**cat_params, verbose=False)\n",
    "\n",
    "cat.fit(X_train.copy(), y_train.copy(),\n",
    "                  eval_set=[(X_eval.copy(), y_eval.copy())],\n",
    "                  early_stopping_rounds=100)\n",
    "X_test=scaler.transform(X_test)\n",
    "y_pred_cat=cat.predict(X_test)\n",
    "\n",
    "y_pred_lgb=lgb.predict(X_test)\n",
    "\n",
    "\n"
   ]
  },
  {
   "cell_type": "markdown",
   "metadata": {},
   "source": [
    "## Final Test Predictions\n",
    "We can visualize the distribution of the test predictions compared to the training set and describe the values to see if they make sense. Then we can write the submission to a csv."
   ]
  },
  {
   "cell_type": "code",
   "execution_count": 35,
   "metadata": {},
   "outputs": [
    {
     "data": {
      "text/html": [
       "<div>\n",
       "<style scoped>\n",
       "    .dataframe tbody tr th:only-of-type {\n",
       "        vertical-align: middle;\n",
       "    }\n",
       "\n",
       "    .dataframe tbody tr th {\n",
       "        vertical-align: top;\n",
       "    }\n",
       "\n",
       "    .dataframe thead th {\n",
       "        text-align: right;\n",
       "    }\n",
       "</style>\n",
       "<table border=\"1\" class=\"dataframe\">\n",
       "  <thead>\n",
       "    <tr style=\"text-align: right;\">\n",
       "      <th></th>\n",
       "      <th>uid</th>\n",
       "      <th>year</th>\n",
       "      <th>composite_score</th>\n",
       "    </tr>\n",
       "  </thead>\n",
       "  <tbody>\n",
       "    <tr>\n",
       "      <th>0</th>\n",
       "      <td>abxu</td>\n",
       "      <td>2016</td>\n",
       "      <td>185</td>\n",
       "    </tr>\n",
       "    <tr>\n",
       "      <th>1</th>\n",
       "      <td>aeol</td>\n",
       "      <td>2016</td>\n",
       "      <td>209</td>\n",
       "    </tr>\n",
       "    <tr>\n",
       "      <th>2</th>\n",
       "      <td>aeol</td>\n",
       "      <td>2021</td>\n",
       "      <td>199</td>\n",
       "    </tr>\n",
       "    <tr>\n",
       "      <th>3</th>\n",
       "      <td>afnb</td>\n",
       "      <td>2016</td>\n",
       "      <td>190</td>\n",
       "    </tr>\n",
       "    <tr>\n",
       "      <th>4</th>\n",
       "      <td>afnb</td>\n",
       "      <td>2021</td>\n",
       "      <td>184</td>\n",
       "    </tr>\n",
       "    <tr>\n",
       "      <th>5</th>\n",
       "      <td>ajfh</td>\n",
       "      <td>2016</td>\n",
       "      <td>148</td>\n",
       "    </tr>\n",
       "    <tr>\n",
       "      <th>6</th>\n",
       "      <td>ajfh</td>\n",
       "      <td>2021</td>\n",
       "      <td>145</td>\n",
       "    </tr>\n",
       "    <tr>\n",
       "      <th>7</th>\n",
       "      <td>ajvq</td>\n",
       "      <td>2021</td>\n",
       "      <td>206</td>\n",
       "    </tr>\n",
       "    <tr>\n",
       "      <th>8</th>\n",
       "      <td>akbn</td>\n",
       "      <td>2016</td>\n",
       "      <td>125</td>\n",
       "    </tr>\n",
       "    <tr>\n",
       "      <th>9</th>\n",
       "      <td>akcw</td>\n",
       "      <td>2021</td>\n",
       "      <td>175</td>\n",
       "    </tr>\n",
       "  </tbody>\n",
       "</table>\n",
       "</div>"
      ],
      "text/plain": [
       "    uid  year  composite_score\n",
       "0  abxu  2016              185\n",
       "1  aeol  2016              209\n",
       "2  aeol  2021              199\n",
       "3  afnb  2016              190\n",
       "4  afnb  2021              184\n",
       "5  ajfh  2016              148\n",
       "6  ajfh  2021              145\n",
       "7  ajvq  2021              206\n",
       "8  akbn  2016              125\n",
       "9  akcw  2021              175"
      ]
     },
     "execution_count": 35,
     "metadata": {},
     "output_type": "execute_result"
    }
   ],
   "source": [
    "sample_submission_fname = os.path.join(root_dir,  \"data/submission_format.csv\")\n",
    "submission=pd.read_csv(sample_submission_fname)\n",
    "\n",
    "submission['composite_score']=y_pred_cat.round(0).astype(int)\n",
    "\n",
    "\n",
    "submission.head(10)"
   ]
  },
  {
   "cell_type": "code",
   "execution_count": 36,
   "metadata": {},
   "outputs": [
    {
     "data": {
      "text/plain": [
       "count    1105.000000\n",
       "mean      156.256109\n",
       "std        45.605592\n",
       "min        54.000000\n",
       "25%       117.000000\n",
       "50%       154.000000\n",
       "75%       192.000000\n",
       "max       266.000000\n",
       "Name: composite_score, dtype: float64"
      ]
     },
     "execution_count": 36,
     "metadata": {},
     "output_type": "execute_result"
    }
   ],
   "source": [
    "submission['composite_score'].describe()"
   ]
  },
  {
   "cell_type": "code",
   "execution_count": 37,
   "metadata": {},
   "outputs": [
    {
     "data": {
      "text/plain": [
       "(array([ 26.,  81., 171., 128., 182., 152., 170., 113.,  59.,  23.]),\n",
       " array([ 54. ,  75.2,  96.4, 117.6, 138.8, 160. , 181.2, 202.4, 223.6,\n",
       "        244.8, 266. ]),\n",
       " <BarContainer object of 10 artists>)"
      ]
     },
     "execution_count": 37,
     "metadata": {},
     "output_type": "execute_result"
    },
    {
     "data": {
      "image/png": "[encoded data removed]",
      "text/plain": [
       "<Figure size 640x480 with 1 Axes>"
      ]
     },
     "metadata": {},
     "output_type": "display_data"
    }
   ],
   "source": [
    "plt.hist(submission['composite_score'])"
   ]
  },
  {
   "cell_type": "code",
   "execution_count": 38,
   "metadata": {},
   "outputs": [
    {
     "data": {
      "text/plain": [
       "(array([136., 186., 505., 761., 879., 833., 573., 332., 113.,  25.]),\n",
       " array([  4.,  37.,  70., 103., 136., 169., 202., 235., 268., 301., 334.]),\n",
       " <BarContainer object of 10 artists>)"
      ]
     },
     "execution_count": 38,
     "metadata": {},
     "output_type": "execute_result"
    },
    {
     "data": {
      "image/png": "[encoded data removed]",
      "text/plain": [
       "<Figure size 640x480 with 1 Axes>"
      ]
     },
     "metadata": {},
     "output_type": "display_data"
    }
   ],
   "source": [
    "plt.hist(train_data['composite_score'])"
   ]
  },
  {
   "cell_type": "code",
   "execution_count": 39,
   "metadata": {},
   "outputs": [
    {
     "data": {
      "text/plain": [
       "count    4343.000000\n",
       "mean      157.016809\n",
       "std        60.909546\n",
       "min         4.000000\n",
       "25%       114.000000\n",
       "50%       157.000000\n",
       "75%       200.000000\n",
       "max       334.000000\n",
       "Name: composite_score, dtype: float64"
      ]
     },
     "execution_count": 39,
     "metadata": {},
     "output_type": "execute_result"
    }
   ],
   "source": [
    "train_data['composite_score'].describe()"
   ]
  },
  {
   "cell_type": "code",
   "execution_count": null,
   "metadata": {},
   "outputs": [],
   "source": [
    "submission[['uid','year','composite_score']].to_csv('submission.csv', index=False)"
   ]
  },
  {
   "cell_type": "code",
   "execution_count": 40,
   "metadata": {},
   "outputs": [
    {
     "data": {
      "text/html": [
       "<div>\n",
       "<style scoped>\n",
       "    .dataframe tbody tr th:only-of-type {\n",
       "        vertical-align: middle;\n",
       "    }\n",
       "\n",
       "    .dataframe tbody tr th {\n",
       "        vertical-align: top;\n",
       "    }\n",
       "\n",
       "    .dataframe thead th {\n",
       "        text-align: right;\n",
       "    }\n",
       "</style>\n",
       "<table border=\"1\" class=\"dataframe\">\n",
       "  <thead>\n",
       "    <tr style=\"text-align: right;\">\n",
       "      <th></th>\n",
       "      <th>uid</th>\n",
       "      <th>year</th>\n",
       "      <th>composite_score</th>\n",
       "    </tr>\n",
       "  </thead>\n",
       "  <tbody>\n",
       "    <tr>\n",
       "      <th>0</th>\n",
       "      <td>abxu</td>\n",
       "      <td>2016</td>\n",
       "      <td>185</td>\n",
       "    </tr>\n",
       "    <tr>\n",
       "      <th>1</th>\n",
       "      <td>aeol</td>\n",
       "      <td>2016</td>\n",
       "      <td>209</td>\n",
       "    </tr>\n",
       "    <tr>\n",
       "      <th>2</th>\n",
       "      <td>aeol</td>\n",
       "      <td>2021</td>\n",
       "      <td>199</td>\n",
       "    </tr>\n",
       "    <tr>\n",
       "      <th>3</th>\n",
       "      <td>afnb</td>\n",
       "      <td>2016</td>\n",
       "      <td>190</td>\n",
       "    </tr>\n",
       "    <tr>\n",
       "      <th>4</th>\n",
       "      <td>afnb</td>\n",
       "      <td>2021</td>\n",
       "      <td>184</td>\n",
       "    </tr>\n",
       "  </tbody>\n",
       "</table>\n",
       "</div>"
      ],
      "text/plain": [
       "    uid  year  composite_score\n",
       "0  abxu  2016              185\n",
       "1  aeol  2016              209\n",
       "2  aeol  2021              199\n",
       "3  afnb  2016              190\n",
       "4  afnb  2021              184"
      ]
     },
     "execution_count": 40,
     "metadata": {},
     "output_type": "execute_result"
    }
   ],
   "source": [
    "submission.head()"
   ]
  },
  {
   "cell_type": "code",
   "execution_count": null,
   "metadata": {},
   "outputs": [],
   "source": []
  },
  {
   "cell_type": "code",
   "execution_count": null,
   "metadata": {},
   "outputs": [],
   "source": []
  }
 ],
 "metadata": {
  "kernelspec": {
   "display_name": "base",
   "language": "python",
   "name": "python3"
  },
  "language_info": {
   "codemirror_mode": {
    "name": "ipython",
    "version": 3
   },
   "file_extension": ".py",
   "mimetype": "text/x-python",
   "name": "python",
   "nbconvert_exporter": "python",
   "pygments_lexer": "ipython3",
   "version": "3.10.9"
  }
 },
 "nbformat": 4,
 "nbformat_minor": 2
}
