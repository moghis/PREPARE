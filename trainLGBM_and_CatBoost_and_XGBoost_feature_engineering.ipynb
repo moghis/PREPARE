{
 "cells": [
  {
   "cell_type": "code",
   "execution_count": 1,
   "metadata": {},
   "outputs": [],
   "source": [
    "import pandas as pd\n",
    "import numpy as np\n",
    "# load libraries\n",
    "\n",
    "import numpy as np\n",
    "import pandas as pd\n",
    "import matplotlib.pyplot as plt\n",
    "import seaborn as sns\n",
    "\n",
    "from sklearn.metrics import root_mean_squared_error\n",
    "from sklearn.model_selection import StratifiedGroupKFold,StratifiedShuffleSplit,KFold,train_test_split\n",
    "from catboost import CatBoostRegressor\n",
    "from sklearn.preprocessing import StandardScaler\n",
    "from sklearn.impute import SimpleImputer\n",
    "import lightgbm as lgb\n",
    "from sklearn.model_selection import KFold\n",
    "import numpy as np\n",
    "import lightgbm as lgb\n",
    "from catboost import CatBoostRegressor\n",
    "from scipy.optimize import minimize\n",
    "from tqdm import tqdm\n",
    "from xgboost import XGBRegressor\n",
    "import copy"
   ]
  },
  {
   "cell_type": "code",
   "execution_count": 2,
   "metadata": {},
   "outputs": [],
   "source": [
    "#data\n",
    "train=pd.read_csv(\"dataset/train_features.csv\")\n",
    "y=pd.read_csv(\"dataset/train_labels.csv\")\n",
    "test=pd.read_csv(\"dataset/test_features.csv\")\n",
    "ss=pd.read_csv(\"dataset/submission_format.csv\")"
   ]
  },
  {
   "cell_type": "code",
   "execution_count": 3,
   "metadata": {},
   "outputs": [
    {
     "data": {
      "text/html": [
       "<div>\n",
       "<style scoped>\n",
       "    .dataframe tbody tr th:only-of-type {\n",
       "        vertical-align: middle;\n",
       "    }\n",
       "\n",
       "    .dataframe tbody tr th {\n",
       "        vertical-align: top;\n",
       "    }\n",
       "\n",
       "    .dataframe thead th {\n",
       "        text-align: right;\n",
       "    }\n",
       "</style>\n",
       "<table border=\"1\" class=\"dataframe\">\n",
       "  <thead>\n",
       "    <tr style=\"text-align: right;\">\n",
       "      <th></th>\n",
       "      <th>uid</th>\n",
       "      <th>age_03</th>\n",
       "      <th>urban_03</th>\n",
       "      <th>married_03</th>\n",
       "      <th>n_mar_03</th>\n",
       "      <th>edu_gru_03</th>\n",
       "      <th>n_living_child_03</th>\n",
       "      <th>migration_03</th>\n",
       "      <th>glob_hlth_03</th>\n",
       "      <th>adl_dress_03</th>\n",
       "      <th>...</th>\n",
       "      <th>rrelgimp_12</th>\n",
       "      <th>rrfcntx_m_12</th>\n",
       "      <th>rsocact_m_12</th>\n",
       "      <th>rrelgwk_12</th>\n",
       "      <th>a16a_12</th>\n",
       "      <th>a21_12</th>\n",
       "      <th>a22_12</th>\n",
       "      <th>a33b_12</th>\n",
       "      <th>a34_12</th>\n",
       "      <th>j11_12</th>\n",
       "    </tr>\n",
       "  </thead>\n",
       "  <tbody>\n",
       "    <tr>\n",
       "      <th>0</th>\n",
       "      <td>aace</td>\n",
       "      <td>NaN</td>\n",
       "      <td>NaN</td>\n",
       "      <td>NaN</td>\n",
       "      <td>NaN</td>\n",
       "      <td>NaN</td>\n",
       "      <td>NaN</td>\n",
       "      <td>NaN</td>\n",
       "      <td>NaN</td>\n",
       "      <td>NaN</td>\n",
       "      <td>...</td>\n",
       "      <td>2.somewhat important</td>\n",
       "      <td>9.Never</td>\n",
       "      <td>9.Never</td>\n",
       "      <td>0.No</td>\n",
       "      <td>NaN</td>\n",
       "      <td>NaN</td>\n",
       "      <td>NaN</td>\n",
       "      <td>NaN</td>\n",
       "      <td>NaN</td>\n",
       "      <td>Concrete 2</td>\n",
       "    </tr>\n",
       "    <tr>\n",
       "      <th>1</th>\n",
       "      <td>aanz</td>\n",
       "      <td>NaN</td>\n",
       "      <td>NaN</td>\n",
       "      <td>NaN</td>\n",
       "      <td>NaN</td>\n",
       "      <td>NaN</td>\n",
       "      <td>NaN</td>\n",
       "      <td>NaN</td>\n",
       "      <td>NaN</td>\n",
       "      <td>NaN</td>\n",
       "      <td>...</td>\n",
       "      <td>1.very important</td>\n",
       "      <td>9.Never</td>\n",
       "      <td>1.Almost every day</td>\n",
       "      <td>0.No</td>\n",
       "      <td>NaN</td>\n",
       "      <td>NaN</td>\n",
       "      <td>NaN</td>\n",
       "      <td>NaN</td>\n",
       "      <td>NaN</td>\n",
       "      <td>Concrete 2</td>\n",
       "    </tr>\n",
       "  </tbody>\n",
       "</table>\n",
       "<p>2 rows × 184 columns</p>\n",
       "</div>"
      ],
      "text/plain": [
       "    uid age_03 urban_03 married_03  n_mar_03 edu_gru_03 n_living_child_03  \\\n",
       "0  aace    NaN      NaN        NaN       NaN        NaN               NaN   \n",
       "1  aanz    NaN      NaN        NaN       NaN        NaN               NaN   \n",
       "\n",
       "   migration_03 glob_hlth_03  adl_dress_03  ...           rrelgimp_12  \\\n",
       "0           NaN          NaN           NaN  ...  2.somewhat important   \n",
       "1           NaN          NaN           NaN  ...      1.very important   \n",
       "\n",
       "   rrfcntx_m_12        rsocact_m_12  rrelgwk_12  a16a_12  a21_12  a22_12  \\\n",
       "0       9.Never             9.Never        0.No      NaN     NaN     NaN   \n",
       "1       9.Never  1.Almost every day        0.No      NaN     NaN     NaN   \n",
       "\n",
       "   a33b_12  a34_12      j11_12  \n",
       "0      NaN     NaN  Concrete 2  \n",
       "1      NaN     NaN  Concrete 2  \n",
       "\n",
       "[2 rows x 184 columns]"
      ]
     },
     "execution_count": 3,
     "metadata": {},
     "output_type": "execute_result"
    }
   ],
   "source": [
    "train.head(2)"
   ]
  },
  {
   "cell_type": "code",
   "execution_count": 4,
   "metadata": {},
   "outputs": [
    {
     "data": {
      "text/html": [
       "<div>\n",
       "<style scoped>\n",
       "    .dataframe tbody tr th:only-of-type {\n",
       "        vertical-align: middle;\n",
       "    }\n",
       "\n",
       "    .dataframe tbody tr th {\n",
       "        vertical-align: top;\n",
       "    }\n",
       "\n",
       "    .dataframe thead th {\n",
       "        text-align: right;\n",
       "    }\n",
       "</style>\n",
       "<table border=\"1\" class=\"dataframe\">\n",
       "  <thead>\n",
       "    <tr style=\"text-align: right;\">\n",
       "      <th></th>\n",
       "      <th>uid</th>\n",
       "      <th>age_03</th>\n",
       "      <th>urban_03</th>\n",
       "      <th>married_03</th>\n",
       "      <th>n_mar_03</th>\n",
       "      <th>edu_gru_03</th>\n",
       "      <th>n_living_child_03</th>\n",
       "      <th>migration_03</th>\n",
       "      <th>glob_hlth_03</th>\n",
       "      <th>adl_dress_03</th>\n",
       "      <th>...</th>\n",
       "      <th>rrelgimp_12</th>\n",
       "      <th>rrfcntx_m_12</th>\n",
       "      <th>rsocact_m_12</th>\n",
       "      <th>rrelgwk_12</th>\n",
       "      <th>a16a_12</th>\n",
       "      <th>a21_12</th>\n",
       "      <th>a22_12</th>\n",
       "      <th>a33b_12</th>\n",
       "      <th>a34_12</th>\n",
       "      <th>j11_12</th>\n",
       "    </tr>\n",
       "  </thead>\n",
       "  <tbody>\n",
       "    <tr>\n",
       "      <th>0</th>\n",
       "      <td>abxu</td>\n",
       "      <td>NaN</td>\n",
       "      <td>NaN</td>\n",
       "      <td>NaN</td>\n",
       "      <td>NaN</td>\n",
       "      <td>NaN</td>\n",
       "      <td>NaN</td>\n",
       "      <td>NaN</td>\n",
       "      <td>NaN</td>\n",
       "      <td>NaN</td>\n",
       "      <td>...</td>\n",
       "      <td>NaN</td>\n",
       "      <td>NaN</td>\n",
       "      <td>NaN</td>\n",
       "      <td>NaN</td>\n",
       "      <td>NaN</td>\n",
       "      <td>NaN</td>\n",
       "      <td>NaN</td>\n",
       "      <td>NaN</td>\n",
       "      <td>NaN</td>\n",
       "      <td>Wood, mosaic, or other covering 1</td>\n",
       "    </tr>\n",
       "    <tr>\n",
       "      <th>1</th>\n",
       "      <td>aeol</td>\n",
       "      <td>NaN</td>\n",
       "      <td>NaN</td>\n",
       "      <td>NaN</td>\n",
       "      <td>NaN</td>\n",
       "      <td>NaN</td>\n",
       "      <td>NaN</td>\n",
       "      <td>NaN</td>\n",
       "      <td>NaN</td>\n",
       "      <td>NaN</td>\n",
       "      <td>...</td>\n",
       "      <td>1.very important</td>\n",
       "      <td>9.Never</td>\n",
       "      <td>9.Never</td>\n",
       "      <td>1.Yes</td>\n",
       "      <td>NaN</td>\n",
       "      <td>NaN</td>\n",
       "      <td>NaN</td>\n",
       "      <td>NaN</td>\n",
       "      <td>NaN</td>\n",
       "      <td>Concrete 2</td>\n",
       "    </tr>\n",
       "  </tbody>\n",
       "</table>\n",
       "<p>2 rows × 184 columns</p>\n",
       "</div>"
      ],
      "text/plain": [
       "    uid age_03 urban_03 married_03  n_mar_03 edu_gru_03 n_living_child_03  \\\n",
       "0  abxu    NaN      NaN        NaN       NaN        NaN               NaN   \n",
       "1  aeol    NaN      NaN        NaN       NaN        NaN               NaN   \n",
       "\n",
       "   migration_03 glob_hlth_03  adl_dress_03  ...       rrelgimp_12  \\\n",
       "0           NaN          NaN           NaN  ...               NaN   \n",
       "1           NaN          NaN           NaN  ...  1.very important   \n",
       "\n",
       "   rrfcntx_m_12  rsocact_m_12  rrelgwk_12  a16a_12  a21_12  a22_12  a33b_12  \\\n",
       "0           NaN           NaN         NaN      NaN     NaN     NaN      NaN   \n",
       "1       9.Never       9.Never       1.Yes      NaN     NaN     NaN      NaN   \n",
       "\n",
       "   a34_12                             j11_12  \n",
       "0     NaN  Wood, mosaic, or other covering 1  \n",
       "1     NaN                         Concrete 2  \n",
       "\n",
       "[2 rows x 184 columns]"
      ]
     },
     "execution_count": 4,
     "metadata": {},
     "output_type": "execute_result"
    }
   ],
   "source": [
    "test.head(2)"
   ]
  },
  {
   "cell_type": "code",
   "execution_count": 5,
   "metadata": {},
   "outputs": [
    {
     "name": "stdout",
     "output_type": "stream",
     "text": [
      "<class 'pandas.core.frame.DataFrame'>\n",
      "RangeIndex: 3276 entries, 0 to 3275\n",
      "Columns: 184 entries, uid to j11_12\n",
      "dtypes: float64(140), object(44)\n",
      "memory usage: 4.6+ MB\n"
     ]
    }
   ],
   "source": [
    "train.info()"
   ]
  },
  {
   "cell_type": "code",
   "execution_count": 6,
   "metadata": {},
   "outputs": [],
   "source": [
    "#let merge train and label\n",
    "merged_df = pd.merge(train, y, on='uid', how='left')"
   ]
  },
  {
   "cell_type": "code",
   "execution_count": 7,
   "metadata": {},
   "outputs": [
    {
     "data": {
      "text/plain": [
       "0       2021\n",
       "1       2021\n",
       "2       2016\n",
       "3       2021\n",
       "4       2021\n",
       "        ... \n",
       "4338    2021\n",
       "4339    2016\n",
       "4340    2021\n",
       "4341    2021\n",
       "4342    2021\n",
       "Name: year, Length: 4343, dtype: int64"
      ]
     },
     "execution_count": 7,
     "metadata": {},
     "output_type": "execute_result"
    }
   ],
   "source": [
    "merged_df[\"year\"]"
   ]
  },
  {
   "cell_type": "code",
   "execution_count": 8,
   "metadata": {},
   "outputs": [
    {
     "data": {
      "text/plain": [
       "uid                   0\n",
       "age_03             1456\n",
       "urban_03           1454\n",
       "married_03         1454\n",
       "n_mar_03           1482\n",
       "                   ... \n",
       "a33b_12            4288\n",
       "a34_12             1601\n",
       "j11_12               89\n",
       "year                  0\n",
       "composite_score       0\n",
       "Length: 186, dtype: int64"
      ]
     },
     "execution_count": 8,
     "metadata": {},
     "output_type": "execute_result"
    }
   ],
   "source": [
    "#so many missing values\n",
    "merged_df.isnull().sum()"
   ]
  },
  {
   "cell_type": "code",
   "execution_count": 9,
   "metadata": {},
   "outputs": [],
   "source": [
    "#lets merged test AND sample submission\n",
    "merged_test = pd.merge(test, ss, on='uid', how='left')"
   ]
  },
  {
   "cell_type": "code",
   "execution_count": 10,
   "metadata": {},
   "outputs": [
    {
     "data": {
      "text/plain": [
       "0       2016\n",
       "1       2016\n",
       "2       2021\n",
       "3       2016\n",
       "4       2021\n",
       "        ... \n",
       "1100    2016\n",
       "1101    2021\n",
       "1102    2016\n",
       "1103    2021\n",
       "1104    2021\n",
       "Name: year, Length: 1105, dtype: int64"
      ]
     },
     "execution_count": 10,
     "metadata": {},
     "output_type": "execute_result"
    }
   ],
   "source": [
    "merged_test[\"year\"]"
   ]
  },
  {
   "cell_type": "code",
   "execution_count": 11,
   "metadata": {},
   "outputs": [
    {
     "data": {
      "text/plain": [
       "<Axes: title={'center': 'Target Distribution'}, ylabel='Frequency'>"
      ]
     },
     "execution_count": 11,
     "metadata": {},
     "output_type": "execute_result"
    },
    {
     "data": {
      "image/png": "[encoded data removed]",
      "text/plain": [
       "<Figure size 640x480 with 1 Axes>"
      ]
     },
     "metadata": {},
     "output_type": "display_data"
    }
   ],
   "source": [
    "merged_df['composite_score'].plot(kind='hist',title='Target Distribution')"
   ]
  },
  {
   "cell_type": "code",
   "execution_count": 12,
   "metadata": {},
   "outputs": [],
   "source": [
    "# create new features by combining 2003 and 2012 scores and numbering ordinal variables\n",
    "def feature_engineering(data):\n",
    "    data['rjob_hrswk_change'] = (data['rjob_hrswk_12'] - data['rjob_hrswk_03']).astype(float)\n",
    "    data['max_work_year']=data[['rjob_end_12','rjob_end_03']].max(axis=1).astype(float)\n",
    "    data['years_since_work']=(data['year']-data['max_work_year']).astype(float)\n",
    "    data['hincome_change']=(data['hincome_12']-data['hincome_03']).astype(float)\n",
    "    data['niadl_change']=(data['n_iadl_12']-data['n_iadl_03']).astype(float)\n",
    "    data['adl_change']=(data['n_adl_12']-data['n_adl_03']).astype(float)\n",
    "    data['depr_change']=(data['n_depr_12']-data['n_depr_03']).astype(float)\n",
    "    data['glob_hlth_03']=data['glob_hlth_03'].replace({'5. Poor':0, '4. Fair':1, '3. Good':2, '2. Very good': 3, '1. Excellent':4}).astype(float)\n",
    "    data['glob_hlth_12']=data['glob_hlth_12'].replace({'5. Poor':0, '4. Fair':1, '3. Good':2, '2. Very good': 3, '1. Excellent':4}).astype(float)\n",
    "    data['glob_hlth_change']=(data['glob_hlth_12']-data['glob_hlth_03']).astype(float)\n",
    "    data['bmi_03']=data['bmi_03'].replace({'1. Underweight': 1, '2. Normal weight': 2, '3. Overweight':3, '4. Obese':4, '5. Morbidly obese':5}).astype(float)\n",
    "    data['bmi_12']=data['bmi_12'].replace({'1. Underweight': 1, '2. Normal weight': 2, '3. Overweight':3, '4. Obese':4, '5. Morbidly obese':5}).astype(float)\n",
    "    data['bmi_change']=(data['bmi_12']-data['bmi_03']).astype(float)\n",
    "    data['employment_03']=data['employment_03'].replace({'1. Currently Working': 'Working', '2. Currently looking for work':'Looking for work', '3. Dedicated to household chores': 'House', '4. Retired, incapacitated, or does not work': 'No work'})\n",
    "    data['employment_12']=data['employment_12'].replace({'1. Currently Working': 'Working', '2. Currently looking for work':'Looking for work', '3. Dedicated to household chores': 'House', '4. Retired, incapacitated, or does not work': 'No work'})\n",
    "    data['memory_12']=data['memory_12'].replace({'5. Poor':0, '4. Fair':1, '3. Good':2, '2. Very good': 3, '1. Excellent':4}).astype(float)\n",
    "    data['edu_gru_03']=data['edu_gru_03'].replace({'0. No education':0,'1. 1–5 years':1, '2. 6 years':2, '3. 7–9 years':3,'4. 10+ years':4}).astype(float)\n",
    "    data['edu_gru_12']=data['edu_gru_12'].replace({'0. No education':0,'1. 1–5 years':1, '2. 6 years':2, '3. 7–9 years':3,'4. 10+ years':4}).astype(float)\n",
    "    data['edu_gru_change']=(data['edu_gru_12']-data['edu_gru_03']).astype(float)\n",
    "    data['illnesses_change']=(data['n_illnesses_12']-data['n_illnesses_03']).astype(float)\n",
    "    return data"
   ]
  },
  {
   "cell_type": "code",
   "execution_count": 14,
   "metadata": {},
   "outputs": [
    {
     "name": "stderr",
     "output_type": "stream",
     "text": [
      "/tmp/ipykernel_992588/2658724754.py:10: FutureWarning: Downcasting behavior in `replace` is deprecated and will be removed in a future version. To retain the old behavior, explicitly call `result.infer_objects(copy=False)`. To opt-in to the future behavior, set `pd.set_option('future.no_silent_downcasting', True)`\n",
      "  data['glob_hlth_03']=data['glob_hlth_03'].replace({'5. Poor':0, '4. Fair':1, '3. Good':2, '2. Very good': 3, '1. Excellent':4}).astype(float)\n",
      "/tmp/ipykernel_992588/2658724754.py:11: FutureWarning: Downcasting behavior in `replace` is deprecated and will be removed in a future version. To retain the old behavior, explicitly call `result.infer_objects(copy=False)`. To opt-in to the future behavior, set `pd.set_option('future.no_silent_downcasting', True)`\n",
      "  data['glob_hlth_12']=data['glob_hlth_12'].replace({'5. Poor':0, '4. Fair':1, '3. Good':2, '2. Very good': 3, '1. Excellent':4}).astype(float)\n",
      "/tmp/ipykernel_992588/2658724754.py:13: FutureWarning: Downcasting behavior in `replace` is deprecated and will be removed in a future version. To retain the old behavior, explicitly call `result.infer_objects(copy=False)`. To opt-in to the future behavior, set `pd.set_option('future.no_silent_downcasting', True)`\n",
      "  data['bmi_03']=data['bmi_03'].replace({'1. Underweight': 1, '2. Normal weight': 2, '3. Overweight':3, '4. Obese':4, '5. Morbidly obese':5}).astype(float)\n",
      "/tmp/ipykernel_992588/2658724754.py:14: FutureWarning: Downcasting behavior in `replace` is deprecated and will be removed in a future version. To retain the old behavior, explicitly call `result.infer_objects(copy=False)`. To opt-in to the future behavior, set `pd.set_option('future.no_silent_downcasting', True)`\n",
      "  data['bmi_12']=data['bmi_12'].replace({'1. Underweight': 1, '2. Normal weight': 2, '3. Overweight':3, '4. Obese':4, '5. Morbidly obese':5}).astype(float)\n",
      "/tmp/ipykernel_992588/2658724754.py:18: FutureWarning: Downcasting behavior in `replace` is deprecated and will be removed in a future version. To retain the old behavior, explicitly call `result.infer_objects(copy=False)`. To opt-in to the future behavior, set `pd.set_option('future.no_silent_downcasting', True)`\n",
      "  data['memory_12']=data['memory_12'].replace({'5. Poor':0, '4. Fair':1, '3. Good':2, '2. Very good': 3, '1. Excellent':4}).astype(float)\n",
      "/tmp/ipykernel_992588/2658724754.py:19: FutureWarning: Downcasting behavior in `replace` is deprecated and will be removed in a future version. To retain the old behavior, explicitly call `result.infer_objects(copy=False)`. To opt-in to the future behavior, set `pd.set_option('future.no_silent_downcasting', True)`\n",
      "  data['edu_gru_03']=data['edu_gru_03'].replace({'0. No education':0,'1. 1–5 years':1, '2. 6 years':2, '3. 7–9 years':3,'4. 10+ years':4}).astype(float)\n",
      "/tmp/ipykernel_992588/2658724754.py:20: FutureWarning: Downcasting behavior in `replace` is deprecated and will be removed in a future version. To retain the old behavior, explicitly call `result.infer_objects(copy=False)`. To opt-in to the future behavior, set `pd.set_option('future.no_silent_downcasting', True)`\n",
      "  data['edu_gru_12']=data['edu_gru_12'].replace({'0. No education':0,'1. 1–5 years':1, '2. 6 years':2, '3. 7–9 years':3,'4. 10+ years':4}).astype(float)\n"
     ]
    }
   ],
   "source": [
    "y=merged_df['composite_score']\n",
    "data=pd.concat((merged_df,merged_test)).reset_index(drop=True).copy()\n",
    "data = feature_engineering(data)\n",
    "data=data.drop(columns=['uid','composite_score'],axis=1)\n",
    "\n",
    "# Get the columns with object datatype\n",
    "object_cols = data.select_dtypes(include=['object']).columns\n",
    "\n",
    "# Convert the object columns to category dtype\n",
    "for col in object_cols:\n",
    "    #data[col] = data[col].astype('category').fillna(\"Missing\")\n",
    "    data[col] = pd.Categorical(data[col].fillna(\"Missing\"))"
   ]
  },
  {
   "cell_type": "code",
   "execution_count": 15,
   "metadata": {},
   "outputs": [],
   "source": [
    "#separate train and test\n",
    "merged_df=data[:len(merged_df)]\n",
    "merged_test=data[len(merged_df):]"
   ]
  },
  {
   "cell_type": "code",
   "execution_count": 16,
   "metadata": {},
   "outputs": [
    {
     "data": {
      "text/plain": [
       "(4343, 195)"
      ]
     },
     "execution_count": 16,
     "metadata": {},
     "output_type": "execute_result"
    }
   ],
   "source": [
    "merged_df.shape"
   ]
  },
  {
   "cell_type": "code",
   "execution_count": null,
   "metadata": {},
   "outputs": [],
   "source": [
    "# Define the number of folds\n",
    "kf = KFold(n_splits=5, shuffle=True, random_state=42)\n",
    "\n",
    "# Placeholder for storing results\n",
    "fold_results = []\n",
    "optimized_weights_list = []\n",
    "\n",
    "for train_index, val_index in tqdm(kf.split(merged_df)):\n",
    "    # Split the data\n",
    "    train_X, val_X = merged_df.iloc[train_index], merged_df.iloc[val_index]\n",
    "    train_y, val_y = y.iloc[train_index], y.iloc[val_index]\n",
    "\n",
    "    # Train LightGBM\n",
    "    train_data = lgb.Dataset(train_X, label=train_y, categorical_feature='auto')\n",
    "    val_data = lgb.Dataset(val_X, label=val_y, categorical_feature='auto')\n",
    "\n",
    "    # Define parameters\n",
    "    params = {\n",
    "        'objective': 'regression',  # default for regression\n",
    "        'metric': 'rmse',\n",
    "        'learning_rate': 0.01,\n",
    "        'n_estimators': 10000,\n",
    "        'random_seed': 42\n",
    "    }\n",
    "\n",
    "    # Train the model with early stopping\n",
    "    model1 = lgb.train(\n",
    "        params,\n",
    "        train_data,\n",
    "        valid_sets=[val_data],\n",
    "        callbacks=[\n",
    "            lgb.early_stopping(stopping_rounds=500, verbose=True),\n",
    "        ]\n",
    "    )\n",
    "    pred1 = model1.predict(val_X, num_iteration=model1.best_iteration)\n",
    "\n",
    "    # Train CatBoost\n",
    "    model2 = CatBoostRegressor(\n",
    "        iterations=10000, learning_rate=0.01, depth=10, loss_function='RMSE',\n",
    "        cat_features=merged_df.select_dtypes(include=['object', 'category']).columns.to_list(),\n",
    "        verbose=100, early_stopping_rounds=500\n",
    "    )\n",
    "    model2.fit(train_X, train_y, eval_set=(val_X, val_y))\n",
    "    pred2 = model2.predict(val_X)\n",
    "    \n",
    "    # Train XGBoost\n",
    "    model3 = XGBRegressor(n_estimators=10000, learning_rate=0.01,\n",
    "        max_depth=3, random_state=42, \n",
    "        enable_categorical=True,\n",
    "        eval_metric=root_mean_squared_error,\n",
    "        early_stopping_rounds=500)\n",
    "    model3.fit(train_X, train_y, eval_set=[(val_X, val_y)], verbose=100)\n",
    "    pred3 = model3.predict(val_X)\n",
    "\n",
    "    # Define loss function for weight optimization\n",
    "    def loss_function(weights):\n",
    "        w1, w2, w3 = weights\n",
    "        combined_predictions = w1 * pred1 + w2 * pred2 + w3 * pred3\n",
    "        mse = np.mean((combined_predictions - val_y) ** 2)\n",
    "        return mse\n",
    "\n",
    "    # Initial weights\n",
    "    initial_weights = [1/3, 1/3, 1/3]\n",
    "\n",
    "    # Constraints: weights must sum to 1\n",
    "    constraints = {'type': 'eq', 'fun': lambda w: w[0] + w[1] + w[2] - 1}\n",
    "\n",
    "    # Bounds: weights must be between 0 and 1\n",
    "    bounds = [(0, 1), (0, 1), (0, 1)]\n",
    "\n",
    "    # Optimize weights\n",
    "    result = minimize(loss_function, initial_weights, constraints=constraints, bounds=bounds)\n",
    "    optimized_weights = result.x\n",
    "\n",
    "    # Combine predictions using optimized weights\n",
    "    final_predictions = (\n",
    "        optimized_weights[0] * pred1 +\n",
    "        optimized_weights[1] * pred2 +\n",
    "        optimized_weights[2] * pred3\n",
    "    )\n",
    "\n",
    "    # Store results\n",
    "    fold_mse = root_mean_squared_error(val_y, final_predictions)  # RMSE\n",
    "    fold_results.append(fold_mse)\n",
    "    optimized_weights_list.append(optimized_weights)\n",
    "\n",
    "# Display results\n",
    "print(f\"Average MSE across folds: {np.mean(fold_results)}\")\n",
    "print(f\"Optimized weights per fold: {optimized_weights_list}\")\n"
   ]
  },
  {
   "cell_type": "code",
   "execution_count": 19,
   "metadata": {},
   "outputs": [
    {
     "name": "stdout",
     "output_type": "stream",
     "text": [
      "Average MSE across folds: 37.17227979380351\n"
     ]
    }
   ],
   "source": [
    "print(f\"Average MSE across folds: {np.mean(fold_results)}\")"
   ]
  },
  {
   "cell_type": "code",
   "execution_count": 20,
   "metadata": {},
   "outputs": [
    {
     "data": {
      "text/plain": [
       "array([0.24579799, 0.52540887, 0.22879314])"
      ]
     },
     "execution_count": 20,
     "metadata": {},
     "output_type": "execute_result"
    }
   ],
   "source": [
    "np.mean(optimized_weights_list, axis=0)"
   ]
  },
  {
   "cell_type": "code",
   "execution_count": null,
   "metadata": {},
   "outputs": [
    {
     "name": "stderr",
     "output_type": "stream",
     "text": [
      "/u/spa-d4/grad/mfe261/Projects/PREPARE/envs/lib/python3.9/site-packages/lightgbm/engine.py:204: UserWarning: Found `n_estimators` in params. Will use it instead of argument\n",
      "  _log_warning(f\"Found `{alias}` in params. Will use it instead of argument\")\n"
     ]
    },
    {
     "name": "stdout",
     "output_type": "stream",
     "text": [
      "[LightGBM] [Info] Auto-choosing row-wise multi-threading, the overhead of testing was 0.002010 seconds.\n",
      "You can set `force_row_wise=true` to remove the overhead.\n",
      "And if memory is not enough, you can set `force_col_wise=true`.\n",
      "[LightGBM] [Info] Total Bins 2030\n",
      "[LightGBM] [Info] Number of data points in the train set: 4343, number of used features: 195\n",
      "[LightGBM] [Info] Start training from score 157.016809\n",
      "0:\tlearn: 60.6706359\ttotal: 5.01ms\tremaining: 50.1s\n",
      "100:\tlearn: 45.1469297\ttotal: 2.19s\tremaining: 3m 34s\n",
      "200:\tlearn: 39.1364111\ttotal: 4.54s\tremaining: 3m 41s\n",
      "300:\tlearn: 35.8111622\ttotal: 7.04s\tremaining: 3m 46s\n",
      "400:\tlearn: 33.7047091\ttotal: 9.47s\tremaining: 3m 46s\n",
      "500:\tlearn: 32.1122361\ttotal: 11.9s\tremaining: 3m 46s\n",
      "600:\tlearn: 30.7861504\ttotal: 14.5s\tremaining: 3m 46s\n",
      "700:\tlearn: 29.6481136\ttotal: 17.3s\tremaining: 3m 49s\n",
      "800:\tlearn: 28.6747853\ttotal: 20s\tremaining: 3m 49s\n",
      "900:\tlearn: 27.7920805\ttotal: 22.7s\tremaining: 3m 49s\n",
      "1000:\tlearn: 26.9744507\ttotal: 25.5s\tremaining: 3m 49s\n",
      "1100:\tlearn: 26.2333420\ttotal: 28.3s\tremaining: 3m 48s\n",
      "1200:\tlearn: 25.5219533\ttotal: 31.3s\tremaining: 3m 49s\n",
      "1300:\tlearn: 24.9012612\ttotal: 34.2s\tremaining: 3m 48s\n",
      "1400:\tlearn: 24.2192386\ttotal: 37.3s\tremaining: 3m 48s\n",
      "1500:\tlearn: 23.5690407\ttotal: 40.3s\tremaining: 3m 47s\n",
      "1600:\tlearn: 23.0208701\ttotal: 43.2s\tremaining: 3m 46s\n",
      "1700:\tlearn: 22.4183496\ttotal: 46.3s\tremaining: 3m 45s\n",
      "1800:\tlearn: 21.8250388\ttotal: 49.2s\tremaining: 3m 44s\n",
      "1900:\tlearn: 21.2548819\ttotal: 52.1s\tremaining: 3m 41s\n",
      "2000:\tlearn: 20.7353817\ttotal: 55s\tremaining: 3m 39s\n",
      "2100:\tlearn: 20.2018202\ttotal: 57.9s\tremaining: 3m 37s\n",
      "2200:\tlearn: 19.7175311\ttotal: 1m\tremaining: 3m 35s\n",
      "2300:\tlearn: 19.2933891\ttotal: 1m 3s\tremaining: 3m 33s\n",
      "2400:\tlearn: 18.8834159\ttotal: 1m 6s\tremaining: 3m 31s\n",
      "2500:\tlearn: 18.4826053\ttotal: 1m 9s\tremaining: 3m 29s\n",
      "2600:\tlearn: 18.1223336\ttotal: 1m 12s\tremaining: 3m 27s\n",
      "2700:\tlearn: 17.8230903\ttotal: 1m 15s\tremaining: 3m 25s\n",
      "2800:\tlearn: 17.4829108\ttotal: 1m 18s\tremaining: 3m 22s\n",
      "2900:\tlearn: 17.1565442\ttotal: 1m 21s\tremaining: 3m 20s\n",
      "3000:\tlearn: 16.8167499\ttotal: 1m 24s\tremaining: 3m 17s\n",
      "3100:\tlearn: 16.4934565\ttotal: 1m 27s\tremaining: 3m 15s\n",
      "3200:\tlearn: 16.1946755\ttotal: 1m 30s\tremaining: 3m 12s\n",
      "3300:\tlearn: 15.8919306\ttotal: 1m 33s\tremaining: 3m 10s\n",
      "3400:\tlearn: 15.5935752\ttotal: 1m 36s\tremaining: 3m 7s\n",
      "3500:\tlearn: 15.3398997\ttotal: 1m 39s\tremaining: 3m 5s\n",
      "3600:\tlearn: 15.0667628\ttotal: 1m 42s\tremaining: 3m 2s\n",
      "3700:\tlearn: 14.8179294\ttotal: 1m 45s\tremaining: 3m\n",
      "3800:\tlearn: 14.5927804\ttotal: 1m 48s\tremaining: 2m 57s\n",
      "3900:\tlearn: 14.3565150\ttotal: 1m 51s\tremaining: 2m 54s\n",
      "4000:\tlearn: 14.1295224\ttotal: 1m 54s\tremaining: 2m 52s\n",
      "4100:\tlearn: 13.8956108\ttotal: 1m 58s\tremaining: 2m 49s\n",
      "4200:\tlearn: 13.6791863\ttotal: 2m 1s\tremaining: 2m 47s\n",
      "4300:\tlearn: 13.4319041\ttotal: 2m 4s\tremaining: 2m 44s\n",
      "4400:\tlearn: 13.2479084\ttotal: 2m 7s\tremaining: 2m 41s\n",
      "4500:\tlearn: 13.0314234\ttotal: 2m 10s\tremaining: 2m 39s\n",
      "4600:\tlearn: 12.8403881\ttotal: 2m 13s\tremaining: 2m 36s\n",
      "4700:\tlearn: 12.6260784\ttotal: 2m 16s\tremaining: 2m 34s\n",
      "4800:\tlearn: 12.4249301\ttotal: 2m 19s\tremaining: 2m 31s\n",
      "4900:\tlearn: 12.1974478\ttotal: 2m 22s\tremaining: 2m 28s\n",
      "5000:\tlearn: 11.9820822\ttotal: 2m 25s\tremaining: 2m 25s\n",
      "5100:\tlearn: 11.7708254\ttotal: 2m 29s\tremaining: 2m 23s\n",
      "5200:\tlearn: 11.5620095\ttotal: 2m 32s\tremaining: 2m 20s\n",
      "5300:\tlearn: 11.3949467\ttotal: 2m 35s\tremaining: 2m 17s\n",
      "5400:\tlearn: 11.2067626\ttotal: 2m 38s\tremaining: 2m 14s\n",
      "5500:\tlearn: 11.0063516\ttotal: 2m 41s\tremaining: 2m 11s\n",
      "5600:\tlearn: 10.8343975\ttotal: 2m 44s\tremaining: 2m 9s\n",
      "5700:\tlearn: 10.6738791\ttotal: 2m 47s\tremaining: 2m 6s\n",
      "5800:\tlearn: 10.5216598\ttotal: 2m 50s\tremaining: 2m 3s\n",
      "5900:\tlearn: 10.3404130\ttotal: 2m 53s\tremaining: 2m\n",
      "6000:\tlearn: 10.1929364\ttotal: 2m 56s\tremaining: 1m 57s\n",
      "6100:\tlearn: 10.0316053\ttotal: 2m 59s\tremaining: 1m 54s\n",
      "6200:\tlearn: 9.8862555\ttotal: 3m 2s\tremaining: 1m 51s\n",
      "6300:\tlearn: 9.7282211\ttotal: 3m 5s\tremaining: 1m 48s\n",
      "6400:\tlearn: 9.5857856\ttotal: 3m 8s\tremaining: 1m 46s\n",
      "6500:\tlearn: 9.4332055\ttotal: 3m 11s\tremaining: 1m 43s\n",
      "6600:\tlearn: 9.3185877\ttotal: 3m 14s\tremaining: 1m 40s\n",
      "6700:\tlearn: 9.1995161\ttotal: 3m 18s\tremaining: 1m 37s\n",
      "6800:\tlearn: 9.0612500\ttotal: 3m 21s\tremaining: 1m 34s\n",
      "6900:\tlearn: 8.9414655\ttotal: 3m 24s\tremaining: 1m 31s\n",
      "7000:\tlearn: 8.8002136\ttotal: 3m 27s\tremaining: 1m 28s\n",
      "7100:\tlearn: 8.6881536\ttotal: 3m 30s\tremaining: 1m 25s\n",
      "7200:\tlearn: 8.5860575\ttotal: 3m 33s\tremaining: 1m 22s\n",
      "7300:\tlearn: 8.4729600\ttotal: 3m 36s\tremaining: 1m 20s\n",
      "7400:\tlearn: 8.3443196\ttotal: 3m 39s\tremaining: 1m 17s\n",
      "7500:\tlearn: 8.2262028\ttotal: 3m 42s\tremaining: 1m 14s\n",
      "7600:\tlearn: 8.1275808\ttotal: 3m 45s\tremaining: 1m 11s\n",
      "7700:\tlearn: 8.0103429\ttotal: 3m 48s\tremaining: 1m 8s\n",
      "7800:\tlearn: 7.9118349\ttotal: 3m 51s\tremaining: 1m 5s\n",
      "7900:\tlearn: 7.8076070\ttotal: 3m 54s\tremaining: 1m 2s\n",
      "8000:\tlearn: 7.7033755\ttotal: 3m 57s\tremaining: 59.4s\n",
      "8100:\tlearn: 7.6126451\ttotal: 4m\tremaining: 56.5s\n",
      "8200:\tlearn: 7.5105898\ttotal: 4m 4s\tremaining: 53.5s\n",
      "8300:\tlearn: 7.4036451\ttotal: 4m 7s\tremaining: 50.6s\n",
      "8400:\tlearn: 7.3147367\ttotal: 4m 10s\tremaining: 47.6s\n",
      "8500:\tlearn: 7.2267071\ttotal: 4m 13s\tremaining: 44.6s\n",
      "8600:\tlearn: 7.1303000\ttotal: 4m 16s\tremaining: 41.7s\n",
      "8700:\tlearn: 7.0332901\ttotal: 4m 19s\tremaining: 38.7s\n",
      "8800:\tlearn: 6.9415078\ttotal: 4m 22s\tremaining: 35.8s\n",
      "8900:\tlearn: 6.8573814\ttotal: 4m 25s\tremaining: 32.8s\n",
      "9000:\tlearn: 6.7682558\ttotal: 4m 28s\tremaining: 29.8s\n",
      "9100:\tlearn: 6.6880863\ttotal: 4m 32s\tremaining: 26.9s\n",
      "9200:\tlearn: 6.5966540\ttotal: 4m 35s\tremaining: 23.9s\n",
      "9300:\tlearn: 6.5259766\ttotal: 4m 38s\tremaining: 20.9s\n",
      "9400:\tlearn: 6.4256777\ttotal: 4m 41s\tremaining: 17.9s\n",
      "9500:\tlearn: 6.3494734\ttotal: 4m 44s\tremaining: 14.9s\n",
      "9600:\tlearn: 6.2831951\ttotal: 4m 47s\tremaining: 12s\n",
      "9700:\tlearn: 6.1957445\ttotal: 4m 50s\tremaining: 8.96s\n",
      "9800:\tlearn: 6.1135583\ttotal: 4m 53s\tremaining: 5.97s\n",
      "9900:\tlearn: 6.0433805\ttotal: 4m 57s\tremaining: 2.97s\n",
      "9999:\tlearn: 5.9743884\ttotal: 5m\tremaining: 0us\n",
      "Final blended predictions for the test dataset:\n",
      "[187 208 209 ... 202 182 152]\n"
     ]
    }
   ],
   "source": [
    "# Calculate the average weights from cross-validation\n",
    "average_weights = np.mean(optimized_weights_list, axis=0)\n",
    "\n",
    "# Train models on the entire training dataset\n",
    "train_data = lgb.Dataset(merged_df, label=y, categorical_feature='auto')\n",
    "\n",
    "params = {\n",
    "    'objective': 'regression',  # default for regression\n",
    "    'metric': 'rmse',\n",
    "    'learning_rate': 0.01,\n",
    "    'n_estimators': 10000,\n",
    "    'random_seed': 42\n",
    "}\n",
    "final_model1 = lgb.train(\n",
    "    params,\n",
    "    train_data\n",
    ")\n",
    "\n",
    "final_model2 = CatBoostRegressor(\n",
    "    iterations=10000, learning_rate=0.01, depth=10, loss_function='RMSE',\n",
    "    cat_features=merged_df.select_dtypes(include=['object', 'category']).columns.to_list(),\n",
    "    verbose=100\n",
    ")\n",
    "final_model2.fit(merged_df, y)\n",
    "\n",
    "final_model3 = XGBRegressor(n_estimators=10000, learning_rate=0.01,\n",
    "        max_depth=3, random_state=42, \n",
    "        enable_categorical=True,\n",
    "        eval_metric=root_mean_squared_error)\n",
    "final_model3.fit(merged_df, y)\n",
    "\n",
    "# Generate predictions on the test dataset\n",
    "test_pred1 = final_model1.predict(merged_test)\n",
    "test_pred2 = final_model2.predict(merged_test)\n",
    "test_pred3 = final_model3.predict(merged_test)\n",
    "\n",
    "# Combine the predictions using the average weights\n",
    "final_test_predictions = (\n",
    "    average_weights[0] * test_pred1 + average_weights[1] * test_pred2 + average_weights[2] * test_pred3\n",
    ")\n",
    "\n",
    "# Optionally round predictions if required (e.g., for classification tasks)\n",
    "final_test_predictions = np.round(final_test_predictions).astype(int)\n",
    "\n",
    "# Display final predictions\n",
    "print(\"Final blended predictions for the test dataset:\")\n",
    "print(final_test_predictions)\n",
    "\n",
    "ss['composite_score']=final_test_predictions\n",
    "#generate submission\n",
    "ss.to_csv('dataset/LGBM_and_CatBoost_and_XGBoost_engineering.csv', index=False)"
   ]
  },
  {
   "cell_type": "code",
   "execution_count": null,
   "metadata": {},
   "outputs": [],
   "source": []
  }
 ],
 "metadata": {
  "kernelspec": {
   "display_name": "Python 3",
   "language": "python",
   "name": "python3"
  },
  "language_info": {
   "codemirror_mode": {
    "name": "ipython",
    "version": 3
   },
   "file_extension": ".py",
   "mimetype": "text/x-python",
   "name": "python",
   "nbconvert_exporter": "python",
   "pygments_lexer": "ipython3",
   "version": "3.9.20"
  }
 },
 "nbformat": 4,
 "nbformat_minor": 2
}
